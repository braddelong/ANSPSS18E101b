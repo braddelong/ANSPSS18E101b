{
 "cells": [
  {
   "cell_type": "markdown",
   "metadata": {
    "slideshow": {
     "slide_type": "notes"
    }
   },
   "source": [
    "# 2018-02-20 Econ 101b Problem Set 7 with Draft Answers"
   ]
  },
  {
   "cell_type": "markdown",
   "metadata": {},
   "source": [
    "## Problem set will be due Wed Mar 7 at midnight...\n",
    "\n",
    "#### Sections between Tu AM & Th AM lecture will be problem set section..."
   ]
  },
  {
   "cell_type": "markdown",
   "metadata": {},
   "source": [
    "## Setting up the Python/Jupyter environment"
   ]
  },
  {
   "cell_type": "code",
   "execution_count": 1,
   "metadata": {},
   "outputs": [
    {
     "data": {
      "application/javascript": [
       "\n",
       "IPython.OutputArea.prototype._should_scroll = function(lines) {\n",
       "    return false;}"
      ],
      "text/plain": [
       "<IPython.core.display.Javascript object>"
      ]
     },
     "metadata": {},
     "output_type": "display_data"
    }
   ],
   "source": [
    "%%javascript\n",
    "\n",
    "IPython.OutputArea.prototype._should_scroll = function(lines) {\n",
    "    return false;}"
   ]
  },
  {
   "cell_type": "code",
   "execution_count": 2,
   "metadata": {
    "collapsed": true
   },
   "outputs": [],
   "source": [
    "# ABOVE CELL IS \"NO SCROLLING SUBWINDOWS\" SETUP\n",
    "#\n",
    "# keep output cells from shifting to autoscroll: little scrolling\n",
    "# subwindows within the notebook are an annoyance..."
   ]
  },
  {
   "cell_type": "code",
   "execution_count": 3,
   "metadata": {},
   "outputs": [
    {
     "name": "stderr",
     "output_type": "stream",
     "text": [
      "/Users/delong/anaconda3/lib/python3.6/site-packages/statsmodels/compat/pandas.py:56: FutureWarning: The pandas.core.datetools module is deprecated and will be removed in a future version. Please use the pandas.tseries module instead.\n",
      "  from pandas.core import datetools\n"
     ]
    }
   ],
   "source": [
    "# THIS CELL LOADS THE LIBRARIES\n",
    "#\n",
    "# set up the environment by reading in every library we might need: \n",
    "# os... graphics... data manipulation... time... math... statistics...\n",
    "\n",
    "import sys\n",
    "import os\n",
    "from urllib.request import urlretrieve\n",
    "\n",
    "import matplotlib as mpl\n",
    "import matplotlib.pyplot as plt\n",
    "from IPython.display import Image\n",
    "\n",
    "import pandas as pd\n",
    "from pandas import DataFrame, Series\n",
    "from datetime import datetime\n",
    "\n",
    "import scipy as sp\n",
    "import numpy as np\n",
    "import math\n",
    "import random\n",
    "\n",
    "import seaborn as sns\n",
    "import statsmodels\n",
    "import statsmodels.api as sm\n",
    "import statsmodels.formula.api as smf"
   ]
  },
  {
   "cell_type": "code",
   "execution_count": 4,
   "metadata": {
    "collapsed": true
   },
   "outputs": [],
   "source": [
    "# PRETTIER GRAPHICS SETUP\n",
    "#\n",
    "# graphics setup: seaborn-whitegrid and figure size;\n",
    "# graphs in the notebook itself...\n",
    "\n",
    "%matplotlib inline \n",
    "\n",
    "plt.style.use('seaborn-whitegrid')\n",
    "\n",
    "figure_size = plt.rcParams[\"figure.figsize\"]\n",
    "figure_size[0] = 12\n",
    "figure_size[1] = 10\n",
    "plt.rcParams[\"figure.figsize\"] = figure_size"
   ]
  },
  {
   "cell_type": "code",
   "execution_count": 6,
   "metadata": {},
   "outputs": [
    {
     "name": "stdout",
     "output_type": "stream",
     "text": [
      "Requirement already up-to-date: okpy in /Users/delong/anaconda3/lib/python3.6/site-packages\n",
      "Requirement already up-to-date: requests==2.12.4 in /Users/delong/anaconda3/lib/python3.6/site-packages (from okpy)\n",
      "Requirement already up-to-date: coverage==3.7.1 in /Users/delong/anaconda3/lib/python3.6/site-packages (from okpy)\n",
      "=====================================================================\n",
      "Assignment: PS7 Notebook\n",
      "OK, version v1.13.10\n",
      "=====================================================================\n",
      "\n",
      "\n",
      "Open the following URL:\n",
      "\n",
      "https://okpy.org/client/login/\n",
      "\n",
      "After logging in, copy the code from the web page and paste it into the box.\n",
      "Then press the \"Enter\" key on your keyboard.\n",
      "\n",
      "Paste your code here: 110G9RSchGy5oKKm2RkTMHYC2Tzt0k\n",
      "Successfully logged in as jbdelong@berkeley.edu\n"
     ]
    }
   ],
   "source": [
    "# THIS CELL IS THE KEY TO THE OKPY.ORG AUTOGRADER SYSTEM\n",
    "#\n",
    "# Don't change this cell; just run it. \n",
    "# The result will give you directions about how to log in to the submission system, called OK.\n",
    "# Once you're logged in, you can run this cell again, but it won't ask you who you are because\n",
    "# it remembers you. However, you will need to log in once per assignment.\n",
    "\n",
    "!pip install -U okpy\n",
    "\n",
    "from client.api.notebook import Notebook\n",
    "\n",
    "ok = Notebook('ps7.ok')\n",
    "_ = ok.auth(force=True, inline=True)"
   ]
  },
  {
   "cell_type": "markdown",
   "metadata": {},
   "source": [
    "### ⬆︎⬆︎⬆︎⬆︎⬆︎⬆︎⬆︎⬆︎⬆︎⬆︎⬆︎⬆︎⬆︎⬆︎⬆︎⬆︎\n",
    "### RUN THESE CELLS ABOVE FIRST"
   ]
  },
  {
   "cell_type": "markdown",
   "metadata": {},
   "source": [
    "# Problem Set 7 (Due Mar 7 11:59:59 PM)\n",
    "\n",
    "Due to the flu, we are going to be largely marking time with this problem set: we have not done much new, and so we are going to be filling in gaps and taking a slightly different look at things here...\n",
    "\n",
    "----\n",
    "\n",
    "&nbsp;"
   ]
  },
  {
   "cell_type": "markdown",
   "metadata": {},
   "source": [
    "## Introduction\n",
    "\n",
    "The autograder, both in the tests you run along the way as you work on the problem set and in calculating the final score, looks in the same directory as the problem set notebook for an \"ok.tests\" directory, and then runs the tests in the \"q\\*\\*.py\" files in that directory (where \"\\*\\*\" denotes a two-digit number, possibly with a leading zero). Those tests take the form of comparing a variable that should be in your namespace and seeing if it is close to some desired value that we get when we do the problem set.\n",
    "\n",
    "Thus while the problem set instructions ask you to run simulations and plot graphs, what you are tested on is whether the appropriate variables in your namespace have (close to the) right values. We do not care what code you use in order to get those variables to the right values. \n",
    "\n",
    "You can run simulations and then pick appropriate values out by slicing a series in order to get the right number. \n",
    "\n",
    "You can use your knowledge of the algebraic solution to the model to have Python calculate the answer, having first set the parameters to the right values, as in:\n",
    "\n",
    "    s = 0.24 # (say)\n",
    "    n = 0.01\n",
    "    g = 0.02\n",
    "    delta = 0.03\n",
    "    Delta_n = -0.01\n",
    "    KoverYinitial = s/(n+g+delta)\n",
    "    KoverYalternative = s/(n+Delta_n+g+delta)\n",
    "    \n",
    "You can even do all of the calculations on pen and paper, and simply code up:\n",
    "\n",
    "    KoverYinitial = 4\n",
    "    KoverYalternative = 4.8\n",
    "    \n",
    "Perhaps we should ask you to do all three—start with simulations, or with algebraic equations with set parameter values, or with full pen-and-paper calculations with only the final results entered into the notebook—and then ask you to check your results from one mode by doing the other two. But: _ars longa, vita brevis_. Focus on what works _for you_: the key is to get a sense of how economists' center-of-gravity analyses of long-run growth work, so that when you encounter such an analysis later, outside the university, you have the right intellectual panoply to evaluate it.\n",
    "\n",
    "----\n",
    "\n",
    "&nbsp;"
   ]
  },
  {
   "cell_type": "markdown",
   "metadata": {},
   "source": [
    "## Programming Dos and Don'ts...\n",
    "\n",
    "### A Running List...\n",
    "\n",
    "1. **Do** restart your kernel and run cells up to your current working point every fifteen minutes or so. Yes, it takes a little time. But if you don't, sooner or later the machine's namespace will get confused, and then you will get confused about the state of the machine's namespace, and by assuming things about it that are false you will lose hours and hours...   \n",
    "&nbsp;\n",
    "\n",
    "2. **Do** reload the page when restarting the kernel does not seem to do the job...   \n",
    "&nbsp;\n",
    "\n",
    "3. **Do** edit code cells by copying them below your current version and then working on the copy: when you break everything in the current cell (as you will), you can then go back to the old cell and start fresh...   \n",
    "&nbsp;\n",
    "\n",
    "4. **Do** exercise agile development practices: if there is a line of code that you have not tested, test it. The best way to test is to ask the machine to echo back to you the thing you have just created in its namespace to make sure that it is what you want it to be. Only after you are **certain** that your namespace contains what you think it does should you write the next line of code. And then you should immediately test it...   \n",
    "&nbsp;\n",
    "\n",
    "5. **Do** take screenshots of your error messages...   \n",
    "&nbsp;\n",
    "\n",
    "6. **Do** google your error messages: Ms. Google is your best friend here...   \n",
    "&nbsp;\n",
    "\n",
    "7. **Do not** confuse assignment (\"=\") and test for equality (\"==\"). In general, if there is an \"if\" anywhere nearby, you should be testing for equality. If there is not, you should be assignment a variable in your namespace to a value. **Do** curse the mathematicians 500 years ago who did not realize that in the twenty-first century it would be very convenient if we had different and not confusable symbols for equals-as-assignment and equals-as-test...   \n",
    "&nbsp;\n",
    "\n",
    "----\n",
    "\n",
    "&nbsp;\n",
    "\n",
    "**Thanks to**: Rachel Grossberg, Christopher Hench, Meghana Krishnakumer, Seth Lloyd, Ronald Walker..."
   ]
  },
  {
   "cell_type": "markdown",
   "metadata": {
    "deletable": false,
    "manual_grade": true,
    "manual_problem_id": "PS6TB"
   },
   "source": [
    "**(Task A) Programming Practices**\n",
    "\n",
    "If it strikes you that anything should be added to this list of programming dos and don'ts, please email it to me at <delong@econ.berkeley.edu>"
   ]
  },
  {
   "cell_type": "markdown",
   "metadata": {},
   "source": [
    "----"
   ]
  },
  {
   "cell_type": "markdown",
   "metadata": {},
   "source": [
    "**(Task B) Demographic Transtion**\n",
    "\n",
    "How much of a difference successfully passing through the demographic transition makes for an economy depends critically on the value of the production function parameter $ \\alpha $. A high value makes the demographic burdens of rapid population and labor force growth extremely expensive for an economy.\n",
    "\n",
    "Recall our steady-state balanced growth path equations for the Solow growth model:\n",
    "\n",
    "&nbsp;&nbsp;&nbsp;&nbsp;&nbsp;&nbsp;&nbsp;&nbsp;&nbsp;\n",
    "$ \\left(\\frac{K}{Y}\\right)^* =\n",
    "\\frac{s}{n+g+\\delta} $\n",
    "\n",
    "and:\n",
    "\n",
    "&nbsp;&nbsp;&nbsp;&nbsp;&nbsp;&nbsp;&nbsp;&nbsp;&nbsp;\n",
    "$ \\left(\\frac{Y}{L}\\right)^* =\n",
    "{\\left(\\frac{K}{Y}\\right)^*}\n",
    "^\\left(\\frac{\\alpha}{1-\\alpha}\\right)\n",
    "E $\n",
    "\n",
    "Assume s = 15%, g = 2% per year, $ \\delta $ = 3% per year, the initial pre-transion $ n_{ini} $ = 3% per year, the alternative post-transition $ n_{alt} $ = 0% per year. Calculate the quotient of output per worker along the steady state balanced growth path for the alternative post-transition scenario divided by output per worker for the iniital pre-transition scenario for the following value of $ \\alpha $:\n",
    "\n",
    "* $ \\alpha $ = 0.2\n",
    "* $ \\alpha $ = 0.4\n",
    "* $ \\alpha $ = 0.6\n",
    "* $ \\alpha $ = 0.8\n",
    "\n",
    "Assign your calculated values to the appropriate variables in the Code Cell for Answers for Task (B) below"
   ]
  },
  {
   "cell_type": "code",
   "execution_count": null,
   "metadata": {
    "collapsed": true
   },
   "outputs": [],
   "source": [
    "# Code Cell for Answers for Task B\n",
    "\n",
    "quotientalpha2 =\n",
    "quotientalpha4 =\n",
    "quotientalpha6 =\n",
    "quotientalpha8 ="
   ]
  },
  {
   "cell_type": "code",
   "execution_count": 7,
   "metadata": {},
   "outputs": [
    {
     "name": "stdout",
     "output_type": "stream",
     "text": [
      "1.1246826503806981 = ratio for α=0.2\n",
      "1.3679807573413576 = ratio for α=0.2\n",
      "2.023857702507762 = ratio for α=0.2\n",
      "6.5536 = ratio for α=0.2\n"
     ]
    }
   ],
   "source": [
    "# DRAFT ANSWERS FOR TASK B\n",
    "\n",
    "quotientalpha2 = 1.125\n",
    "quotientalpha4 = 1.368\n",
    "quotientalpha6 = 2.024\n",
    "quotientalpha8 = 6.554\n",
    "\n",
    "s=0.15\n",
    "g=0.02\n",
    "delta=0.03\n",
    "n_ini=0.03\n",
    "n_alt=0\n",
    "\n",
    "KoY_ini = s/(n_ini+g+delta)\n",
    "KoY_alt = s/(n_alt+g+delta)\n",
    "KoY_ratio = KoY_alt/KoY_ini\n",
    "\n",
    "alpha= 0.2\n",
    "YoL_ratio = KoY_ratio**(alpha/(1-alpha))\n",
    "print(YoL_ratio, \"= ratio for α=0.2\")\n",
    "\n",
    "alpha= 0.4\n",
    "YoL_ratio = KoY_ratio**(alpha/(1-alpha))\n",
    "print(YoL_ratio, \"= ratio for α=0.2\")\n",
    "\n",
    "alpha= 0.6\n",
    "YoL_ratio = KoY_ratio**(alpha/(1-alpha))\n",
    "print(YoL_ratio, \"= ratio for α=0.2\")\n",
    "\n",
    "alpha= 0.8\n",
    "YoL_ratio = KoY_ratio**(alpha/(1-alpha))\n",
    "print(YoL_ratio, \"= ratio for α=0.2\")"
   ]
  },
  {
   "cell_type": "code",
   "execution_count": 8,
   "metadata": {},
   "outputs": [
    {
     "name": "stdout",
     "output_type": "stream",
     "text": [
      "~~~~~~~~~~~~~~~~~~~~~~~~~~~~~~~~~~~~~~~~~~~~~~~~~~~~~~~~~~~~~~~~~~~~~\n",
      "Running tests\n",
      "\n",
      "---------------------------------------------------------------------\n",
      "Test summary\n",
      "    Passed: 4\n",
      "    Failed: 0\n",
      "[ooooooooook] 100.0% passed\n",
      "\n"
     ]
    },
    {
     "data": {
      "text/plain": [
       "{'failed': 0, 'locked': 0, 'passed': 4}"
      ]
     },
     "execution_count": 8,
     "metadata": {},
     "output_type": "execute_result"
    }
   ],
   "source": [
    "import numpy as np\n",
    "ok.grade('q01')"
   ]
  },
  {
   "cell_type": "markdown",
   "metadata": {},
   "source": [
    "----\n",
    "\n",
    "&nbsp;"
   ]
  },
  {
   "cell_type": "markdown",
   "metadata": {},
   "source": [
    "**(Task C) Cross-Country Productivity Differences I**\n",
    "\n",
    "Consider a Solow growth model economy with a capital accumulation rate that depends on the relative price of capital goods $ p_k $, because a lower price of capital goods means that a similar amount of savings sY will translate into more investment in capital, thus:\n",
    "\n",
    "&nbsp;&nbsp;&nbsp;&nbsp;&nbsp;&nbsp;&nbsp;&nbsp;&nbsp;\n",
    "$ \\frac{d\\left(ln(K)\\right)}{dt} = \n",
    "\\left(\\frac{s}{p_k}\\right)\\left(\\frac{Y}{K}\\right) - \\delta $\n",
    "\n",
    "in which the relative price of capital goods is:\n",
    "\n",
    "&nbsp;&nbsp;&nbsp;&nbsp;&nbsp;&nbsp;&nbsp;&nbsp;&nbsp;\n",
    "$ p_k = \\left(\\frac{Y}{L}\\right)^{-\\eta} $\n",
    "\n",
    "with $ \\eta $ being the Greek letter called \"eta\".\n",
    "\n",
    "The steady-state balanced-growth path capital-output ratio would then be:\n",
    "\n",
    "&nbsp;&nbsp;&nbsp;&nbsp;&nbsp;&nbsp;&nbsp;&nbsp;&nbsp;\n",
    "$ \\left(\\frac{K}{Y}\\right)^* =\n",
    "\\frac{s/p_k}{n+g+\\delta} $\n",
    "\n",
    "and output per worker along the steady-state balanced-growth path would then be:\n",
    "\n",
    "&nbsp;&nbsp;&nbsp;&nbsp;&nbsp;&nbsp;&nbsp;&nbsp;&nbsp;\n",
    "$ \\left(\\frac{Y}{L}\\right)^* =\n",
    "\\left(\\frac{s/p_k}{n+g+\\delta}\\right)\n",
    "^{\\frac{\\alpha}{1-\\alpha}}\n",
    "E $\n",
    "\n",
    "In this environment—in which high levels of the effiency of labor and output per worker carry with them a reduction in the relative price of capital goods—we seek to analyze what difference this dependence of the price of capita on prosperity makes. For this question, assume further that the economy's capital-output ratio and output per worker level is on its balanced growth path. And assume for this Task that the current level of the efficiency of labor E is equal to 1.\n",
    "\n",
    "----\n",
    "\n",
    "(1) Let the savings rate s=18%, the labor force growth rate n = 1% per year, the labor efficiency growth rate g = 2% per year, the depreciation rate $ \\delta $ = 3% per year, and the production function parameter $ \\alpha $ = 1/2.\n",
    "\n",
    "(a) what is current balanced-growth path output per worker if $ \\eta = 0 $? Set the variable YoLbg20 equal to your answer in the Code Cell for Answers for Task (C) below.\n",
    "\n",
    "(b) what is current balanced-growth path output per worker if $ \\eta = 0.1 $? Set the variable YoLbg21 equal to your answer in the Code Cell for Answers for Task (C) below.\n",
    "\n",
    "(c) what is current balanced-growth path output per worker if $ \\eta = 0.2 $? Set the variable YoLbg22 equal to your answer in the Code Cell for Answers for Task (C) below.\n",
    "\n",
    "(d) what is current balanced-growth path output per worker if $ \\eta = 0.3 $? Set the variable YoLbg23 equal to your answer in the Code Cell for Answers for Task (C) below.\n",
    "\n",
    "(e) what is current balanced-growth path output per worker if $ \\eta = 0.4 $? Set the variable YoLbg24 equal to your answer in the Code Cell for Answers for Task (C) below.\n",
    "\n",
    "(f) what is current balanced-growth path output per worker if $ \\eta = 0.5 $? Set the variable YoLbg25 equal to your answer in the Code Cell for Answers for Task (C) below.\n",
    "\n",
    "----\n",
    "\n",
    "(2) Let the savings rate s=18%, the labor force growth rate n = 1% per year, the labor efficiency growth rate g = 2% per year, the depreciation rate $ \\delta $ = 3% per year, and the production function parameter $ \\alpha $ = 3/4.\n",
    "\n",
    "(a) what is current balanced-growth path output per worker if $ \\eta = 0 $? Set the variable YoLbg30 equal to your answer in the Code Cell for Answers for Task (C) below.\n",
    "\n",
    "(b) what is current balanced-growth path output per worker if $ \\eta = 0.1 $? Set the variable YoLbg31 equal to your answer in the Code Cell for Answers for Task (C) below.\n",
    "\n",
    "(c) what is current balanced-growth path output per worker if $ \\eta = 0.2 $? Set the variable YoLbg32 equal to your answer in the Code Cell for Answers for Task (C) below.\n",
    "\n",
    "----\n",
    "\n",
    "(3) Is this method—take the Solow model balanced growth path and assume that the economy is going to be on it—a reasonable way to proceed in analyzing the question of how much difference an association of prosperity with low capital goods prices make? How might it lead to wrong conclusions? How would you test whether thoe conclusions are wrong? Write your answer in the Markdown Cell for Answers to Task C below."
   ]
  },
  {
   "cell_type": "code",
   "execution_count": null,
   "metadata": {
    "collapsed": true
   },
   "outputs": [],
   "source": [
    "# Code Cell for Answers for Task C\n",
    "\n",
    "YoLbg20 =   # (1)(a)\n",
    "YoLbg21 =   # (1)(b)\n",
    "YoLbg22 =   # (1)(c)\n",
    "YoLbg23 =   # (1)(d)\n",
    "YoLbg24 =   # (1)(e)\n",
    "YoLbg25 =   # (1)(f)\n",
    "\n",
    "YoLbg30 =   # (1)(a)\n",
    "YoLbg31 =   # (1)(b)\n",
    "YoLbg32 =   # (1)(c)"
   ]
  },
  {
   "cell_type": "code",
   "execution_count": 9,
   "metadata": {},
   "outputs": [
    {
     "data": {
      "text/plain": [
       "205891132094643.38"
      ]
     },
     "execution_count": 9,
     "metadata": {},
     "output_type": "execute_result"
    }
   ],
   "source": [
    "# DRAFT ANSWERS FOR TASK C\n",
    "\n",
    "YoLbg20 = 3.000  # (1)(a)\n",
    "YoLbg21 = 3.389  # (1)(b)\n",
    "YoLbg22 = 3.948  # (1)(c)\n",
    "YoLbg23 = 4.804  # (1)(d)\n",
    "YoLbg24 = 6.240  # (1)(e)\n",
    "YoLbg25 = 9.000  # (1)(f)\n",
    "\n",
    "YoLbg30 = 27.00  # (1)(a)\n",
    "YoLbg31 = 110.9  # (1)(b)\n",
    "YoLbg32 = 3787  # (1)(c)\n",
    "\n",
    "E = 1\n",
    "s = 0.18\n",
    "g = 0.02\n",
    "n = 0.01\n",
    "delta = 0.03\n",
    "alpha = 0.75\n",
    "eta = 0.3\n",
    "\n",
    "\n",
    "YoLbg = ((s/(n+g+delta))**(alpha/(1-alpha-eta*alpha)) *\n",
    "         E**((1-alpha)/(1-alpha-eta*alpha)))\n",
    "\n",
    "YoLbg"
   ]
  },
  {
   "cell_type": "markdown",
   "metadata": {
    "deletable": false,
    "manual_grade": true,
    "manual_problem_id": "PS7TEC"
   },
   "source": [
    "### Markdown Cell for Answer to Task C(3)\n",
    "\n",
    "&nbsp;\n",
    "\n",
    "<font color=\"blue\">ANSWER: </font>"
   ]
  },
  {
   "cell_type": "code",
   "execution_count": 10,
   "metadata": {},
   "outputs": [
    {
     "name": "stdout",
     "output_type": "stream",
     "text": [
      "~~~~~~~~~~~~~~~~~~~~~~~~~~~~~~~~~~~~~~~~~~~~~~~~~~~~~~~~~~~~~~~~~~~~~\n",
      "Running tests\n",
      "\n",
      "---------------------------------------------------------------------\n",
      "Test summary\n",
      "    Passed: 8\n",
      "    Failed: 0\n",
      "[ooooooooook] 100.0% passed\n",
      "\n"
     ]
    },
    {
     "data": {
      "text/plain": [
       "{'failed': 0, 'locked': 0, 'passed': 8}"
      ]
     },
     "execution_count": 10,
     "metadata": {},
     "output_type": "execute_result"
    }
   ],
   "source": [
    "import numpy as np\n",
    "ok.grade('q02')"
   ]
  },
  {
   "cell_type": "markdown",
   "metadata": {},
   "source": [
    "----\n",
    "\n",
    "&nbsp;"
   ]
  },
  {
   "cell_type": "markdown",
   "metadata": {},
   "source": [
    "**(Task D) Cross-Country Productivity Differences II**\n",
    "\n",
    "Consider an economy with a capital accumulation rate that depends on the relative price of capital goods $ p_k $ thus:\n",
    "\n",
    "&nbsp;&nbsp;&nbsp;&nbsp;&nbsp;&nbsp;&nbsp;&nbsp;&nbsp;\n",
    "$ \\frac{d\\left(ln(K)\\right)}{dt} = \n",
    "\\left(\\frac{s}{p_k}\\right)\\left(\\frac{Y}{K}\\right) - \\delta $\n",
    "\n",
    "in which the relative price of capital goods is a function of the efficiency of labor:\n",
    "\n",
    "&nbsp;&nbsp;&nbsp;&nbsp;&nbsp;&nbsp;&nbsp;&nbsp;&nbsp;\n",
    "$ p_k = E^{-\\eta} $\n",
    "\n",
    "and which has an initial efficiency of labor $ E_0 $, an initial capital-output ratio $ K_0/Y_0 $, a constant efficiency of labor growth rate g, a constant population growth rate n, and a production function:\n",
    "\n",
    "&nbsp;&nbsp;&nbsp;&nbsp;&nbsp;&nbsp;&nbsp;&nbsp;&nbsp;\n",
    "$ \\frac{Y}{L} = \\left(\\frac{K}{Y}\\right)^{\\frac{\\alpha}{1-\\alpha}}E $\n",
    "\n",
    "The code cell below contains a small program to simulate this model for different parameter values and initial conditions. It is initially set up with:\n",
    "\n",
    "* s = 0.18\n",
    "* g = 0.02\n",
    "* n = 0.01\n",
    "* $ \\delta = 0.03 $\n",
    "* $ \\eta = 0.0 $\n",
    "* $ \\alpha = 1/3 $\n",
    "* $ L_0 = 1 $\n",
    "* $ E_0 = 1 $\n",
    "* $ \\frac{K_0}{Y_0} = 3\n",
    "\n",
    "Run the cell to check that it is working. Then alter the code to consider the cases:\n",
    "\n",
    "* $ \\eta = 0.0 $\n",
    "* $ \\eta = 0.2 $\n",
    "* $ \\eta = 0.4 $\n",
    "* $ \\eta = 0.6 $\n",
    "\n",
    "Examine the results. Assign the appropriate values for output per worker and the capital-output ratio in the hundredth year of the simulation in the code cell \"Code Cell fo rAnswers for Task D\" further below. "
   ]
  },
  {
   "cell_type": "code",
   "execution_count": 11,
   "metadata": {},
   "outputs": [
    {
     "data": {
      "image/png": "[encoded data removed]",
      "text/plain": [
       "<matplotlib.figure.Figure at 0x112f38be0>"
      ]
     },
     "metadata": {},
     "output_type": "display_data"
    }
   ],
   "source": [
    "# Code cell for simulation for Task (D)\n",
    "\n",
    "# check to see if libraries are in the current kernel\n",
    "import numpy as np\n",
    "import pandas as pd\n",
    "import matplotlib as mpl\n",
    "import matplotlib.pyplot as plt\n",
    "from IPython.display import Image\n",
    "\n",
    "# simulation length\n",
    "T = 100\n",
    "\n",
    "# parameters\n",
    "s = 0.18\n",
    "g = 0.02\n",
    "n = 0.01\n",
    "delta = 0.03\n",
    "eta = 0.6\n",
    "alpha = 1/3\n",
    "\n",
    "# initial conditions\n",
    "L_0 = 1\n",
    "E_0 = 1\n",
    "KoY_0 = 3\n",
    "\n",
    "\n",
    "sg_df = pd.DataFrame(index=range(T),columns=['Labor', \n",
    "    'Efficiency',\n",
    "    'Capital',\n",
    "    'Output',\n",
    "    'Output_per_Worker',\n",
    "    'Capital_Output_Ratio',\n",
    "    'Price_of_Capital'],\n",
    "    dtype='float')\n",
    "\n",
    "sg_df.Labor[0] = L_0\n",
    "sg_df.Efficiency[0] = E_0\n",
    "sg_df.Price_of_Capital[0] = sg_df.Efficiency[0]**(-eta)\n",
    "sg_df.Capital_Output_Ratio[0] = KoY_0\n",
    "sg_df.Output_per_Worker[0] = (sg_df.Capital_Output_Ratio[0]**(alpha/(1-alpha)) *\n",
    "                             sg_df.Efficiency[0])\n",
    "sg_df.Output[0] = sg_df.Output_per_Worker[0] * sg_df.Labor[0]\n",
    "sg_df.Capital[0] = sg_df.Output[0] * sg_df.Capital_Output_Ratio[0]\n",
    "\n",
    "for i in range(T):\n",
    "    sg_df.Labor[i+1] = (sg_df.Labor[i] * np.exp(n))\n",
    "    sg_df.Efficiency[i+1] = (sg_df.Efficiency[i] * np.exp(g))\n",
    "    sg_df.Capital[i+1] = (sg_df.Capital[i] * np.exp(s\n",
    "        *sg_df.Output[i]/(sg_df.Capital[i]*sg_df.Price_of_Capital[i]) - \n",
    "        delta))\n",
    "    sg_df.Output[i+1] = (sg_df.Capital[i+1]**alpha * \n",
    "        (sg_df.Labor[i+1] * sg_df.Efficiency[i+1])**(1-alpha))\n",
    "    sg_df.Output_per_Worker[i+1] = sg_df.Output[i+1]/sg_df.Labor[i+1]\n",
    "    sg_df.Capital_Output_Ratio[i+1] = (sg_df.Capital[i+1]/\n",
    "        sg_df.Output[i+1])\n",
    "    sg_df.Price_of_Capital[i+1] = sg_df.Efficiency[i+1]**(-eta)\n",
    "\n",
    "fig = plt.figure(figsize=(12, 8))\n",
    "\n",
    "ax1 = plt.subplot(2,3,1)\n",
    "sg_df.Labor.plot(ax = ax1, title = \"Labor Force\")\n",
    "plt.ylabel(\"Values\")\n",
    "plt.ylim(0, )\n",
    "\n",
    "ax2 = plt.subplot(2,3,2)\n",
    "sg_df.Efficiency.plot(ax = ax2, title = \"Efficiency of Labor\")\n",
    "plt.ylim(0, )\n",
    "    \n",
    "ax3 = plt.subplot(2,3,3)\n",
    "sg_df.Capital.plot(ax = ax3, title = \"Capital Stock\")\n",
    "plt.ylim(0, )\n",
    "\n",
    "ax4 = plt.subplot(2,3,4)\n",
    "sg_df.Output.plot(ax = ax4, title = \"Output\")\n",
    "plt.ylim(0, )\n",
    "plt.xlabel(\"Years\")\n",
    "plt.ylabel(\"Values\")\n",
    "\n",
    "ax5 = plt.subplot(2,3,5)\n",
    "sg_df.Output_per_Worker.plot(ax = ax5, title = \"Output per Worker\")\n",
    "plt.xlabel(\"Years\")\n",
    "plt.ylim(0, )\n",
    "\n",
    "ax6 = plt.subplot(2,3,6)\n",
    "sg_df.Capital_Output_Ratio.plot(ax = ax6, \n",
    "    title = \"Capital-Output Ratio\")\n",
    "plt.xlabel(\"Years\")\n",
    "plt.ylim(0, )\n",
    "\n",
    "plt.suptitle('Solow Growth Model: Simulation Run', size = 20)\n",
    "\n",
    "plt.show()"
   ]
  },
  {
   "cell_type": "code",
   "execution_count": null,
   "metadata": {
    "collapsed": true
   },
   "outputs": [],
   "source": [
    "# Code Cell for Answers for Task D\n",
    "\n",
    "YoL100eta0 = \n",
    "YoL100eta2 =\n",
    "YoL100eta4 =\n",
    "YoL100eta6 =\n",
    "\n",
    "KoY100eta0 =\n",
    "KoY100eta2 =\n",
    "KoY100eta4 =\n",
    "KoY100eta6 ="
   ]
  },
  {
   "cell_type": "code",
   "execution_count": 12,
   "metadata": {
    "collapsed": true
   },
   "outputs": [],
   "source": [
    "# DRAFT ANSWERS for Task D\n",
    "\n",
    "YoL100eta0 = 12.798\n",
    "YoL100eta2 = 14.912\n",
    "YoL100eta4 = 17.442\n",
    "YoL100eta6 = 20.468\n",
    "\n",
    "KoY100eta0 = 3.000\n",
    "KoY100eta2 = 4.073\n",
    "KoY100eta4 = 5.572\n",
    "KoY100eta6 = 7.673"
   ]
  },
  {
   "cell_type": "code",
   "execution_count": 13,
   "metadata": {},
   "outputs": [
    {
     "name": "stdout",
     "output_type": "stream",
     "text": [
      "~~~~~~~~~~~~~~~~~~~~~~~~~~~~~~~~~~~~~~~~~~~~~~~~~~~~~~~~~~~~~~~~~~~~~\n",
      "Running tests\n",
      "\n",
      "---------------------------------------------------------------------\n",
      "Test summary\n",
      "    Passed: 8\n",
      "    Failed: 0\n",
      "[ooooooooook] 100.0% passed\n",
      "\n"
     ]
    },
    {
     "data": {
      "text/plain": [
       "{'failed': 0, 'locked': 0, 'passed': 8}"
      ]
     },
     "execution_count": 13,
     "metadata": {},
     "output_type": "execute_result"
    }
   ],
   "source": [
    "import numpy as np\n",
    "ok.grade('q03')"
   ]
  },
  {
   "cell_type": "markdown",
   "metadata": {},
   "source": [
    "----\n",
    "\n",
    "&nbsp;"
   ]
  },
  {
   "cell_type": "markdown",
   "metadata": {},
   "source": [
    "**(Task E) Cross-Country Productivity Differences III**\n",
    "\n",
    "As we said in lecture, it is a scandal that the world today is so unequal—so much more unequal than it was two centuries ago—and that 1.5 billion out of our 7 billion or so fellow human beings still live lives not all that distinguishable from those of our pre-Industrial Revolution ancestors, and only 1 billion or so participate fully in the wealth of today's Global North.\n",
    "\n",
    "The bare Solow growth model does not do a good job of accounting for this \"Divergence, Big Time\". With the standard estimate of the production function parameter $ \\alpha = 1/3 $ and with the presumption that the efficiency of labor E is principally determined by ideas about technology and organization that can be easily communicated and learned, the underlying bias of the Solow growth model is toward one of anticipating relatively rapid economic convergence to Global North productivity levels. That has not happened.\n",
    "\n",
    "This problem set has indicated two modifications to the Solow model that have some promise for explaining some of the \"Divergence, Big Time\" that characterizes our world: the demographic burdens placed on emerging markets that are still undergoing pre-Demographic Transition rapid population growth, and the association of a high efficiency of labor with a relative price structure that makes boosting productivity through investment easy.\n",
    "\n",
    "In the appropriate space in \"Markdown Cell for Answer to Task E\" below, write an essay of about 250 words indicating what you think would be possibly fruitful directions to further extend and modify the Solow growth model so that it can teach us more about why today's economic world is such an unequal place.\n",
    "\n",
    "----\n",
    "\n",
    "&nbsp;"
   ]
  },
  {
   "cell_type": "markdown",
   "metadata": {
    "manual_grade": true,
    "manual_problem_id": "PS7E"
   },
   "source": [
    "### Markdown Cell for Answer to Task E\n",
    "\n",
    "&nbsp;\n",
    "\n",
    "<font color=\"blue\">ANSWER: </font>"
   ]
  },
  {
   "cell_type": "code",
   "execution_count": 16,
   "metadata": {},
   "outputs": [
    {
     "data": {
      "application/javascript": [
       "IPython.notebook.save_checkpoint();"
      ],
      "text/plain": [
       "<IPython.core.display.Javascript object>"
      ]
     },
     "metadata": {},
     "output_type": "display_data"
    },
    {
     "data": {
      "application/javascript": [
       "IPython.notebook.save_notebook();"
      ],
      "text/plain": [
       "<IPython.core.display.Javascript object>"
      ]
     },
     "metadata": {},
     "output_type": "display_data"
    },
    {
     "name": "stdout",
     "output_type": "stream",
     "text": [
      "Saving notebook... Could not save your notebook. Make sure your notebook is saved before sending it to OK!\n",
      "Submit... 100% complete\n",
      "Backup... 100% complete\n",
      "Submission successful for user: jbdelong@berkeley.edu\n",
      "URL: https://okpy.org/cal/econ101b/sp18/PS7/submissions/Wnlzpn\n",
      "\n"
     ]
    }
   ],
   "source": [
    "_ = ok.submit()"
   ]
  },
  {
   "cell_type": "code",
   "execution_count": null,
   "metadata": {
    "collapsed": true
   },
   "outputs": [],
   "source": []
  }
 ],
 "metadata": {
  "celltoolbar": "Edit Metadata",
  "kernelspec": {
   "display_name": "Python 3",
   "language": "python",
   "name": "python3"
  },
  "language_info": {
   "codemirror_mode": {
    "name": "ipython",
    "version": 3
   },
   "file_extension": ".py",
   "mimetype": "text/x-python",
   "name": "python",
   "nbconvert_exporter": "python",
   "pygments_lexer": "ipython3",
   "version": "3.6.1"
  }
 },
 "nbformat": 4,
 "nbformat_minor": 2
}

{
 "cells": [
  {
   "cell_type": "markdown",
   "metadata": {
    "slideshow": {
     "slide_type": "notes"
    }
   },
   "source": [
    "# 2018-03-10 Econ 101b Problem Set 10: Flex and Sticky-Price Models with Answers"
   ]
  },
  {
   "cell_type": "markdown",
   "metadata": {},
   "source": [
    "### Problem set will be due Fr Apr 13 at midnight...\n",
    "\n",
    "#### Sections between Tu AM & Th AM lecture will be problem set section..."
   ]
  },
  {
   "cell_type": "markdown",
   "metadata": {},
   "source": [
    "## Setting up the Python/Jupyter environment"
   ]
  },
  {
   "cell_type": "code",
   "execution_count": 1,
   "metadata": {},
   "outputs": [
    {
     "data": {
      "application/javascript": [
       "\n",
       "IPython.OutputArea.prototype._should_scroll = function(lines) {\n",
       "    return false;}"
      ],
      "text/plain": [
       "<IPython.core.display.Javascript object>"
      ]
     },
     "metadata": {},
     "output_type": "display_data"
    }
   ],
   "source": [
    "%%javascript\n",
    "\n",
    "IPython.OutputArea.prototype._should_scroll = function(lines) {\n",
    "    return false;}"
   ]
  },
  {
   "cell_type": "code",
   "execution_count": 2,
   "metadata": {
    "collapsed": true
   },
   "outputs": [],
   "source": [
    "# ABOVE CELL IS \"NO SCROLLING SUBWINDOWS\" SETUP\n",
    "#\n",
    "# keep output cells from shifting to autoscroll: little scrolling\n",
    "# subwindows within the notebook are an annoyance..."
   ]
  },
  {
   "cell_type": "code",
   "execution_count": 3,
   "metadata": {
    "collapsed": true
   },
   "outputs": [],
   "source": [
    "# LOADING LIBRARIES WE MIGHT NEED...\n",
    "#\n",
    "# system\n",
    "\n",
    "import sys\n",
    "import os\n",
    "from urllib.request import urlretrieve"
   ]
  },
  {
   "cell_type": "code",
   "execution_count": 4,
   "metadata": {
    "collapsed": true
   },
   "outputs": [],
   "source": [
    "# LOADING LIBRARIES WE MIGHT NEED...\n",
    "#\n",
    "# plotting\n",
    "\n",
    "import matplotlib as mpl\n",
    "import matplotlib.pyplot as plt\n",
    "from IPython.display import Image\n",
    "import seaborn as sns"
   ]
  },
  {
   "cell_type": "code",
   "execution_count": 5,
   "metadata": {
    "collapsed": true
   },
   "outputs": [],
   "source": [
    "# LOADING LIBRARIES WE MIGHT NEED...\n",
    "#\n",
    "# data handling\n",
    "\n",
    "import pandas as pd\n",
    "from pandas import DataFrame, Series\n",
    "from datetime import datetime"
   ]
  },
  {
   "cell_type": "code",
   "execution_count": 6,
   "metadata": {
    "collapsed": true
   },
   "outputs": [],
   "source": [
    "# LOADING LIBRARIES WE MIGHT NEED...\n",
    "#\n",
    "# math\n",
    "\n",
    "import scipy as sp\n",
    "import numpy as np\n",
    "import math\n",
    "import random"
   ]
  },
  {
   "cell_type": "code",
   "execution_count": 7,
   "metadata": {},
   "outputs": [
    {
     "name": "stderr",
     "output_type": "stream",
     "text": [
      "/Users/delong/anaconda3/lib/python3.6/site-packages/statsmodels/compat/pandas.py:56: FutureWarning: The pandas.core.datetools module is deprecated and will be removed in a future version. Please use the pandas.tseries module instead.\n",
      "  from pandas.core import datetools\n"
     ]
    }
   ],
   "source": [
    "# LOADING LIBRARIES WE MIGHT NEED...\n",
    "#\n",
    "# statistics\n",
    "\n",
    "import statsmodels\n",
    "import statsmodels.api as sm\n",
    "import statsmodels.formula.api as smf"
   ]
  },
  {
   "cell_type": "code",
   "execution_count": 8,
   "metadata": {
    "collapsed": true
   },
   "outputs": [],
   "source": [
    "# PRETTIER GRAPHICS SETUP\n",
    "#\n",
    "# graphics setup: seaborn-whitegrid and figure size;\n",
    "# graphs in the notebook itself...\n",
    "\n",
    "%matplotlib inline \n",
    "\n",
    "plt.style.use('seaborn-whitegrid')\n",
    "\n",
    "figure_size = plt.rcParams[\"figure.figsize\"]\n",
    "figure_size[0] = 12\n",
    "figure_size[1] = 10\n",
    "plt.rcParams[\"figure.figsize\"] = figure_size"
   ]
  },
  {
   "cell_type": "code",
   "execution_count": 9,
   "metadata": {},
   "outputs": [
    {
     "name": "stdout",
     "output_type": "stream",
     "text": [
      "Requirement already up-to-date: okpy in /Users/delong/anaconda3/lib/python3.6/site-packages\n",
      "Requirement already up-to-date: requests==2.12.4 in /Users/delong/anaconda3/lib/python3.6/site-packages (from okpy)\n",
      "Requirement already up-to-date: coverage==3.7.1 in /Users/delong/anaconda3/lib/python3.6/site-packages (from okpy)\n",
      "\u001b[33mYou are using pip version 9.0.2, however version 9.0.3 is available.\n",
      "You should consider upgrading via the 'pip install --upgrade pip' command.\u001b[0m\n",
      "=====================================================================\n",
      "Assignment: PS10 Notebook\n",
      "OK, version v1.13.11\n",
      "=====================================================================\n",
      "\n",
      "\n",
      "Open the following URL:\n",
      "\n",
      "https://okpy.org/client/login/\n",
      "\n",
      "After logging in, copy the code from the web page and paste it into the box.\n",
      "Then press the \"Enter\" key on your keyboard.\n",
      "\n",
      "Paste your code here: mEURLwFek53k9YXanCFhwaik18zOX4\n",
      "Successfully logged in as jbdelong@berkeley.edu\n"
     ]
    }
   ],
   "source": [
    "# THIS CELL IS THE KEY TO THE OKPY.ORG AUTOGRADER SYSTEM\n",
    "#\n",
    "# Don't change this cell; just run it. \n",
    "# The result will give you directions about how to log in to the submission system, called OK.\n",
    "# Once you're logged in, you can run this cell again, but it won't ask you who you are because\n",
    "# it remembers you. However, you will need to log in once per assignment.\n",
    "\n",
    "!pip install -U okpy\n",
    "\n",
    "from client.api.notebook import Notebook\n",
    "\n",
    "ok = Notebook('ps10.ok')\n",
    "_ = ok.auth(force=True, inline=True)"
   ]
  },
  {
   "cell_type": "markdown",
   "metadata": {},
   "source": [
    "### ⬆︎⬆︎⬆︎⬆︎⬆︎⬆︎⬆︎⬆︎⬆︎⬆︎⬆︎⬆︎⬆︎⬆︎⬆︎⬆︎\n",
    "### RUN THESE CELLS ABOVE FIRST"
   ]
  },
  {
   "cell_type": "markdown",
   "metadata": {},
   "source": [
    "# Problem Set 10: Flex and Sticky-Price Models (Due Apr 13 11:59:59 PM)\n",
    "\n",
    "----\n",
    "\n",
    "&nbsp;"
   ]
  },
  {
   "cell_type": "markdown",
   "metadata": {},
   "source": [
    "## Introduction\n",
    "\n",
    "The autograder, both in the tests you run along the way as you work on the problem set and in calculating the final score, looks in the same directory as the problem set notebook for an \"ok.tests\" directory, and then runs the tests in the \"q\\*\\*.py\" files in that directory (where \"\\*\\*\" denotes a two-digit number, possibly with a leading zero). Those tests take the form of comparing a variable that should be in your namespace and seeing if it is close to some desired value that we get when we do the problem set.\n",
    "\n",
    "Thus while the problem set instructions ask you to run simulations and plot graphs, what you are tested on is whether the appropriate variables in your namespace have (close to the) right values. We do not care what code you use in order to get those variables to the right values. \n",
    "\n",
    "You can run simulations and then pick appropriate values out by slicing a series in order to get the right number. \n",
    "\n",
    "You can use your knowledge of the algebraic solution to the model to have Python calculate the answer, having first set the parameters to the right values, as in:\n",
    "\n",
    "    s = 0.24 # (say)\n",
    "    n = 0.01\n",
    "    g = 0.02\n",
    "    delta = 0.03\n",
    "    Delta_n = -0.01\n",
    "    KoverYinitial = s/(n+g+delta)\n",
    "    KoverYalternative = s/(n+Delta_n+g+delta)\n",
    "    \n",
    "You can even do all of the calculations on pen and paper, and simply code up:\n",
    "\n",
    "    KoverYinitial = 4\n",
    "    KoverYalternative = 4.8\n",
    "    \n",
    "Perhaps we should ask you to do all three—start with simulations, or with algebraic equations with set parameter values, or with full pen-and-paper calculations with only the final results entered into the notebook—and then ask you to check your results from one mode by doing the other two. But: _ars longa, vita brevis_. Focus on what works _for you_: the key is to get a sense of how economists' center-of-gravity analyses of long-run growth work, so that when you encounter such an analysis later, outside the university, you have the right intellectual panoply to evaluate it.\n",
    "\n",
    "----\n",
    "\n",
    "&nbsp;"
   ]
  },
  {
   "cell_type": "markdown",
   "metadata": {},
   "source": [
    "## Programming Dos and Don'ts...\n",
    "\n",
    "### A Running List...\n",
    "\n",
    "1. **Do** restart your kernel and run cells up to your current working point every fifteen minutes or so. Yes, it takes a little time. But if you don't, sooner or later the machine's namespace will get confused, and then you will get confused about the state of the machine's namespace, and by assuming things about it that are false you will lose hours and hours...   \n",
    "&nbsp;\n",
    "\n",
    "2. **Do** reload the page when restarting the kernel does not seem to do the job...   \n",
    "&nbsp;\n",
    "\n",
    "3. **Do** edit code cells by copying them below your current version and then working on the copy: when you break everything in the current cell (as you will), you can then go back to the old cell and start fresh...   \n",
    "&nbsp;\n",
    "\n",
    "4. **Do** exercise agile development practices: if there is a line of code that you have not tested, test it. The best way to test is to ask the machine to echo back to you the thing you have just created in its namespace to make sure that it is what you want it to be. Only after you are **certain** that your namespace contains what you think it does should you write the next line of code. And then you should immediately test it...   \n",
    "&nbsp;\n",
    "\n",
    "5. **Do** take screenshots of your error messages...   \n",
    "&nbsp;\n",
    "\n",
    "6. **Do** google your error messages: Ms. Google is your best friend here...   \n",
    "&nbsp;\n",
    "\n",
    "7. **Do not** confuse assignment (\"=\") and test for equality (\"==\"). In general, if there is an \"if\" anywhere nearby, you should be testing for equality. If there is not, you should be assignment a variable in your namespace to a value. **Do** curse the mathematicians 500 years ago who did not realize that in the twenty-first century it would be very convenient if we had different and not confusable symbols for equals-as-assignment and equals-as-test...   \n",
    "&nbsp;\n",
    "\n",
    "----\n",
    "\n",
    "&nbsp;\n",
    "\n",
    "**Thanks to**: Felix Deng, Rachel Grossberg, Christopher Hench, Meghana Krishnakumer, Seth Lloyd, Ronald Walker..."
   ]
  },
  {
   "cell_type": "markdown",
   "metadata": {
    "deletable": false,
    "manual_grade": true,
    "manual_problem_id": "PS6TB"
   },
   "source": [
    "**(Task A) Programming Practices**\n",
    "\n",
    "If it strikes you that anything should be added to this list of programming dos and don'ts, please email it to me at <delong@econ.berkeley.edu>"
   ]
  },
  {
   "cell_type": "markdown",
   "metadata": {},
   "source": [
    "----"
   ]
  },
  {
   "cell_type": "markdown",
   "metadata": {},
   "source": [
    "### The Baseline Flexprice Model\n",
    "\n",
    "We first saw the IS-Curve equation when we analyzed the sticky-price model. We looked at all the determinants of the components of spending—consumption spending by households C, investment spending by businesses I, government purchases G, and the balancing item of net exports NX—added them up to equal total expenditure or aggregate demand E, and then said that inventory adjustment would lead producers to set output and thus national income Y equal to aggregate demand:\n",
    "\n",
    "&nbsp;&nbsp;&nbsp;&nbsp;&nbsp;&nbsp;&nbsp;&nbsp;&nbsp;\n",
    "$ Y = E = {\\mu}(c_o + I_o + G) + {\\mu}(x_{f}Y^f + x_{\\epsilon}{\\epsilon_o} + x_{\\epsilon}{\\epsilon_r}r^f) - {\\mu}(I_r + x_{\\epsilon}{\\epsilon_r})r $\n",
    "\n",
    "However, the equation itself is as valid for the flexprice model as for the sticky-price model. The interpretation, however, is different. The sticking point is that the right-hand side does not cause the left. Rather, the left-hand side is equal to potential output $ Y^* $ and so constrains the right-hand side:\n",
    "\n",
    "&nbsp;&nbsp;&nbsp;&nbsp;&nbsp;&nbsp;&nbsp;&nbsp;&nbsp;\n",
    "$ Y^* = Y = {\\mu}(c_o + I_o + G) + {\\mu}(x_{f}Y^f + x_{\\epsilon}{\\epsilon_o} + x_{\\epsilon}{\\epsilon_r}r^f) - {\\mu}(I_r + x_{\\epsilon}{\\epsilon_r})r $\n",
    "\n",
    "Given this constraint, you can then use this equation to solve for what happens in the flexprice model to sequential or counterfactual shifts in economic policy and the economic environment.\n",
    "\n",
    "The symbols on the right-hand side of this equation are grouped into:\n",
    "\n",
    "_Expectations and Confidence:_\n",
    "\n",
    "* $ c_o $ :: consumer confidence\n",
    "* $ I_o $ :: business investment animal spirits\n",
    "* $ {\\epsilon_o} $ :: the confidence of foreign exchange speculators in the value of foreign currency\n",
    "\n",
    "&nbsp;\n",
    "\n",
    "_Behavioral Parameters:_\n",
    "\n",
    "* $ x_{f} $ :: the responsiveness of exports to foreign income\n",
    "* $ x_{\\epsilon} $ :: the responsiveness of exports to the exchange rate\n",
    "* $ {\\epsilon_r} $ :: the responsiveness of the exchange rate to the interest rate\n",
    "* $ I_r $ :: the responsiveness of investment to the interest rate\n",
    "* $ {\\mu} = \\frac{1}{1- c_{y}(1-t) + im_y} $ :: the multiplier, itself a function of:\n",
    "    * $ t $ :: the tax rate\n",
    "    * $ c_y $ :: the marginal propensity to consume\n",
    "    * $ im_y $ :: the marginal propensity to import\n",
    "\n",
    "&nbsp;\n",
    "\n",
    "_The Global Economic Environment:_\n",
    "\n",
    "* $ Y^f $ :: foreign national income\n",
    "* $ r^f $ :: the foreign long-term risky real interest rate\n",
    "\n",
    "&nbsp;\n",
    "\n",
    "_Policy Choices:_\n",
    "\n",
    "* $ G $ :: government purchases\n",
    "* $ r = i + \\rho - \\pi $ :: the long-term risky real interest rate, which itself will later on be a function of:\n",
    "    * $ i $ :: the short-term safe nominal interest rate, a policy choice\n",
    "    * $ \\rho $ :: the risk (and term) premium charged for lending long-term to companies that might go bankrupt rather than short-term to the government\n",
    "    * $ \\pi $ :: the expected inflation rate\n",
    "\n",
    "----\n",
    "\n",
    "&nbsp;\n",
    "\n",
    "The code cell below sets parameter values and calculates the equilibrium value of the real interest rater r for this flexprice model IS Curve. It then calculates the values of hte other economic variables, in trillions:"
   ]
  },
  {
   "cell_type": "code",
   "execution_count": 10,
   "metadata": {},
   "outputs": [
    {
     "name": "stdout",
     "output_type": "stream",
     "text": [
      "The equilibrium real interest rate = 0.03999999999999997\n",
      "\n",
      "The components of national income and product Y are:\n",
      "Consumption spending C =  12.0\n",
      "Investment spending I =  4.000000000000001\n",
      "Government purchases G =  4\n",
      "Net exports NX =  0.0\n",
      "\n",
      "Potential output Y* = Output Y =  20\n",
      "\n",
      "Gross exports GX =  3.333333333333333\n",
      "Imports IM =  3.333333333333333\n",
      "\n",
      "The real exchange rate ε =  1.0000000000000002\n",
      "\n",
      "The multiplier μ =  1.5\n"
     ]
    }
   ],
   "source": [
    "# FLEXPRICE MODEL INITIAL SCENARIO SETUP FOR 20 = Y* = Y\n",
    "\n",
    "Ystar = 20\n",
    "Y = Ystar\n",
    "\n",
    "# Set initial parameter and variable values\n",
    "c_o = 2\n",
    "c_y = 5/8\n",
    "\n",
    "I_o = 4.4\n",
    "I_r = 10\n",
    "\n",
    "G = 4\n",
    "t = 0.20\n",
    "\n",
    "im_y = 1/6\n",
    "x_f = 0.1\n",
    "Y_f = 20\n",
    "r_f = 0.04\n",
    "\n",
    "x_epsilon = 4/3\n",
    "epsilon_o = 1\n",
    "epsilon_r = 5\n",
    "\n",
    "# Calculate the value of the multiplier\n",
    "mu = 1/(1-c_y*(1-t)+ im_y)\n",
    "\n",
    "# Use the solved IS Curve equation to calculate the real \n",
    "# interest rate r\n",
    "r = (((c_o + I_o + G) + \n",
    "    (x_f * Y_f + x_epsilon * epsilon_o + x_epsilon * epsilon_r * r_f) -\n",
    "     Y/mu)/\n",
    "     (I_r + x_epsilon * epsilon_r))\n",
    "\n",
    "# calculcate the values of other economic variables \n",
    "# in this initial scenario\n",
    "C = c_o + c_y * (1-t) * Y\n",
    "I = I_o - I_r * r\n",
    "GX = x_f * Y_f + x_epsilon * epsilon_o + x_epsilon * epsilon_r * (r_f-r)\n",
    "IM = im_y * Y\n",
    "NX = GX - IM\n",
    "epsilon = epsilon_o + epsilon_r * (r_f-r)\n",
    "\n",
    "# print out the values of economic variables in \n",
    "# this initial scenario equilibrium\n",
    "print(\"The equilibrium real interest rate =\", r)\n",
    "print(\"\")\n",
    "print(\"The components of national income and product Y are:\")\n",
    "print(\"Consumption spending C = \", C)\n",
    "print(\"Investment spending I = \", I)\n",
    "print(\"Government purchases G = \", G)\n",
    "print(\"Net exports NX = \", NX)\n",
    "print(\"\")\n",
    "print(\"Potential output Y* = Output Y = \", Y)\n",
    "print(\"\")\n",
    "print(\"Gross exports GX = \", GX)\n",
    "print(\"Imports IM = \", IM)\n",
    "print(\"\")\n",
    "print(\"The real exchange rate ε = \", epsilon)\n",
    "print(\"\")\n",
    "print(\"The multiplier μ = \", mu)\n",
    "\n",
    "# AFTER YOU RUN THIS CELL, DO NOT OVERWRITE THE VALUES OF THE\n",
    "# _ini VARIABLES!\n",
    "#\n",
    "# remember the values of the economic variables in this \n",
    "# initial scenario\n",
    "r_ini = r\n",
    "I_ini = I\n",
    "G_ini = G\n",
    "NX_ini = NX\n",
    "epsilon_ini = epsilon"
   ]
  },
  {
   "cell_type": "markdown",
   "metadata": {},
   "source": [
    "### (Task B) Flexprice: A Capital Inflow (Initial)\n",
    "\n",
    "Start with the IS-Curve for the flexprice model:\n",
    "\n",
    "&nbsp;&nbsp;&nbsp;&nbsp;&nbsp;&nbsp;&nbsp;&nbsp;&nbsp;\n",
    "$ Y^* = Y = {\\mu}(c_o + I_o + G) + {\\mu}(x_{f}Y^f + x_{\\epsilon}{\\epsilon_o} + x_{\\epsilon}{\\epsilon_r}r^f) - {\\mu}(I_r + x_{\\epsilon}{\\epsilon_r})r $\n",
    "\n",
    "Assume that potential output is equal to real national income and product is equal to 20 trillion: \n",
    "\n",
    "&nbsp;&nbsp;&nbsp;&nbsp;&nbsp;&nbsp;&nbsp;&nbsp;&nbsp;\n",
    "$ Y^* = Y = 20 $\n",
    "\n",
    "And assume parameter values:\n",
    "\n",
    "* $ c_o = 2 $\n",
    "* $ c_y = 5/8 $\n",
    "* $ I_o = 4.4 $\n",
    "* $ I_r = 10 $\n",
    "* $ t = 0.20 $\n",
    "* $ im_y = 1/6 $\n",
    "* $ x^f = 0.1 $\n",
    "* $ Y^f = 20 $\n",
    "* $ r^f = 0.04 $\n",
    "* $ x_{\\epsilon} = 4/3 $\n",
    "* $ \\epsilon_o = 1 $\n",
    "* $ \\epsilon_r = 5 $\n",
    "\n",
    "And assume that government purchases $ G = 4 $\n",
    "\n",
    "What if foreign exchange speculators lose confidence in the value of foreign currency and wish to invest their money in the home country, and so the foreign exchange speculator expectations coefficient $ {\\epsilon}_o $ drops by 10 percent—from 1 to 0.9?\n",
    "\n",
    "In the code cell below, write code or otherwise calculate the model equilibrium and then set to its equilibrium value the variable:\n",
    "\n",
    "    Delta_r_PS10taskB\n",
    "    \n",
    "the amount by which the real interest rate r changes in the alternative capital inflow scenario relative to the baseline"
   ]
  },
  {
   "cell_type": "code",
   "execution_count": 11,
   "metadata": {
    "collapsed": true
   },
   "outputs": [],
   "source": [
    "# CODE CELL FOR TASK B INITIAL\n",
    "\n",
    "# Delta_epsilon_o = -1\n",
    "\n",
    "# ...\n",
    "# ...\n",
    "# ...\n",
    "# ...\n",
    "\n",
    "# Delta_r_PS10taskB = "
   ]
  },
  {
   "cell_type": "code",
   "execution_count": 12,
   "metadata": {},
   "outputs": [
    {
     "name": "stdout",
     "output_type": "stream",
     "text": [
      "The equilibrium real interest rate = 0.032\n",
      "\n",
      "The components of national income and product Y are:\n",
      "Consumption spending C =  12.0\n",
      "Investment spending I =  4.08\n",
      "Government purchases G =  4\n",
      "Net exports NX =  -0.07999999999999963\n",
      "\n",
      "Potential output Y* = Output Y =  20\n",
      "\n",
      "Gross exports GX =  3.2533333333333334\n",
      "Imports IM =  3.333333333333333\n",
      "\n",
      "The real exchange rate ε =  0.9400000000000001\n",
      "\n",
      "The multiplier μ =  1.5\n"
     ]
    },
    {
     "data": {
      "text/plain": [
       "-0.007999999999999972"
      ]
     },
     "execution_count": 12,
     "metadata": {},
     "output_type": "execute_result"
    }
   ],
   "source": [
    "# ANSWER CODE CELL FOR TASK B INITIAL\n",
    "\n",
    "Delta_epsilon_o = -0.1\n",
    "\n",
    "Ystar = 20\n",
    "Y = Ystar\n",
    "\n",
    "c_o = 2\n",
    "c_y = 5/8\n",
    "\n",
    "I_o = 4.4\n",
    "I_r = 10\n",
    "\n",
    "G = 4\n",
    "t = 0.20\n",
    "\n",
    "im_y = 1/6\n",
    "x_f = 0.1\n",
    "Y_f = 20\n",
    "r_f = 0.04\n",
    "\n",
    "x_epsilon = 4/3\n",
    "epsilon_o = 1 + Delta_epsilon_o\n",
    "epsilon_r = 5\n",
    "\n",
    "mu = 1/(1-c_y*(1-t)+ im_y)\n",
    "\n",
    "r = (((c_o + I_o + G) + \n",
    "    (x_f * Y_f + x_epsilon * epsilon_o + x_epsilon * epsilon_r * r_f) -\n",
    "     Y/mu)/\n",
    "     (I_r + x_epsilon * epsilon_r))\n",
    "\n",
    "C = c_o + c_y * (1-t) * Y\n",
    "I = I_o - I_r * r\n",
    "GX = x_f * Y_f + x_epsilon * epsilon_o + x_epsilon * epsilon_r * (r_f-r)\n",
    "IM = im_y * Y\n",
    "NX = GX - IM\n",
    "\n",
    "epsilon = epsilon_o + epsilon_r * (r_f-r)\n",
    "\n",
    "print(\"The equilibrium real interest rate =\", r)\n",
    "print(\"\")\n",
    "print(\"The components of national income and product Y are:\")\n",
    "print(\"Consumption spending C = \", C)\n",
    "print(\"Investment spending I = \", I)\n",
    "print(\"Government purchases G = \", G)\n",
    "print(\"Net exports NX = \", NX)\n",
    "print(\"\")\n",
    "print(\"Potential output Y* = Output Y = \", Y)\n",
    "print(\"\")\n",
    "print(\"Gross exports GX = \", GX)\n",
    "print(\"Imports IM = \", IM)\n",
    "print(\"\")\n",
    "print(\"The real exchange rate ε = \", epsilon)\n",
    "print(\"\")\n",
    "print(\"The multiplier μ = \", mu)\n",
    "\n",
    "\n",
    "Delta_r_PS10taskB = r - r_ini\n",
    "\n",
    "Delta_r_PS10taskB"
   ]
  },
  {
   "cell_type": "markdown",
   "metadata": {},
   "source": [
    "### (Task B) Flexprice: A Capital Inflow (Continued)\n",
    "\n",
    "In the code cell below, write code or otherwise calculate and set the variables:\n",
    "\n",
    "    Delta_I_PS10taskB\n",
    "    Delta_G_PS10taskB\n",
    "    Delta_NX_PS10taskB\n",
    "    Delta_epsilon_PS10taskB\n",
    "    \n",
    "to the changes in their values in the alternative scenario relative ot the baseline"
   ]
  },
  {
   "cell_type": "code",
   "execution_count": 13,
   "metadata": {
    "collapsed": true
   },
   "outputs": [],
   "source": [
    "# CODE CELL FOR TASK B CONTINUED\n",
    "\n",
    "# ...\n",
    "# ...\n",
    "# ...\n",
    "# ...\n",
    "# ...\n",
    "\n",
    "# Delta_I_PS10taskB = \n",
    "# Delta_G_PS10taskB = \n",
    "# Delta_NX_PS10taskB = \n",
    "# Delta_epsilon_PS10taskB ="
   ]
  },
  {
   "cell_type": "code",
   "execution_count": 14,
   "metadata": {},
   "outputs": [
    {
     "name": "stdout",
     "output_type": "stream",
     "text": [
      "Delta_I_PS10taskB =  0.07999999999999918\n",
      "Delta_G_PS10taskB =  0\n",
      "Delta_NX_PS10taskB =  -0.07999999999999963\n",
      "Delta_epsilon_PS10taskB =  -0.060000000000000164\n"
     ]
    }
   ],
   "source": [
    "# ANSWER CODE CELL FOR TASK B CONTINUED\n",
    "\n",
    "Delta_I_PS10taskB = I - I_ini\n",
    "Delta_G_PS10taskB = G - G_ini\n",
    "Delta_NX_PS10taskB = NX - NX_ini\n",
    "Delta_epsilon_PS10taskB = epsilon - epsilon_ini\n",
    "\n",
    "print(\"Delta_I_PS10taskB = \", Delta_I_PS10taskB)\n",
    "print(\"Delta_G_PS10taskB = \", Delta_G_PS10taskB)\n",
    "print(\"Delta_NX_PS10taskB = \", Delta_NX_PS10taskB)\n",
    "print(\"Delta_epsilon_PS10taskB = \", Delta_epsilon_PS10taskB)"
   ]
  },
  {
   "cell_type": "code",
   "execution_count": 15,
   "metadata": {},
   "outputs": [
    {
     "name": "stdout",
     "output_type": "stream",
     "text": [
      "~~~~~~~~~~~~~~~~~~~~~~~~~~~~~~~~~~~~~~~~~~~~~~~~~~~~~~~~~~~~~~~~~~~~~\n",
      "Running tests\n",
      "\n",
      "---------------------------------------------------------------------\n",
      "Test summary\n",
      "    Passed: 5\n",
      "    Failed: 0\n",
      "[ooooooooook] 100.0% passed\n",
      "\n"
     ]
    },
    {
     "data": {
      "text/plain": [
       "{'failed': 0, 'locked': 0, 'passed': 5}"
      ]
     },
     "execution_count": 15,
     "metadata": {},
     "output_type": "execute_result"
    }
   ],
   "source": [
    "# TASK B ANSWER CHECK\n",
    "\n",
    "import numpy as np\n",
    "ok.grade('q01')"
   ]
  },
  {
   "cell_type": "markdown",
   "metadata": {},
   "source": [
    "### (Task B) Flexprice: A Capital Inflow (Conclusion)\n",
    "\n",
    "If everything worked out as it should, you would have identified the portions of the IS Curve equation:\n",
    "\n",
    "&nbsp;&nbsp;&nbsp;&nbsp;&nbsp;&nbsp;&nbsp;&nbsp;&nbsp;\n",
    "$ Y^* = Y = {\\mu}(c_o + I_o + G) + {\\mu}(x_{f}Y^f + x_{\\epsilon}{\\epsilon_o} + x_{\\epsilon}{\\epsilon_r}r^f) - {\\mu}(I_r + x_{\\epsilon}{\\epsilon_r})r $\n",
    "\n",
    "that are relevant to a negative change $ {\\Delta}{\\epsilon}_o $ in foreign exchange speculators' assessments that produces an inflow of capital from abroad. Those components are:\n",
    "\n",
    "&nbsp;&nbsp;&nbsp;&nbsp;&nbsp;&nbsp;&nbsp;&nbsp;&nbsp;\n",
    "$ 0 = {\\Delta}Y^* = {\\mu}x_{\\epsilon}{\\epsilon_o} - {\\mu}(I_r + x_{\\epsilon}{\\epsilon_r})r $\n",
    "\n",
    "And from them—and the parameter values—you could calculate by hand the changes in the variables: $ {\\Delta}r, {\\Delta}I, {\\Delta}G, {\\Delta}NX, and {\\Delta}{\\epsilon} $\n",
    "\n",
    "Or you could have simply solved the model for the initial-scenario equilibrium, solved it for the alternative with the same parameter values except for $ {\\epsilon}_o : {\\Delta}{\\epsilon}_o = -0.1 $, and compared the results...\n",
    "\n",
    "What you should have found would be that the capital inflow—speculators' loss of confidence in the value of foreign currency—would have gone to lower the exchange rate variable (the value of foreign currency), lower real interest rates here at home, and thus boost investment spending by an amount offsetting the reduction in net exports that is the necessary accounting counterpart of an inflow of capital. This is the flexprice model: pieces of the flow of spending that shrink must be balanced by other prices that increase to offset and keep total spending equal to potential output.\n",
    "\n",
    "----\n",
    "\n",
    "&nbsp;"
   ]
  },
  {
   "cell_type": "markdown",
   "metadata": {},
   "source": [
    "### (Task C) Flexprice: The Collapse of an Investment Boom (Initial)\n",
    "\n",
    "Start with the IS-Curve for the flexprice model:\n",
    "\n",
    "&nbsp;&nbsp;&nbsp;&nbsp;&nbsp;&nbsp;&nbsp;&nbsp;&nbsp;\n",
    "$ Y^* = Y = {\\mu}(c_o + I_o + G) + {\\mu}(x_{f}Y^f + x_{\\epsilon}{\\epsilon_o} + x_{\\epsilon}{\\epsilon_r}r^f) - {\\mu}(I_r + x_{\\epsilon}{\\epsilon_r})r $\n",
    "\n",
    "Assume that potential output is equal to real national income and product is equal to 20 trillion: \n",
    "\n",
    "&nbsp;&nbsp;&nbsp;&nbsp;&nbsp;&nbsp;&nbsp;&nbsp;&nbsp;\n",
    "$ Y^* = Y = 20 $\n",
    "\n",
    "And assume all parameter values as in the initial scenario setup for Task B.\n",
    "\n",
    "Suppose that there is a collapse in business investment committees' \"animal spirits\" $ I_o $: that those making the investment decisions are no longer eager to gamble but rather fear that future profits will be low, so that $ I_o $ falls by 500 billion dollars, with:\n",
    "\n",
    "&nbsp;&nbsp;&nbsp;&nbsp;&nbsp;&nbsp;&nbsp;&nbsp;&nbsp;\n",
    "$ {\\Delta}I_o = -0.5 $\n",
    "\n",
    "In the code cell below, write code or otherwise calculate the model equilibrium and then set to its equilibrium value the variable:\n",
    "\n",
    "    Delta_r_PS10taskC\n",
    "\n",
    "the amount by which the real interest rate r changes in the alternative capital inflow scenario relative to the baseline:"
   ]
  },
  {
   "cell_type": "code",
   "execution_count": 16,
   "metadata": {
    "collapsed": true
   },
   "outputs": [],
   "source": [
    "# CODE CELL FOR TASK C INITIAL\n",
    "\n",
    "# Delta_I_o = -0.5\n",
    "\n",
    "# ...\n",
    "# ...\n",
    "# ...\n",
    "# ...\n",
    "\n",
    "# Delta_r_PS10taskC = "
   ]
  },
  {
   "cell_type": "code",
   "execution_count": 17,
   "metadata": {},
   "outputs": [
    {
     "name": "stdout",
     "output_type": "stream",
     "text": [
      "The equilibrium real interest rate = 0.009999999999999966\n",
      "\n",
      "The components of national income and product Y are:\n",
      "Consumption spending C =  12.0\n",
      "Investment spending I =  3.8000000000000007\n",
      "Government purchases G =  4\n",
      "Net exports NX =  0.20000000000000018\n",
      "\n",
      "Potential output Y* = Output Y =  20\n",
      "\n",
      "Gross exports GX =  3.533333333333333\n",
      "Imports IM =  3.333333333333333\n",
      "\n",
      "The real exchange rate ε =  1.1500000000000001\n",
      "\n",
      "The multiplier μ =  1.5\n"
     ]
    },
    {
     "data": {
      "text/plain": [
       "-0.030000000000000006"
      ]
     },
     "execution_count": 17,
     "metadata": {},
     "output_type": "execute_result"
    }
   ],
   "source": [
    "# ANSWER CODE CELL FOR TASK C INITIAL\n",
    "\n",
    "Delta_I_o = -0.5\n",
    "\n",
    "Ystar = 20\n",
    "Y = Ystar\n",
    "\n",
    "c_o = 2\n",
    "c_y = 5/8\n",
    "\n",
    "I_o = 4.4 + Delta_I_o\n",
    "I_r = 10\n",
    "\n",
    "G = 4\n",
    "t = 0.20\n",
    "\n",
    "im_y = 1/6\n",
    "x_f = 0.1\n",
    "Y_f = 20\n",
    "r_f = 0.04\n",
    "\n",
    "x_epsilon = 4/3\n",
    "epsilon_o = 1 \n",
    "epsilon_r = 5\n",
    "\n",
    "mu = 1/(1-c_y*(1-t)+ im_y)\n",
    "\n",
    "r = (((c_o + I_o + G) + \n",
    "    (x_f * Y_f + x_epsilon * epsilon_o + x_epsilon * epsilon_r * r_f) -\n",
    "     Y/mu)/\n",
    "     (I_r + x_epsilon * epsilon_r))\n",
    "\n",
    "C = c_o + c_y * (1-t) * Y\n",
    "I = I_o - I_r * r\n",
    "GX = x_f * Y_f + x_epsilon * epsilon_o + x_epsilon * epsilon_r * (r_f-r)\n",
    "IM = im_y * Y\n",
    "NX = GX - IM\n",
    "\n",
    "epsilon = epsilon_o + epsilon_r * (r_f-r)\n",
    "\n",
    "print(\"The equilibrium real interest rate =\", r)\n",
    "print(\"\")\n",
    "print(\"The components of national income and product Y are:\")\n",
    "print(\"Consumption spending C = \", C)\n",
    "print(\"Investment spending I = \", I)\n",
    "print(\"Government purchases G = \", G)\n",
    "print(\"Net exports NX = \", NX)\n",
    "print(\"\")\n",
    "print(\"Potential output Y* = Output Y = \", Y)\n",
    "print(\"\")\n",
    "print(\"Gross exports GX = \", GX)\n",
    "print(\"Imports IM = \", IM)\n",
    "print(\"\")\n",
    "print(\"The real exchange rate ε = \", epsilon)\n",
    "print(\"\")\n",
    "print(\"The multiplier μ = \", mu)\n",
    "\n",
    "\n",
    "Delta_r_PS10taskC = r - r_ini\n",
    "\n",
    "Delta_r_PS10taskC"
   ]
  },
  {
   "cell_type": "markdown",
   "metadata": {},
   "source": [
    "### (Task C) Flexprice: The Collapse of an Investment Boom (Continued)\n",
    "\n",
    "In the code cell below, write code or otherwise calculate and set the variables:\n",
    "\n",
    "    Delta_I_PS10taskC\n",
    "    Delta_G_PS10taskC\n",
    "    Delta_NX_PS10taskC\n",
    "    Delta_epsilon_PS10taskC\n",
    "    \n",
    "to the changes in their values in the alternative scenario relative ot the baseline"
   ]
  },
  {
   "cell_type": "code",
   "execution_count": 18,
   "metadata": {
    "collapsed": true
   },
   "outputs": [],
   "source": [
    "# CODE CELL FOR TASK C CONTINUED\n",
    "\n",
    "# ...\n",
    "# ...\n",
    "# ...\n",
    "# ...\n",
    "# ...\n",
    "\n",
    "# Delta_I_PS10taskC = \n",
    "# Delta_G_PS10taskC = \n",
    "# Delta_NX_PS10taskC = \n",
    "# Delta_epsilon_PS10taskC ="
   ]
  },
  {
   "cell_type": "code",
   "execution_count": 19,
   "metadata": {},
   "outputs": [
    {
     "name": "stdout",
     "output_type": "stream",
     "text": [
      "Delta_I_PS10taskC =  -0.20000000000000018\n",
      "Delta_G_PS10taskC =  0\n",
      "Delta_NX_PS10taskC =  0.20000000000000018\n",
      "Delta_epsilon_PS10taskC =  0.1499999999999999\n"
     ]
    }
   ],
   "source": [
    "# ANSWER CODE CELL FOR TASK C CONTINUED\n",
    "\n",
    "Delta_I_PS10taskC = I - I_ini\n",
    "Delta_G_PS10taskC = G - G_ini\n",
    "Delta_NX_PS10taskC = NX - NX_ini\n",
    "Delta_epsilon_PS10taskC = epsilon - epsilon_ini\n",
    "\n",
    "print(\"Delta_I_PS10taskC = \", Delta_I_PS10taskC)\n",
    "print(\"Delta_G_PS10taskC = \", Delta_G_PS10taskC)\n",
    "print(\"Delta_NX_PS10taskC = \", Delta_NX_PS10taskC)\n",
    "print(\"Delta_epsilon_PS10taskC = \", Delta_epsilon_PS10taskC)"
   ]
  },
  {
   "cell_type": "code",
   "execution_count": 20,
   "metadata": {},
   "outputs": [
    {
     "name": "stdout",
     "output_type": "stream",
     "text": [
      "~~~~~~~~~~~~~~~~~~~~~~~~~~~~~~~~~~~~~~~~~~~~~~~~~~~~~~~~~~~~~~~~~~~~~\n",
      "Running tests\n",
      "\n",
      "---------------------------------------------------------------------\n",
      "Test summary\n",
      "    Passed: 5\n",
      "    Failed: 0\n",
      "[ooooooooook] 100.0% passed\n",
      "\n"
     ]
    },
    {
     "data": {
      "text/plain": [
       "{'failed': 0, 'locked': 0, 'passed': 5}"
      ]
     },
     "execution_count": 20,
     "metadata": {},
     "output_type": "execute_result"
    }
   ],
   "source": [
    "# Task C answer check\n",
    "\n",
    "import numpy as np\n",
    "ok.grade('q02')"
   ]
  },
  {
   "cell_type": "markdown",
   "metadata": {},
   "source": [
    "### (Task C) The Collapse of an Investment Boom (Conclusion)\n",
    "\n",
    "If everything worked out as it should, you would have identified the portions of the IS Curve equation:\n",
    "\n",
    "&nbsp;&nbsp;&nbsp;&nbsp;&nbsp;&nbsp;&nbsp;&nbsp;&nbsp;\n",
    "$ Y^* = Y = {\\mu}(c_o + I_o + G) + {\\mu}(x_{f}Y^f + x_{\\epsilon}{\\epsilon_o} + x_{\\epsilon}{\\epsilon_r}r^f) - {\\mu}(I_r + x_{\\epsilon}{\\epsilon_r})r $\n",
    "\n",
    "that are relevant to a negative change $ {\\Delta}I_o $ in business investment committees' \"animal spirits\", their willingness to bet on future profits from expanding their firms. Those components are:\n",
    "\n",
    "&nbsp;&nbsp;&nbsp;&nbsp;&nbsp;&nbsp;&nbsp;&nbsp;&nbsp;\n",
    "$ 0 = {\\Delta}Y^* = {\\mu}I_o - {\\mu}(I_r + x_{\\epsilon}{\\epsilon_r})r $\n",
    "\n",
    "And from them—and the parameter values—you could calculate by hand the changes in the variables: $ {\\Delta}r, {\\Delta}I, {\\Delta}G, {\\Delta}NX, and {\\Delta}{\\epsilon} $\n",
    "\n",
    "Or you could have simply solved the model for the initial-scenario equilibrium, solved it for the alternative with the same parameter values except for $ I_o : {\\Delta}I_o = -0.5 $, and compared the results...\n",
    "\n",
    "What you should have found would be that the collapse of animal spirts would have gone to lower real interest rates here at home, and thus raise the exchange rate variable (the value of foreign currency). Lower investment spending would have thus been offset by the expansion in net exports that is the necessary accounting counterpart of an outflow of capital as savings that cannot find a use at home flows abroad. This is the flexprice model: pieces of the flow of spending that shrink must be balanced by other prices that increase to offset and keep total spending equal to potential output.\n",
    "\n",
    "----\n",
    "\n",
    "&nbsp;"
   ]
  },
  {
   "cell_type": "markdown",
   "metadata": {},
   "source": [
    "### (Task D) Flexprice: Higher Interest Rates Abroad (Initial)\n",
    "\n",
    "Start with the IS-Curve for the flexprice model:\n",
    "\n",
    "&nbsp;&nbsp;&nbsp;&nbsp;&nbsp;&nbsp;&nbsp;&nbsp;&nbsp;\n",
    "$ Y^* = Y = {\\mu}(c_o + I_o + G) + {\\mu}(x_{f}Y^f + x_{\\epsilon}{\\epsilon_o} + x_{\\epsilon}{\\epsilon_r}r^f) - {\\mu}(I_r + x_{\\epsilon}{\\epsilon_r})r $\n",
    "\n",
    "Assume that potential output is equal to real national income and product is equal to 20 trillion: \n",
    "\n",
    "&nbsp;&nbsp;&nbsp;&nbsp;&nbsp;&nbsp;&nbsp;&nbsp;&nbsp;\n",
    "$ Y^* = Y = 20 $\n",
    "\n",
    "And assume all parameter values as in the initial scenario setup for Task B.\n",
    "\n",
    "Suppose that overseas central banks begin raising their own interest rates out of a fear of rising inflation: that they raise their real interest rate $ r^f $ by:\n",
    "\n",
    "&nbsp;&nbsp;&nbsp;&nbsp;&nbsp;&nbsp;&nbsp;&nbsp;&nbsp;\n",
    "$ {\\Delta}r^f = +0.02 $\n",
    "\n",
    "In the code cell below, write code or otherwise calculate the model equilibrium and then set to its equilibrium value the variable:\n",
    "\n",
    "    Delta_r_PS10taskD\n",
    "\n",
    "the amount by which the real interest rate r changes in the alternative capital inflow scenario relative to the baseline:"
   ]
  },
  {
   "cell_type": "code",
   "execution_count": 21,
   "metadata": {
    "collapsed": true
   },
   "outputs": [],
   "source": [
    "# CODE CELL FOR TASK D INITIAL\n",
    "\n",
    "# Delta_r_f = +0.02\n",
    "\n",
    "# ...\n",
    "# ...\n",
    "# ...\n",
    "# ...\n",
    "\n",
    "# Delta_r_PS10taskD = "
   ]
  },
  {
   "cell_type": "code",
   "execution_count": 22,
   "metadata": {},
   "outputs": [
    {
     "name": "stdout",
     "output_type": "stream",
     "text": [
      "The equilibrium real interest rate = 0.047999999999999945\n",
      "\n",
      "The components of national income and product Y are:\n",
      "Consumption spending C =  12.0\n",
      "Investment spending I =  3.920000000000001\n",
      "Government purchases G =  4\n",
      "Net exports NX =  0.08000000000000052\n",
      "\n",
      "Potential output Y* = Output Y =  20\n",
      "\n",
      "Gross exports GX =  3.4133333333333336\n",
      "Imports IM =  3.333333333333333\n",
      "\n",
      "The real exchange rate ε =  1.0600000000000003\n",
      "\n",
      "The multiplier μ =  1.5\n"
     ]
    },
    {
     "data": {
      "text/plain": [
       "0.007999999999999972"
      ]
     },
     "execution_count": 22,
     "metadata": {},
     "output_type": "execute_result"
    }
   ],
   "source": [
    "# ANSWER CODE CELL FOR TASK D INITIAL\n",
    "\n",
    "Delta_r_f = +0.02\n",
    "\n",
    "Ystar = 20\n",
    "Y = Ystar\n",
    "\n",
    "c_o = 2\n",
    "c_y = 5/8\n",
    "\n",
    "I_o = 4.4\n",
    "I_r = 10\n",
    "\n",
    "G = 4\n",
    "t = 0.20\n",
    "\n",
    "im_y = 1/6\n",
    "x_f = 0.1\n",
    "Y_f = 20\n",
    "r_f = 0.04 + Delta_r_f\n",
    "\n",
    "x_epsilon = 4/3\n",
    "epsilon_o = 1 \n",
    "epsilon_r = 5\n",
    "\n",
    "mu = 1/(1-c_y*(1-t)+ im_y)\n",
    "\n",
    "r = (((c_o + I_o + G) + \n",
    "    (x_f * Y_f + x_epsilon * epsilon_o + x_epsilon * epsilon_r * r_f) -\n",
    "     Y/mu)/\n",
    "     (I_r + x_epsilon * epsilon_r))\n",
    "\n",
    "C = c_o + c_y * (1-t) * Y\n",
    "I = I_o - I_r * r\n",
    "GX = x_f * Y_f + x_epsilon * epsilon_o + x_epsilon * epsilon_r * (r_f-r)\n",
    "IM = im_y * Y\n",
    "NX = GX - IM\n",
    "\n",
    "epsilon = epsilon_o + epsilon_r * (r_f-r)\n",
    "\n",
    "print(\"The equilibrium real interest rate =\", r)\n",
    "print(\"\")\n",
    "print(\"The components of national income and product Y are:\")\n",
    "print(\"Consumption spending C = \", C)\n",
    "print(\"Investment spending I = \", I)\n",
    "print(\"Government purchases G = \", G)\n",
    "print(\"Net exports NX = \", NX)\n",
    "print(\"\")\n",
    "print(\"Potential output Y* = Output Y = \", Y)\n",
    "print(\"\")\n",
    "print(\"Gross exports GX = \", GX)\n",
    "print(\"Imports IM = \", IM)\n",
    "print(\"\")\n",
    "print(\"The real exchange rate ε = \", epsilon)\n",
    "print(\"\")\n",
    "print(\"The multiplier μ = \", mu)\n",
    "\n",
    "\n",
    "Delta_r_PS10taskD = r - r_ini\n",
    "\n",
    "Delta_r_PS10taskD"
   ]
  },
  {
   "cell_type": "markdown",
   "metadata": {},
   "source": [
    "### (Task D) Flexprice: Higher Interest Rates Abroad (Continued)\n",
    "\n",
    "In the code cell below, write code or otherwise calculate and set the variables:\n",
    "\n",
    "    Delta_I_PS10taskD\n",
    "    Delta_G_PS10taskD\n",
    "    Delta_NX_PS10taskD\n",
    "    Delta_epsilon_PS10taskD\n",
    "    \n",
    "to the changes in their values in the alternative scenario relative ot the baseline"
   ]
  },
  {
   "cell_type": "code",
   "execution_count": 23,
   "metadata": {
    "collapsed": true
   },
   "outputs": [],
   "source": [
    "# CODE CELL FOR TASK D CONTINUED\n",
    "\n",
    "# ...\n",
    "# ...\n",
    "# ...\n",
    "# ...\n",
    "# ...\n",
    "\n",
    "# Delta_I_PS10taskD = \n",
    "# Delta_G_PS10taskD = \n",
    "# Delta_NX_PS10taskD = \n",
    "# Delta_epsilon_PS10taskD ="
   ]
  },
  {
   "cell_type": "code",
   "execution_count": 24,
   "metadata": {},
   "outputs": [
    {
     "name": "stdout",
     "output_type": "stream",
     "text": [
      "Delta_I_PS10taskD =  -0.08000000000000007\n",
      "Delta_G_PS10taskD =  0\n",
      "Delta_NX_PS10taskD =  0.08000000000000052\n",
      "Delta_epsilon_PS10taskD =  0.06000000000000005\n"
     ]
    }
   ],
   "source": [
    "# ANSWER CODE CELL FOR TASK D CONTINUED\n",
    "\n",
    "Delta_I_PS10taskD = I - I_ini\n",
    "Delta_G_PS10taskD = G - G_ini\n",
    "Delta_NX_PS10taskD = NX - NX_ini\n",
    "Delta_epsilon_PS10taskD = epsilon - epsilon_ini\n",
    "\n",
    "print(\"Delta_I_PS10taskD = \", Delta_I_PS10taskD)\n",
    "print(\"Delta_G_PS10taskD = \", Delta_G_PS10taskD)\n",
    "print(\"Delta_NX_PS10taskD = \", Delta_NX_PS10taskD)\n",
    "print(\"Delta_epsilon_PS10taskD = \", Delta_epsilon_PS10taskD)"
   ]
  },
  {
   "cell_type": "code",
   "execution_count": 25,
   "metadata": {},
   "outputs": [
    {
     "name": "stdout",
     "output_type": "stream",
     "text": [
      "~~~~~~~~~~~~~~~~~~~~~~~~~~~~~~~~~~~~~~~~~~~~~~~~~~~~~~~~~~~~~~~~~~~~~\n",
      "Running tests\n",
      "\n",
      "---------------------------------------------------------------------\n",
      "Test summary\n",
      "    Passed: 5\n",
      "    Failed: 0\n",
      "[ooooooooook] 100.0% passed\n",
      "\n"
     ]
    },
    {
     "data": {
      "text/plain": [
       "{'failed': 0, 'locked': 0, 'passed': 5}"
      ]
     },
     "execution_count": 25,
     "metadata": {},
     "output_type": "execute_result"
    }
   ],
   "source": [
    "# TASK D ANSWER CHECK\n",
    "\n",
    "import numpy as np\n",
    "ok.grade('q03')"
   ]
  },
  {
   "cell_type": "markdown",
   "metadata": {},
   "source": [
    "### (Task D) Flexprice: Higher Interest Rates Abroad (Conclusion)\n",
    "\n",
    "If everything worked out as it should, you would have identified the portions of the IS Curve equation:\n",
    "\n",
    "&nbsp;&nbsp;&nbsp;&nbsp;&nbsp;&nbsp;&nbsp;&nbsp;&nbsp;\n",
    "$ Y^* = Y = {\\mu}(c_o + I_o + G) + {\\mu}(x_{f}Y^f + x_{\\epsilon}{\\epsilon_o} + x_{\\epsilon}{\\epsilon_r}r^f) - {\\mu}(I_r + x_{\\epsilon}{\\epsilon_r})r $\n",
    "\n",
    "that are relevant to a change $ {\\Delta}r^f $ in interest rates abroad as foreign central banks tighten monetary policy in order to fight inflation. Those components are:\n",
    "\n",
    "&nbsp;&nbsp;&nbsp;&nbsp;&nbsp;&nbsp;&nbsp;&nbsp;&nbsp;\n",
    "$ 0 = {\\Delta}Y^* = {\\mu}x_{\\epsilon}{\\epsilon_r}r^f) - {\\mu}(I_r + x_{\\epsilon}{\\epsilon_r})r $\n",
    "\n",
    "And from them—and the parameter values—you could calculate by hand the changes in the variables: $ {\\Delta}r, {\\Delta}I, {\\Delta}G, {\\Delta}NX $, and $ {\\Delta}{\\epsilon} $\n",
    "\n",
    "Or you could have simply solved the model for the initial-scenario equilibrium, solved it for the alternative with the same parameter values except for $ r^f $, and compared the results...\n",
    "\n",
    "What you should have found would be that higher interest rates abroad would have raised the value of the exchange rate variable (the value of foreign currency) as the greed of foreign exchange speculators seeking higher interest rates led them to move money out of the home country. Thus there would have been an export boom. As finance flowed out, however, the domestic interest rate would have risen. The result would have been lower investment spending here at home. This lower investment spending would have thus been the offset of the expansion in net exports that is the necessary accounting counterpart of an outflow of capital. This is the flexprice model: pieces of the flow of spending that shrink must be balanced by other prices that increase to offset and keep total spending equal to potential output.\n",
    "\n",
    "----\n",
    "\n",
    "&nbsp;"
   ]
  },
  {
   "cell_type": "markdown",
   "metadata": {},
   "source": [
    "### (Task E) Sticky-Price: A Fiscal Boost via Expanded Government Purchases (Initial)\n",
    "\n",
    "Start with the IS-Curve for the sticky-price model:\n",
    "\n",
    "&nbsp;&nbsp;&nbsp;&nbsp;&nbsp;&nbsp;&nbsp;&nbsp;&nbsp;\n",
    "$ Y = E = {\\mu}(c_o + I_o + G) + {\\mu}(x_{f}Y^f + x_{\\epsilon}{\\epsilon_o} + x_{\\epsilon}{\\epsilon_r}r^f) - {\\mu}(I_r + x_{\\epsilon}{\\epsilon_r})r $\n",
    "\n",
    "Remember: causation now moves from right to left: the components of spending add up to aggregate demand or total expenditure E, and the inventory adjustment process then drives national income and product Y to aggregate demand.\n",
    "\n",
    "Otherwise, assume all parameter values as in the initial setup for Task B.\n",
    "\n",
    "The code cell immediately below sets the values of the parameters and calculates the components of aggregate demand, the level of national income and product, and the level of the exchange rate variable $ \\epsilon $ for an initial value of the real interest rate r = 4%.\n",
    "\n",
    "In the code cell below the setup cell, calculate the change in national product produced by a 500 billion increase in government purchases $ {\\Delta}G = +0.5 $, holding constant the real interest rate r, and set the value of the variable:\n",
    "\n",
    "    Delta_Y_PS10taskE\n",
    "    \n",
    "to that calculated change:"
   ]
  },
  {
   "cell_type": "code",
   "execution_count": 26,
   "metadata": {},
   "outputs": [
    {
     "name": "stdout",
     "output_type": "stream",
     "text": [
      "The real interest rate = 0.04\n",
      "\n",
      "The components of national income and product Y are:\n",
      "Consumption spending C =  12.0\n",
      "Investment spending I =  4.0\n",
      "Government purchases G =  4\n",
      "Net exports NX =  0.0\n",
      "\n",
      "Output Y =  20.0\n",
      "\n",
      "Gross exports GX =  3.333333333333333\n",
      "Imports IM =  3.333333333333333\n",
      "\n",
      "The real exchange rate ε =  1.0\n",
      "\n",
      "The multiplier μ =  1.5\n"
     ]
    }
   ],
   "source": [
    "# STICKY-PRICE MODEL INITIAL SCENARIO SETUP\n",
    "\n",
    "# Set initial parameter and variable values\n",
    "c_o = 2\n",
    "c_y = 5/8\n",
    "\n",
    "I_o = 4.4\n",
    "I_r = 10\n",
    "\n",
    "G = 4\n",
    "t = 0.20\n",
    "\n",
    "im_y = 1/6\n",
    "x_f = 0.1\n",
    "Y_f = 20\n",
    "r_f = 0.04\n",
    "\n",
    "x_epsilon = 4/3\n",
    "epsilon_o = 1\n",
    "epsilon_r = 5\n",
    "\n",
    "# Calculate the value of the multiplier\n",
    "mu = 1/(1-c_y*(1-t)+ im_y)\n",
    "\n",
    "# Set the real interest rate\n",
    "r = 0.04\n",
    "\n",
    "# Calculate the equilibrium value of Y from the IS Curve\n",
    "Y = mu * ((c_o + I_o + G) + \n",
    "    (x_f * Y_f + x_epsilon * epsilon_o + x_epsilon * epsilon_r * r_f) -\n",
    "    (I_r + x_epsilon * epsilon_r)* r) \n",
    "\n",
    "# calculcate the values of other economic variables \n",
    "# in this initial scenario\n",
    "C = c_o + c_y * (1-t) * Y\n",
    "I = I_o - I_r * r\n",
    "GX = x_f * Y_f + x_epsilon * epsilon_o + x_epsilon * epsilon_r * (r_f-r)\n",
    "IM = im_y * Y\n",
    "NX = GX - IM\n",
    "epsilon = epsilon_o + epsilon_r * (r_f-r)\n",
    "\n",
    "# print out the values of economic variables in \n",
    "# this initial scenario equilibrium\n",
    "print(\"The real interest rate =\", r)\n",
    "print(\"\")\n",
    "print(\"The components of national income and product Y are:\")\n",
    "print(\"Consumption spending C = \", C)\n",
    "print(\"Investment spending I = \", I)\n",
    "print(\"Government purchases G = \", G)\n",
    "print(\"Net exports NX = \", NX)\n",
    "print(\"\")\n",
    "print(\"Output Y = \", Y)\n",
    "print(\"\")\n",
    "print(\"Gross exports GX = \", GX)\n",
    "print(\"Imports IM = \", IM)\n",
    "print(\"\")\n",
    "print(\"The real exchange rate ε = \", epsilon)\n",
    "print(\"\")\n",
    "print(\"The multiplier μ = \", mu)\n",
    "\n",
    "# AFTER YOU RUN THIS CELL, DO NOT OVERWRITE THE VALUES OF THE\n",
    "# _ini VARIABLES!\n",
    "#\n",
    "# remember the values of the economic variables in this \n",
    "# initial scenario\n",
    "r_ini = r\n",
    "I_ini = I\n",
    "G_ini = G\n",
    "NX_ini = NX\n",
    "epsilon_ini = epsilon\n",
    "Y_ini = Y\n",
    "C_ini = C"
   ]
  },
  {
   "cell_type": "code",
   "execution_count": 27,
   "metadata": {
    "collapsed": true
   },
   "outputs": [],
   "source": [
    "# CODE CELL FOR TASK E INITIAL\n",
    "\n",
    "# Delta_G = +0.5\n",
    "\n",
    "# ...\n",
    "# ...\n",
    "# ...\n",
    "# ...\n",
    "\n",
    "# Delta_Y_PS10taskE = "
   ]
  },
  {
   "cell_type": "code",
   "execution_count": 28,
   "metadata": {},
   "outputs": [
    {
     "name": "stdout",
     "output_type": "stream",
     "text": [
      "The real interest rate = 0.04\n",
      "\n",
      "The components of national income and product Y are:\n",
      "Consumption spending C =  12.375\n",
      "Investment spending I =  4.0\n",
      "Government purchases G =  4.5\n",
      "Net exports NX =  -0.125\n",
      "\n",
      "Output Y =  20.75\n",
      "\n",
      "Gross exports GX =  3.333333333333333\n",
      "Imports IM =  3.458333333333333\n",
      "\n",
      "The real exchange rate ε =  1.0\n",
      "\n",
      "The multiplier μ =  1.5\n"
     ]
    },
    {
     "data": {
      "text/plain": [
       "0.75"
      ]
     },
     "execution_count": 28,
     "metadata": {},
     "output_type": "execute_result"
    }
   ],
   "source": [
    "# ANSWER CODE CELL FOR TASK E INITIAL\n",
    "\n",
    "Delta_G = +0.5\n",
    "\n",
    "c_o = 2\n",
    "c_y = 5/8\n",
    "\n",
    "I_o = 4.4\n",
    "I_r = 10\n",
    "\n",
    "G = 4 + Delta_G\n",
    "t = 0.20\n",
    "\n",
    "im_y = 1/6\n",
    "x_f = 0.1\n",
    "Y_f = 20\n",
    "r_f = 0.04\n",
    "\n",
    "x_epsilon = 4/3\n",
    "epsilon_o = 1\n",
    "epsilon_r = 5\n",
    "\n",
    "# Calculate the value of the multiplier\n",
    "mu = 1/(1-c_y*(1-t)+ im_y)\n",
    "\n",
    "# Set the real interest rate\n",
    "r = 0.04\n",
    "\n",
    "# Calculate the equilibrium value of Y from the IS Curve\n",
    "Y = mu * ((c_o + I_o + G) + \n",
    "    (x_f * Y_f + x_epsilon * epsilon_o + x_epsilon * epsilon_r * r_f) -\n",
    "    (I_r + x_epsilon * epsilon_r)* r)\n",
    "\n",
    "# calculate the values of other economic variables \n",
    "# in this initial scenario\n",
    "C = c_o + c_y * (1-t) * Y\n",
    "I = I_o - I_r * r\n",
    "GX = x_f * Y_f + x_epsilon * epsilon_o + x_epsilon * epsilon_r * (r_f-r)\n",
    "IM = im_y * Y\n",
    "NX = GX - IM\n",
    "epsilon = epsilon_o + epsilon_r * (r_f-r)\n",
    "\n",
    "# print out the values of economic variables in \n",
    "# this initial scenario equilibrium\n",
    "print(\"The real interest rate =\", r)\n",
    "print(\"\")\n",
    "print(\"The components of national income and product Y are:\")\n",
    "print(\"Consumption spending C = \", C)\n",
    "print(\"Investment spending I = \", I)\n",
    "print(\"Government purchases G = \", G)\n",
    "print(\"Net exports NX = \", NX)\n",
    "print(\"\")\n",
    "print(\"Output Y = \", Y)\n",
    "print(\"\")\n",
    "print(\"Gross exports GX = \", GX)\n",
    "print(\"Imports IM = \", IM)\n",
    "print(\"\")\n",
    "print(\"The real exchange rate ε = \", epsilon)\n",
    "print(\"\")\n",
    "print(\"The multiplier μ = \", mu)\n",
    "\n",
    "\n",
    "Delta_Y_PS10taskE = Y - Y_ini\n",
    "\n",
    "Delta_Y_PS10taskE"
   ]
  },
  {
   "cell_type": "markdown",
   "metadata": {},
   "source": [
    "### (Task E) Sticky-Price: A Fiscal Boost via Expanded Government Purchases (Continued)\n",
    "\n",
    "In the code cell below, write code or otherwise calculate and set the variables:\n",
    "\n",
    "    Delta_C_PS10taskE\n",
    "    Delta_I_PS10taskE\n",
    "    Delta_G_PS10taskE\n",
    "    Delta_NX_PS10taskE\n",
    "    Delta_epsilon_PS10taskE\n",
    "    \n",
    "to the changes in their values in the alternative scenario relative ot the baseline"
   ]
  },
  {
   "cell_type": "code",
   "execution_count": 29,
   "metadata": {
    "collapsed": true
   },
   "outputs": [],
   "source": [
    "# CODE CELL FOR TASK E CONTINUED\n",
    "\n",
    "# ...\n",
    "# ...\n",
    "# ...\n",
    "# ...\n",
    "# ...\n",
    "\n",
    "# Delta_C_PS10taskE =\n",
    "# Delta_I_PS10taskE = \n",
    "# Delta_G_PS10taskE = \n",
    "# Delta_NX_PS10taskE = \n",
    "# Delta_epsilon_PS10taskE =\n",
    "# Delta_r_PS10taskE ="
   ]
  },
  {
   "cell_type": "code",
   "execution_count": 30,
   "metadata": {},
   "outputs": [
    {
     "name": "stdout",
     "output_type": "stream",
     "text": [
      "Delta_C_PS10taskE =  0.375\n",
      "Delta_I_PS10taskE =  0.0\n",
      "Delta_G_PS10taskE =  0.5\n",
      "Delta_NX_PS10taskE =  -0.125\n",
      "Delta_epsilon_PS10taskE =  0.0\n",
      "Delta_r_PS10taskE =  0.0\n"
     ]
    }
   ],
   "source": [
    "# ANSWER CODE CELL FOR TASK E CONTINUED\n",
    "\n",
    "Delta_C_PS10taskE = C - C_ini\n",
    "Delta_I_PS10taskE = I - I_ini\n",
    "Delta_G_PS10taskE = G - G_ini\n",
    "Delta_NX_PS10taskE = NX - NX_ini\n",
    "Delta_epsilon_PS10taskE = epsilon - epsilon_ini\n",
    "Delta_r_PS10taskE = r - r_ini\n",
    "\n",
    "print(\"Delta_C_PS10taskE = \", Delta_C_PS10taskE)\n",
    "print(\"Delta_I_PS10taskE = \", Delta_I_PS10taskE)\n",
    "print(\"Delta_G_PS10taskE = \", Delta_G_PS10taskE)\n",
    "print(\"Delta_NX_PS10taskE = \", Delta_NX_PS10taskE)\n",
    "print(\"Delta_epsilon_PS10taskE = \", Delta_epsilon_PS10taskE)\n",
    "print(\"Delta_r_PS10taskE = \", Delta_r_PS10taskE)"
   ]
  },
  {
   "cell_type": "code",
   "execution_count": 31,
   "metadata": {},
   "outputs": [
    {
     "name": "stdout",
     "output_type": "stream",
     "text": [
      "~~~~~~~~~~~~~~~~~~~~~~~~~~~~~~~~~~~~~~~~~~~~~~~~~~~~~~~~~~~~~~~~~~~~~\n",
      "Running tests\n",
      "\n",
      "---------------------------------------------------------------------\n",
      "Test summary\n",
      "    Passed: 7\n",
      "    Failed: 0\n",
      "[ooooooooook] 100.0% passed\n",
      "\n"
     ]
    },
    {
     "data": {
      "text/plain": [
       "{'failed': 0, 'locked': 0, 'passed': 7}"
      ]
     },
     "execution_count": 31,
     "metadata": {},
     "output_type": "execute_result"
    }
   ],
   "source": [
    "# TASK E ANSWER CHECK\n",
    "\n",
    "import numpy as np\n",
    "ok.grade('q04')"
   ]
  },
  {
   "cell_type": "markdown",
   "metadata": {},
   "source": [
    "### (Task E) Sticky-Price: A Fiscal Boost via Expanded Government Purchases (Conclusion)\n",
    "\n",
    "If everything worked out as it should, you would have identified the portions of the sticky-price IS Curve equation:\n",
    "\n",
    "&nbsp;&nbsp;&nbsp;&nbsp;&nbsp;&nbsp;&nbsp;&nbsp;&nbsp;\n",
    "$ Y = E = {\\mu}(c_o + I_o + G) + {\\mu}(x_{f}Y^f + x_{\\epsilon}{\\epsilon_o} + x_{\\epsilon}{\\epsilon_r}r^f) - {\\mu}(I_r + x_{\\epsilon}{\\epsilon_r})r $\n",
    "\n",
    "that are relevant to an increase $ {\\Delta}G $ in government purchases holding the real interest rate constant. Those components are:\n",
    "\n",
    "&nbsp;&nbsp;&nbsp;&nbsp;&nbsp;&nbsp;&nbsp;&nbsp;&nbsp;\n",
    "$ {\\Delta}Y = {\\Delta}E = {\\mu}{\\Delta}G) $\n",
    "\n",
    "And from them—and the parameter values—you could calculate by hand the changes in other economic variables.\n",
    "\n",
    "Or you could have simply solved the model for the initial-scenario equilibrium, solved it for the alternative with the same parameter values except for $ G : {\\Delta}G = +0.5 $, and compared the results...\n",
    "\n",
    "What you should have found would be the standard Keynesian multiplier result: When national income and product Y is demand determined, as in the sticky price model, there is a multiplied effect of any change in autonomous spending on Y. The multiplier comes from the positive feedback channel by which higher national income Y induces higher consumption spending C. The multiplier effect is partially damped because some of the flow of spending \"leaks\" abroad in the form of higher imports.\n",
    "\n",
    "----\n",
    "\n",
    "&nbsp;"
   ]
  },
  {
   "cell_type": "markdown",
   "metadata": {},
   "source": [
    "###(Task F) Moving Along the Sticky-Price IS-Curve via Tighter Monetary Policy (Initial)\n",
    "\n",
    "Start with the IS-Curve for the sticky-price model:\n",
    "\n",
    "&nbsp;&nbsp;&nbsp;&nbsp;&nbsp;&nbsp;&nbsp;&nbsp;&nbsp;\n",
    "$ Y = E = {\\mu}(c_o + I_o + G) + {\\mu}(x_{f}Y^f + x_{\\epsilon}{\\epsilon_o} + x_{\\epsilon}{\\epsilon_r}r^f) - {\\mu}(I_r + x_{\\epsilon}{\\epsilon_r})r $\n",
    "\n",
    "Remember: causation now moves from right to left: the components of spending add up to aggregate demand or total expenditure E, and the inventory adjustment process then drives national income and product Y to aggregate demand.\n",
    "\n",
    "Otherwise, assume all parameter values as in the initial setup for Task B.\n",
    "\n",
    "The code cell immediately below sets the values of the parameters and calculates the components of aggregate demand, the level of national income and product, and the level of the exchange rate variable $ \\epsilon $ for an initial value of the real interest rate r = 4%.\n",
    "\n",
    "In the code cell below the setup cell, calculate the change in national product produced by a shift in the real interest rate r: by a change $ {\\Delta}r = + 0.04 $ raising the real interest rate from 4% to 8% to fight inflation. Set the value of the variable:\n",
    "\n",
    "    Delta_Y_PS10taskF\n",
    "    \n",
    "to that calculated change:"
   ]
  },
  {
   "cell_type": "code",
   "execution_count": 32,
   "metadata": {},
   "outputs": [
    {
     "name": "stdout",
     "output_type": "stream",
     "text": [
      "The real interest rate = 0.04\n",
      "\n",
      "The components of national income and product Y are:\n",
      "Consumption spending C =  12.0\n",
      "Investment spending I =  4.0\n",
      "Government purchases G =  4\n",
      "Net exports NX =  0.0\n",
      "\n",
      "Output Y =  20.0\n",
      "\n",
      "Gross exports GX =  3.333333333333333\n",
      "Imports IM =  3.333333333333333\n",
      "\n",
      "The real exchange rate ε =  1.0\n",
      "\n",
      "The multiplier μ =  1.5\n"
     ]
    }
   ],
   "source": [
    "# STICKY-PRICE MODEL INITIAL SCENARIO SETUP\n",
    "\n",
    "# Set initial parameter and variable values\n",
    "c_o = 2\n",
    "c_y = 5/8\n",
    "\n",
    "I_o = 4.4\n",
    "I_r = 10\n",
    "\n",
    "G = 4\n",
    "t = 0.20\n",
    "\n",
    "im_y = 1/6\n",
    "x_f = 0.1\n",
    "Y_f = 20\n",
    "r_f = 0.04\n",
    "\n",
    "x_epsilon = 4/3\n",
    "epsilon_o = 1\n",
    "epsilon_r = 5\n",
    "\n",
    "# Calculate the value of the multiplier\n",
    "mu = 1/(1-c_y*(1-t)+ im_y)\n",
    "\n",
    "# Set the real interest rate\n",
    "r = 0.04\n",
    "\n",
    "# Calculate the equilibrium value of Y from the IS Curve\n",
    "Y = mu * ((c_o + I_o + G) + \n",
    "    (x_f * Y_f + x_epsilon * epsilon_o + x_epsilon * epsilon_r * r_f) -\n",
    "    (I_r + x_epsilon * epsilon_r)* r) \n",
    "\n",
    "# calculcate the values of other economic variables \n",
    "# in this initial scenario\n",
    "C = c_o + c_y * (1-t) * Y\n",
    "I = I_o - I_r * r\n",
    "GX = x_f * Y_f + x_epsilon * epsilon_o + x_epsilon * epsilon_r * (r_f-r)\n",
    "IM = im_y * Y\n",
    "NX = GX - IM\n",
    "epsilon = epsilon_o + epsilon_r * (r_f-r)\n",
    "\n",
    "# print out the values of economic variables in \n",
    "# this initial scenario equilibrium\n",
    "print(\"The real interest rate =\", r)\n",
    "print(\"\")\n",
    "print(\"The components of national income and product Y are:\")\n",
    "print(\"Consumption spending C = \", C)\n",
    "print(\"Investment spending I = \", I)\n",
    "print(\"Government purchases G = \", G)\n",
    "print(\"Net exports NX = \", NX)\n",
    "print(\"\")\n",
    "print(\"Output Y = \", Y)\n",
    "print(\"\")\n",
    "print(\"Gross exports GX = \", GX)\n",
    "print(\"Imports IM = \", IM)\n",
    "print(\"\")\n",
    "print(\"The real exchange rate ε = \", epsilon)\n",
    "print(\"\")\n",
    "print(\"The multiplier μ = \", mu)\n",
    "\n",
    "# AFTER YOU RUN THIS CELL, DO NOT OVERWRITE THE VALUES OF THE\n",
    "# _ini VARIABLES!\n",
    "#\n",
    "# remember the values of the economic variables in this \n",
    "# initial scenario\n",
    "r_ini = r\n",
    "I_ini = I\n",
    "G_ini = G\n",
    "NX_ini = NX\n",
    "epsilon_ini = epsilon\n",
    "Y_ini = Y\n",
    "C_ini = C"
   ]
  },
  {
   "cell_type": "code",
   "execution_count": 33,
   "metadata": {
    "collapsed": true
   },
   "outputs": [],
   "source": [
    "# CODE CELL FOR TASK E INITIAL\n",
    "\n",
    "# Delta_r = 0.04\n",
    "\n",
    "# ...\n",
    "# ...\n",
    "# ...\n",
    "# ...\n",
    "\n",
    "# Delta_Y_PS10taskE = "
   ]
  },
  {
   "cell_type": "code",
   "execution_count": 34,
   "metadata": {},
   "outputs": [
    {
     "name": "stdout",
     "output_type": "stream",
     "text": [
      "The real interest rate = 0.08\n",
      "\n",
      "The components of national income and product Y are:\n",
      "Consumption spending C =  11.5\n",
      "Investment spending I =  3.6000000000000005\n",
      "Government purchases G =  4\n",
      "Net exports NX =  -0.10000000000000009\n",
      "\n",
      "Output Y =  19.0\n",
      "\n",
      "Gross exports GX =  3.0666666666666664\n",
      "Imports IM =  3.1666666666666665\n",
      "\n",
      "The real exchange rate ε =  0.8\n",
      "\n",
      "The multiplier μ =  1.5\n"
     ]
    },
    {
     "data": {
      "text/plain": [
       "-1.0"
      ]
     },
     "execution_count": 34,
     "metadata": {},
     "output_type": "execute_result"
    }
   ],
   "source": [
    "# ANSWER CODE CELL FOR TASK F INITIAL\n",
    "\n",
    "Delta_r = 0.04\n",
    "\n",
    "c_o = 2\n",
    "c_y = 5/8\n",
    "\n",
    "I_o = 4.4\n",
    "I_r = 10\n",
    "\n",
    "G = 4\n",
    "t = 0.20\n",
    "\n",
    "im_y = 1/6\n",
    "x_f = 0.1\n",
    "Y_f = 20\n",
    "r_f = 0.04\n",
    "\n",
    "x_epsilon = 4/3\n",
    "epsilon_o = 1\n",
    "epsilon_r = 5\n",
    "\n",
    "# Calculate the value of the multiplier\n",
    "mu = 1/(1-c_y*(1-t)+ im_y)\n",
    "\n",
    "# Set the real interest rate\n",
    "r = 0.04 + Delta_r\n",
    "\n",
    "# Calculate the equilibrium value of Y from the IS Curve\n",
    "Y = mu * ((c_o + I_o + G) + \n",
    "    (x_f * Y_f + x_epsilon * epsilon_o + x_epsilon * epsilon_r * r_f) -\n",
    "    (I_r + x_epsilon * epsilon_r)* r)\n",
    "\n",
    "# calculate the values of other economic variables \n",
    "# in this initial scenario\n",
    "C = c_o + c_y * (1-t) * Y\n",
    "I = I_o - I_r * r\n",
    "GX = x_f * Y_f + x_epsilon * epsilon_o + x_epsilon * epsilon_r * (r_f-r)\n",
    "IM = im_y * Y\n",
    "NX = GX - IM\n",
    "epsilon = epsilon_o + epsilon_r * (r_f-r)\n",
    "\n",
    "# print out the values of economic variables in \n",
    "# this initial scenario equilibrium\n",
    "print(\"The real interest rate =\", r)\n",
    "print(\"\")\n",
    "print(\"The components of national income and product Y are:\")\n",
    "print(\"Consumption spending C = \", C)\n",
    "print(\"Investment spending I = \", I)\n",
    "print(\"Government purchases G = \", G)\n",
    "print(\"Net exports NX = \", NX)\n",
    "print(\"\")\n",
    "print(\"Output Y = \", Y)\n",
    "print(\"\")\n",
    "print(\"Gross exports GX = \", GX)\n",
    "print(\"Imports IM = \", IM)\n",
    "print(\"\")\n",
    "print(\"The real exchange rate ε = \", epsilon)\n",
    "print(\"\")\n",
    "print(\"The multiplier μ = \", mu)\n",
    "\n",
    "\n",
    "Delta_Y_PS10taskE = Y - Y_ini\n",
    "\n",
    "Delta_Y_PS10taskE"
   ]
  },
  {
   "cell_type": "markdown",
   "metadata": {},
   "source": [
    "### (Task F) Moving Along the Sticky-Price IS-Curve via Tighter Monetary Policy (Continued)\n",
    "\n",
    "In the code cell below, write code or otherwise calculate and set the variables:\n",
    "\n",
    "    Delta_C_PS10taskF\n",
    "    Delta_I_PS10taskF\n",
    "    Delta_G_PS10taskF\n",
    "    Delta_NX_PS10taskF\n",
    "    Delta_epsilon_PS10taskF\n",
    "    \n",
    "to the changes in their values in the alternative scenario relative ot the baseline"
   ]
  },
  {
   "cell_type": "code",
   "execution_count": 35,
   "metadata": {
    "collapsed": true
   },
   "outputs": [],
   "source": [
    "# CODE CELL FOR TASK F CONTINUED\n",
    "\n",
    "# ...\n",
    "# ...\n",
    "# ...\n",
    "# ...\n",
    "# ...\n",
    "\n",
    "# Delta_C_PS10taskF =\n",
    "# Delta_I_PS10taskF = \n",
    "# Delta_G_PS10taskF = \n",
    "# Delta_NX_PS10taskF = \n",
    "# Delta_epsilon_PS10taskF =\n",
    "# Delta_r_PS10taskF ="
   ]
  },
  {
   "cell_type": "code",
   "execution_count": 36,
   "metadata": {},
   "outputs": [
    {
     "name": "stdout",
     "output_type": "stream",
     "text": [
      "Delta_C_PS10taskF =  -0.5\n",
      "Delta_I_PS10taskF =  -0.39999999999999947\n",
      "Delta_G_PS10taskF =  0\n",
      "Delta_NX_PS10taskF =  -0.10000000000000009\n",
      "Delta_epsilon_PS10taskF =  -0.19999999999999996\n",
      "Delta_r_PS10taskF =  0.04\n"
     ]
    }
   ],
   "source": [
    "# ANSWER CODE CELL FOR TASK F CONTINUED\n",
    "\n",
    "Delta_C_PS10taskF = C - C_ini\n",
    "Delta_I_PS10taskF = I - I_ini\n",
    "Delta_G_PS10taskF = G - G_ini\n",
    "Delta_NX_PS10taskF = NX - NX_ini\n",
    "Delta_epsilon_PS10taskF = epsilon - epsilon_ini\n",
    "Delta_r_PS10taskF = r - r_ini\n",
    "\n",
    "print(\"Delta_C_PS10taskF = \", Delta_C_PS10taskF)\n",
    "print(\"Delta_I_PS10taskF = \", Delta_I_PS10taskF)\n",
    "print(\"Delta_G_PS10taskF = \", Delta_G_PS10taskF)\n",
    "print(\"Delta_NX_PS10taskF = \", Delta_NX_PS10taskF)\n",
    "print(\"Delta_epsilon_PS10taskF = \", Delta_epsilon_PS10taskF)\n",
    "print(\"Delta_r_PS10taskF = \", Delta_r_PS10taskF)"
   ]
  },
  {
   "cell_type": "code",
   "execution_count": 37,
   "metadata": {},
   "outputs": [
    {
     "name": "stdout",
     "output_type": "stream",
     "text": [
      "~~~~~~~~~~~~~~~~~~~~~~~~~~~~~~~~~~~~~~~~~~~~~~~~~~~~~~~~~~~~~~~~~~~~~\n",
      "Running tests\n",
      "\n",
      "---------------------------------------------------------------------\n",
      " > Suite 1 > Case 6\n",
      "\n",
      ">>> import numpy as np\n",
      ">>> np.isclose(Delta_Y_PS10taskF, -1.0, atol=0.01)\n",
      "NameError: name 'Delta_Y_PS10taskF' is not defined\n",
      "\n",
      "# Error: expected\n",
      "#     True\n",
      "# but got\n",
      "#     Traceback (most recent call last):\n",
      "#       ...\n",
      "#     NameError: name 'Delta_Y_PS10taskF' is not defined\n",
      "\n",
      "Run only this test case with \"python3 ok -q q05 --suite 1 --case 6\"\n",
      "---------------------------------------------------------------------\n",
      "Test summary\n",
      "    Passed: 5\n",
      "    Failed: 1\n",
      "[ooooooook..] 83.3% passed\n",
      "\n"
     ]
    },
    {
     "data": {
      "text/plain": [
       "{'failed': 1, 'locked': 0, 'passed': 5}"
      ]
     },
     "execution_count": 37,
     "metadata": {},
     "output_type": "execute_result"
    }
   ],
   "source": [
    "# TASK F ANSWER CHECK\n",
    "\n",
    "import numpy as np\n",
    "ok.grade('q05')"
   ]
  },
  {
   "cell_type": "markdown",
   "metadata": {},
   "source": [
    "### (Task F) Moving Along the Sticky-Price IS-Curve via Tighter Monetary Policy (Conclusion)\n",
    "\n",
    "If everything worked out as it should, you would have identified the portions of the sticky-price IS Curve equation:\n",
    "\n",
    "&nbsp;&nbsp;&nbsp;&nbsp;&nbsp;&nbsp;&nbsp;&nbsp;&nbsp;\n",
    "$ Y = E = {\\mu}(c_o + I_o + G) + {\\mu}(x_{f}Y^f + x_{\\epsilon}{\\epsilon_o} + x_{\\epsilon}{\\epsilon_r}r^f) - {\\mu}(I_r + x_{\\epsilon}{\\epsilon_r})r $\n",
    "\n",
    "that are relevant to an increase $ {\\Delta}G $ in government purchases holding the real interest rate constant. Those components are:\n",
    "\n",
    "&nbsp;&nbsp;&nbsp;&nbsp;&nbsp;&nbsp;&nbsp;&nbsp;&nbsp;\n",
    "$ {\\Delta}Y = {\\Delta}E = {\\mu}{\\Delta}G) $\n",
    "\n",
    "And from them—and the parameter values—you could calculate by hand the changes in other economic variables.\n",
    "\n",
    "Or you could have simply solved the model for the initial-scenario equilibrium, solved it for the alternative with the same parameter values except for $ G : {\\Delta}G = +0.5 $, and compared the results...\n",
    "\n",
    "What you should have found would be the standard Keynesian multiplier result: When national income and product Y is demand determined, as in the sticky price model, there is a multiplied effect of any change in autonomous spending on Y. The multiplier comes from the positive feedback channel by which higher national income Y induces higher consumption spending C. The multiplier effect is partially damped because some of the flow of spending \"leaks\" abroad in the form of higher imports.\n",
    "\n",
    "----\n",
    "\n",
    "&nbsp;"
   ]
  },
  {
   "cell_type": "code",
   "execution_count": 38,
   "metadata": {},
   "outputs": [
    {
     "data": {
      "application/javascript": [
       "IPython.notebook.save_checkpoint();"
      ],
      "text/plain": [
       "<IPython.core.display.Javascript object>"
      ]
     },
     "metadata": {},
     "output_type": "display_data"
    },
    {
     "data": {
      "application/javascript": [
       "IPython.notebook.save_notebook();"
      ],
      "text/plain": [
       "<IPython.core.display.Javascript object>"
      ]
     },
     "metadata": {},
     "output_type": "display_data"
    },
    {
     "name": "stdout",
     "output_type": "stream",
     "text": [
      "Saving notebook... Saved 'PS10.ipynb'.\n",
      "Submit... 100% complete\n",
      "Submission successful for user: jbdelong@berkeley.edu\n",
      "URL: https://okpy.org/cal/econ101b/sp18/PS10/submissions/O7BpgR\n",
      "\n"
     ]
    }
   ],
   "source": [
    "_ = ok.submit()"
   ]
  }
 ],
 "metadata": {
  "celltoolbar": "Edit Metadata",
  "kernelspec": {
   "display_name": "Python 3",
   "language": "python",
   "name": "python3"
  },
  "language_info": {
   "codemirror_mode": {
    "name": "ipython",
    "version": 3
   },
   "file_extension": ".py",
   "mimetype": "text/x-python",
   "name": "python",
   "nbconvert_exporter": "python",
   "pygments_lexer": "ipython3",
   "version": "3.6.1"
  }
 },
 "nbformat": 4,
 "nbformat_minor": 2
}

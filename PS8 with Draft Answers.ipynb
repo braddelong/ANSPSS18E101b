{
 "cells": [
  {
   "cell_type": "markdown",
   "metadata": {
    "slideshow": {
     "slide_type": "notes"
    }
   },
   "source": [
    "# 2018-02-20 Econ 101b Problem Set 8 with DRAFT answers"
   ]
  },
  {
   "cell_type": "markdown",
   "metadata": {},
   "source": [
    "## Problem set will be due Th Mar 15 at midnight...\n",
    "\n",
    "#### Sections between Tu AM & Th AM lecture will be problem set section..."
   ]
  },
  {
   "cell_type": "markdown",
   "metadata": {},
   "source": [
    "## Setting up the Python/Jupyter environment"
   ]
  },
  {
   "cell_type": "code",
   "execution_count": 1,
   "metadata": {},
   "outputs": [
    {
     "data": {
      "application/javascript": [
       "\n",
       "IPython.OutputArea.prototype._should_scroll = function(lines) {\n",
       "    return false;}"
      ],
      "text/plain": [
       "<IPython.core.display.Javascript object>"
      ]
     },
     "metadata": {},
     "output_type": "display_data"
    }
   ],
   "source": [
    "%%javascript\n",
    "\n",
    "IPython.OutputArea.prototype._should_scroll = function(lines) {\n",
    "    return false;}"
   ]
  },
  {
   "cell_type": "code",
   "execution_count": 2,
   "metadata": {
    "collapsed": true
   },
   "outputs": [],
   "source": [
    "# ABOVE CELL IS \"NO SCROLLING SUBWINDOWS\" SETUP\n",
    "#\n",
    "# keep output cells from shifting to autoscroll: little scrolling\n",
    "# subwindows within the notebook are an annoyance..."
   ]
  },
  {
   "cell_type": "code",
   "execution_count": 3,
   "metadata": {},
   "outputs": [
    {
     "name": "stderr",
     "output_type": "stream",
     "text": [
      "/Users/delong/anaconda3/lib/python3.6/site-packages/statsmodels/compat/pandas.py:56: FutureWarning: The pandas.core.datetools module is deprecated and will be removed in a future version. Please use the pandas.tseries module instead.\n",
      "  from pandas.core import datetools\n"
     ]
    }
   ],
   "source": [
    "# THIS CELL LOADS THE LIBRARIES\n",
    "#\n",
    "# set up the environment by reading in every library we might need: \n",
    "# os... graphics... data manipulation... time... math... statistics...\n",
    "\n",
    "import sys\n",
    "import os\n",
    "from urllib.request import urlretrieve\n",
    "\n",
    "import matplotlib as mpl\n",
    "import matplotlib.pyplot as plt\n",
    "from IPython.display import Image\n",
    "\n",
    "import pandas as pd\n",
    "from pandas import DataFrame, Series\n",
    "from datetime import datetime\n",
    "\n",
    "import scipy as sp\n",
    "import numpy as np\n",
    "import math\n",
    "import random\n",
    "\n",
    "import seaborn as sns\n",
    "import statsmodels\n",
    "import statsmodels.api as sm\n",
    "import statsmodels.formula.api as smf"
   ]
  },
  {
   "cell_type": "code",
   "execution_count": 4,
   "metadata": {
    "collapsed": true
   },
   "outputs": [],
   "source": [
    "# PRETTIER GRAPHICS SETUP\n",
    "#\n",
    "# graphics setup: seaborn-whitegrid and figure size;\n",
    "# graphs in the notebook itself...\n",
    "\n",
    "%matplotlib inline \n",
    "\n",
    "plt.style.use('seaborn-whitegrid')\n",
    "\n",
    "figure_size = plt.rcParams[\"figure.figsize\"]\n",
    "figure_size[0] = 12\n",
    "figure_size[1] = 10\n",
    "plt.rcParams[\"figure.figsize\"] = figure_size"
   ]
  },
  {
   "cell_type": "code",
   "execution_count": 5,
   "metadata": {},
   "outputs": [
    {
     "name": "stdout",
     "output_type": "stream",
     "text": [
      "Requirement already up-to-date: okpy in /Users/delong/anaconda3/lib/python3.6/site-packages\n",
      "Requirement already up-to-date: requests==2.12.4 in /Users/delong/anaconda3/lib/python3.6/site-packages (from okpy)\n",
      "Requirement already up-to-date: coverage==3.7.1 in /Users/delong/anaconda3/lib/python3.6/site-packages (from okpy)\n",
      "=====================================================================\n",
      "Assignment: PS8 Notebook\n",
      "OK, version v1.13.10\n",
      "=====================================================================\n",
      "\n",
      "\n",
      "Open the following URL:\n",
      "\n",
      "https://okpy.org/client/login/\n",
      "\n",
      "After logging in, copy the code from the web page and paste it into the box.\n",
      "Then press the \"Enter\" key on your keyboard.\n",
      "\n",
      "Paste your code here: FmiyGZenS8AOBCpn8qN0cvidg4R52q\n",
      "Successfully logged in as jbdelong@berkeley.edu\n"
     ]
    }
   ],
   "source": [
    "# THIS CELL IS THE KEY TO THE OKPY.ORG AUTOGRADER SYSTEM\n",
    "#\n",
    "# Don't change this cell; just run it. \n",
    "# The result will give you directions about how to log in to the submission system, called OK.\n",
    "# Once you're logged in, you can run this cell again, but it won't ask you who you are because\n",
    "# it remembers you. However, you will need to log in once per assignment.\n",
    "\n",
    "!pip install -U okpy\n",
    "\n",
    "from client.api.notebook import Notebook\n",
    "\n",
    "ok = Notebook('ps8.ok')\n",
    "_ = ok.auth(force=True, inline=True)"
   ]
  },
  {
   "cell_type": "markdown",
   "metadata": {},
   "source": [
    "### ⬆︎⬆︎⬆︎⬆︎⬆︎⬆︎⬆︎⬆︎⬆︎⬆︎⬆︎⬆︎⬆︎⬆︎⬆︎⬆︎\n",
    "### RUN THESE CELLS ABOVE FIRST"
   ]
  },
  {
   "cell_type": "markdown",
   "metadata": {},
   "source": [
    "# Problem Set 8 (Due Mar 15 11:59:59 PM)\n",
    "\n",
    "----\n",
    "\n",
    "&nbsp;"
   ]
  },
  {
   "cell_type": "markdown",
   "metadata": {},
   "source": [
    "## Introduction\n",
    "\n",
    "The autograder, both in the tests you run along the way as you work on the problem set and in calculating the final score, looks in the same directory as the problem set notebook for an \"ok.tests\" directory, and then runs the tests in the \"q\\*\\*.py\" files in that directory (where \"\\*\\*\" denotes a two-digit number, possibly with a leading zero). Those tests take the form of comparing a variable that should be in your namespace and seeing if it is close to some desired value that we get when we do the problem set.\n",
    "\n",
    "Thus while the problem set instructions ask you to run simulations and plot graphs, what you are tested on is whether the appropriate variables in your namespace have (close to the) right values. We do not care what code you use in order to get those variables to the right values. \n",
    "\n",
    "You can run simulations and then pick appropriate values out by slicing a series in order to get the right number. \n",
    "\n",
    "You can use your knowledge of the algebraic solution to the model to have Python calculate the answer, having first set the parameters to the right values, as in:\n",
    "\n",
    "    s = 0.24 # (say)\n",
    "    n = 0.01\n",
    "    g = 0.02\n",
    "    delta = 0.03\n",
    "    Delta_n = -0.01\n",
    "    KoverYinitial = s/(n+g+delta)\n",
    "    KoverYalternative = s/(n+Delta_n+g+delta)\n",
    "    \n",
    "You can even do all of the calculations on pen and paper, and simply code up:\n",
    "\n",
    "    KoverYinitial = 4\n",
    "    KoverYalternative = 4.8\n",
    "    \n",
    "Perhaps we should ask you to do all three—start with simulations, or with algebraic equations with set parameter values, or with full pen-and-paper calculations with only the final results entered into the notebook—and then ask you to check your results from one mode by doing the other two. But: _ars longa, vita brevis_. Focus on what works _for you_: the key is to get a sense of how economists' center-of-gravity analyses of long-run growth work, so that when you encounter such an analysis later, outside the university, you have the right intellectual panoply to evaluate it.\n",
    "\n",
    "----\n",
    "\n",
    "&nbsp;"
   ]
  },
  {
   "cell_type": "markdown",
   "metadata": {},
   "source": [
    "## Programming Dos and Don'ts...\n",
    "\n",
    "### A Running List...\n",
    "\n",
    "1. **Do** restart your kernel and run cells up to your current working point every fifteen minutes or so. Yes, it takes a little time. But if you don't, sooner or later the machine's namespace will get confused, and then you will get confused about the state of the machine's namespace, and by assuming things about it that are false you will lose hours and hours...   \n",
    "&nbsp;\n",
    "\n",
    "2. **Do** reload the page when restarting the kernel does not seem to do the job...   \n",
    "&nbsp;\n",
    "\n",
    "3. **Do** edit code cells by copying them below your current version and then working on the copy: when you break everything in the current cell (as you will), you can then go back to the old cell and start fresh...   \n",
    "&nbsp;\n",
    "\n",
    "4. **Do** exercise agile development practices: if there is a line of code that you have not tested, test it. The best way to test is to ask the machine to echo back to you the thing you have just created in its namespace to make sure that it is what you want it to be. Only after you are **certain** that your namespace contains what you think it does should you write the next line of code. And then you should immediately test it...   \n",
    "&nbsp;\n",
    "\n",
    "5. **Do** take screenshots of your error messages...   \n",
    "&nbsp;\n",
    "\n",
    "6. **Do** google your error messages: Ms. Google is your best friend here...   \n",
    "&nbsp;\n",
    "\n",
    "7. **Do not** confuse assignment (\"=\") and test for equality (\"==\"). In general, if there is an \"if\" anywhere nearby, you should be testing for equality. If there is not, you should be assignment a variable in your namespace to a value. **Do** curse the mathematicians 500 years ago who did not realize that in the twenty-first century it would be very convenient if we had different and not confusable symbols for equals-as-assignment and equals-as-test...   \n",
    "&nbsp;\n",
    "\n",
    "----\n",
    "\n",
    "&nbsp;\n",
    "\n",
    "**Thanks to**: Rachel Grossberg, Christopher Hench, Meghana Krishnakumer, Seth Lloyd, Ronald Walker..."
   ]
  },
  {
   "cell_type": "markdown",
   "metadata": {
    "deletable": false,
    "manual_grade": true,
    "manual_problem_id": "PS6TB"
   },
   "source": [
    "**(Task A) Programming Practices**\n",
    "\n",
    "If it strikes you that anything should be added to this list of programming dos and don'ts, please email it to me at <delong@econ.berkeley.edu>"
   ]
  },
  {
   "cell_type": "markdown",
   "metadata": {},
   "source": [
    "----"
   ]
  },
  {
   "cell_type": "markdown",
   "metadata": {},
   "source": [
    "**(Task B) Consumption Series I**\n",
    "\n",
    "1. Websurf over to http://fred.stlouisfed.org\n",
    "2. Type \"consumption\" into the search box and press return\n",
    "3. Scan down the list of variables, focusing on variables that are \"real\", \"seasonally adjusted\", and \"monthly\".\n",
    "4. Find \"Real Personal Consumption Expenditures: Billions of Chained 2009 Dollars, Monthly, Seasonally Adjusted Annual Rate\". Click on the box to select it. Click on the \"Add to Graph\" button near the top.\n",
    "5. Click the \"DOWNLOAD\" button and then the \"CSV (Data)\" option\n",
    "6. Open the file you have just downloaded, PCEC96.csv, in a text editor. Look at it. Does it look like the right thing? If not, email me at delong@econ.berkeley.edu with the subject line: \"Econ 101b S2018 PS8: PCEC96.csv Does Not Look Right\""
   ]
  },
  {
   "cell_type": "markdown",
   "metadata": {},
   "source": [
    "**(Task C) Consumption Series II**\n",
    "\n",
    "1. I have put a copy of PCEC96.csv up on the web at URL: http://delong.typepad.com/pcec96.csv\n",
    "2. Run the code cell \"# Consumption Series Import Cell\" below to load the \"Real Personal Consumption Expenditures\" data into your namespace in the cons_df object.\n",
    "3. In the \"# Examine Consumption Series\" code cell further below, write code to examine what is in the \"cons_df\" object.\n",
    "4. Plot the Real Personal Consumption Expenditures series PCEC96:\n",
    "In the \"# Task C Answers\" code cell further below set the variables \"Cons_Jan_2000\" and \"Cons_Jan_2010\" to their correct values"
   ]
  },
  {
   "cell_type": "code",
   "execution_count": 6,
   "metadata": {
    "collapsed": true
   },
   "outputs": [],
   "source": [
    "# Consumption Series Import Cell\n",
    "\n",
    "import pandas as pd\n",
    "\n",
    "Source_URL = 'http://delong.typepad.com/pcec96.csv' \n",
    "\n",
    "cons_df = pd.read_csv(\n",
    "    Source_URL, \n",
    "    converters = {'Source': str, 'Source_URL': str}, \n",
    "    parse_dates = True,\n",
    "    index_col = 0)\n"
   ]
  },
  {
   "cell_type": "code",
   "execution_count": 7,
   "metadata": {},
   "outputs": [
    {
     "name": "stdout",
     "output_type": "stream",
     "text": [
      "            PCEC96\n",
      "DATE              \n",
      "1999-01-01  7582.0\n",
      "1999-02-01  7620.0\n",
      "1999-03-01  7654.1\n",
      "1999-04-01  7697.8\n",
      "1999-05-01  7731.6\n",
      "DATE\n",
      "1999-01-01    7582.0\n",
      "1999-02-01    7620.0\n",
      "1999-03-01    7654.1\n",
      "1999-04-01    7697.8\n",
      "1999-05-01    7731.6\n",
      "Name: PCEC96, dtype: float64\n"
     ]
    },
    {
     "data": {
      "text/plain": [
       "<matplotlib.axes._subplots.AxesSubplot at 0x1102ba4a8>"
      ]
     },
     "execution_count": 7,
     "metadata": {},
     "output_type": "execute_result"
    },
    {
     "data": {
      "image/png": "[encoded data removed]",
      "text/plain": [
       "<matplotlib.figure.Figure at 0x11038b320>"
      ]
     },
     "metadata": {},
     "output_type": "display_data"
    }
   ],
   "source": [
    "# Examine Consumption Series\n",
    "\n",
    "print(cons_df.head())\n",
    "print(cons_df.PCEC96.head())\n",
    "cons_df.PCEC96.plot()"
   ]
  },
  {
   "cell_type": "code",
   "execution_count": 8,
   "metadata": {},
   "outputs": [
    {
     "name": "stdout",
     "output_type": "stream",
     "text": [
      "7988.5\n",
      "9881.7\n"
     ]
    }
   ],
   "source": [
    "# Task C Answers\n",
    "\n",
    "cons_Jan_2000 = cons_df.PCEC96[12]\n",
    "cons_Jan_2010 = cons_df.PCEC96[132]\n",
    "\n",
    "print(cons_Jan_2000)\n",
    "print(cons_Jan_2010)"
   ]
  },
  {
   "cell_type": "code",
   "execution_count": 9,
   "metadata": {},
   "outputs": [
    {
     "name": "stdout",
     "output_type": "stream",
     "text": [
      "~~~~~~~~~~~~~~~~~~~~~~~~~~~~~~~~~~~~~~~~~~~~~~~~~~~~~~~~~~~~~~~~~~~~~\n",
      "Running tests\n",
      "\n",
      "---------------------------------------------------------------------\n",
      "Test summary\n",
      "    Passed: 2\n",
      "    Failed: 0\n",
      "[ooooooooook] 100.0% passed\n",
      "\n"
     ]
    },
    {
     "data": {
      "text/plain": [
       "{'failed': 0, 'locked': 0, 'passed': 2}"
      ]
     },
     "execution_count": 9,
     "metadata": {},
     "output_type": "execute_result"
    }
   ],
   "source": [
    "import numpy as np\n",
    "ok.grade('q01')"
   ]
  },
  {
   "cell_type": "markdown",
   "metadata": {},
   "source": [
    "----\n",
    "\n",
    "&nbsp;"
   ]
  },
  {
   "cell_type": "markdown",
   "metadata": {},
   "source": [
    "**(Task D) GDP Series I**\n",
    "\n",
    "1. Websurf over to http://fred.stlouisfed.org\n",
    "2. Type \"real gdp\" into the search box and press return\n",
    "3. Scan down the list of variables, focusing on variables that are \"real\", \"seasonally adjusted\", and \"quarterly\".\n",
    "4. Find \"Real Gross Domestic Product: Billions of Chained 2009 Dollars, Quarterly, Seasonally Adjusted Annual Rate\". Click on the box to select it. Click on the \"Add to Graph\" button near the top.\n",
    "5. Enter '1999-01-01' into the left of the two date boxes to the left of the red \"EDIT GRAPH\" button and press return\n",
    "6. Click the \"DOWNLOAD\" button and then the \"CSV (Data)\" option\n",
    "7. Open the file you have just downloaded, GDPC1.csv, in a text editor. Look at it. Does it look like the right thing? If not, email me at delong@econ.berkeley.edu with the subject line: \"Econ 101b S2018 PS8: GDPC1.csv Does Not Look Right\""
   ]
  },
  {
   "cell_type": "markdown",
   "metadata": {},
   "source": [
    "**(Task E) GDP Series II**\n",
    "\n",
    "1. I have put a copy of GDPC1.csv up on the web at URL: http://delong.typepad.com/gdpc1.csv\n",
    "2. Run the code cell \"# GDP Series Import Cell\" below to load the \"Real GDP\" data into your namespace in the cons_df object.\n",
    "3. In the \"# Examine GDP Series\" code cell further below, write code to examine what is in the \"cons_df\" object.\n",
    "4. Plot the Real Personal Consumption Expenditures series PCEC96:\n",
    "In the \"# Task D Answers\" code cell further below set the variables \"Cons_Jan_2000\" and \"Cons_Jan_2010\" to their correct values"
   ]
  },
  {
   "cell_type": "code",
   "execution_count": 10,
   "metadata": {
    "collapsed": true
   },
   "outputs": [],
   "source": [
    "# GDP Series Import Cell\n",
    "\n",
    "import pandas as pd\n",
    "\n",
    "Source_URL = 'http://delong.typepad.com/gdpc1.csv' \n",
    "\n",
    "gdp_df = pd.read_csv(\n",
    "    Source_URL, \n",
    "    converters = {'Source': str, 'Source_URL': str}, \n",
    "    parse_dates = True,\n",
    "    index_col = 0)\n"
   ]
  },
  {
   "cell_type": "code",
   "execution_count": 11,
   "metadata": {},
   "outputs": [
    {
     "name": "stdout",
     "output_type": "stream",
     "text": [
      "                GDPC1\n",
      "DATE                 \n",
      "1999-01-01  11864.675\n",
      "1999-04-01  11962.524\n",
      "1999-07-01  12113.075\n",
      "1999-10-01  12323.336\n",
      "2000-01-01  12359.095\n",
      "DATE\n",
      "1999-01-01    11864.675\n",
      "1999-04-01    11962.524\n",
      "1999-07-01    12113.075\n",
      "1999-10-01    12323.336\n",
      "2000-01-01    12359.095\n",
      "Name: GDPC1, dtype: float64\n"
     ]
    },
    {
     "data": {
      "text/plain": [
       "<matplotlib.axes._subplots.AxesSubplot at 0x1100e8208>"
      ]
     },
     "execution_count": 11,
     "metadata": {},
     "output_type": "execute_result"
    },
    {
     "data": {
      "image/png": "[encoded data removed]",
      "text/plain": [
       "<matplotlib.figure.Figure at 0x110498be0>"
      ]
     },
     "metadata": {},
     "output_type": "display_data"
    }
   ],
   "source": [
    "# Examine GDP Series\n",
    "\n",
    "print(gdp_df.head())\n",
    "print(gdp_df.GDPC1.head())\n",
    "gdp_df.GDPC1.plot()"
   ]
  },
  {
   "cell_type": "code",
   "execution_count": 12,
   "metadata": {},
   "outputs": [
    {
     "name": "stdout",
     "output_type": "stream",
     "text": [
      "12359.095\n",
      "14604.845\n"
     ]
    }
   ],
   "source": [
    "# Task D Answers\n",
    "\n",
    "gdp_Jan_2000 = gdp_df.GDPC1[4]\n",
    "gdp_Jan_2010 = gdp_df.GDPC1[44]\n",
    "\n",
    "print(gdp_Jan_2000)\n",
    "print(gdp_Jan_2010)"
   ]
  },
  {
   "cell_type": "code",
   "execution_count": 13,
   "metadata": {},
   "outputs": [
    {
     "name": "stdout",
     "output_type": "stream",
     "text": [
      "~~~~~~~~~~~~~~~~~~~~~~~~~~~~~~~~~~~~~~~~~~~~~~~~~~~~~~~~~~~~~~~~~~~~~\n",
      "Running tests\n",
      "\n",
      "---------------------------------------------------------------------\n",
      "Test summary\n",
      "    Passed: 2\n",
      "    Failed: 0\n",
      "[ooooooooook] 100.0% passed\n",
      "\n"
     ]
    },
    {
     "data": {
      "text/plain": [
       "{'failed': 0, 'locked': 0, 'passed': 2}"
      ]
     },
     "execution_count": 13,
     "metadata": {},
     "output_type": "execute_result"
    }
   ],
   "source": [
    "import numpy as np\n",
    "ok.grade('q02')"
   ]
  },
  {
   "cell_type": "markdown",
   "metadata": {},
   "source": [
    "----\n",
    "\n",
    "&nbsp;"
   ]
  },
  {
   "cell_type": "markdown",
   "metadata": {},
   "source": [
    "**(Task F) The Consumption Function I**:\n",
    "\n",
    "1. Run the code cell \"Graph consumption vs. income\" immediately below, importing and plotting real consumption spending and real GDP since the early post-WWII period into a single dataframe. Examine the plot. Email me at delong@econ.berkeley.edu with the subject line \"Econ 101b S2018 PS8: gdp_cons_df Does Not Look Right\" if anything looks wrong to you\n",
    "2. Run the code cell \"Graph consumption vs. income\" further below. That code cell performs a regression analysis: if consumption spending C is a simple linear function of GDP—national income—Y of the form $ C = a + bY + \\epsilon $, where $ \\epsilon $ are a host of additional variables not predictable from Y, what are the most likely values of the coefficients a and b, and how good a job do those coefficients and that function do at capturing the determinants of C?\n",
    "3. The regression analysis tells us that the estimated value of the slope coefficient b from the regression of consumption spending C on income Y is 0.6607. What is the relationship between this coefficient and the MPC—the parameter $ c_y $ in our simple flexprice business cycle model? Assume that the tax rate t in the simple model is 0.25. In the code cell further below \"Task F answers\", set the variable c_y equal to your estimate of what the value of b tells us that the MPC is. "
   ]
  },
  {
   "cell_type": "code",
   "execution_count": 14,
   "metadata": {},
   "outputs": [
    {
     "name": "stdout",
     "output_type": "stream",
     "text": [
      "         DATE   PCECC96     GDPC1\n",
      "0  1947-01-01  1199.413  1934.471\n",
      "1  1947-04-01  1219.329  1932.281\n",
      "2  1947-07-01  1223.266  1930.315\n",
      "3  1947-10-01  1223.649  1960.705\n",
      "4  1948-01-01  1229.757  1989.535\n"
     ]
    },
    {
     "data": {
      "text/plain": [
       "<matplotlib.axes._subplots.AxesSubplot at 0x114530b38>"
      ]
     },
     "execution_count": 14,
     "metadata": {},
     "output_type": "execute_result"
    },
    {
     "data": {
      "image/png": "[encoded data removed]",
      "text/plain": [
       "<matplotlib.figure.Figure at 0x11058b518>"
      ]
     },
     "metadata": {},
     "output_type": "display_data"
    }
   ],
   "source": [
    "# Graph consumption vs. income\n",
    "\n",
    "Source_URL = 'http://delong.typepad.com/gdp_cons.csv'\n",
    "\n",
    "gdp_cons_df = pd.read_csv(\n",
    "    Source_URL, \n",
    "    converters = {'Source': str, 'Source_URL': str}, \n",
    "    parse_dates = True\n",
    "    )\n",
    "\n",
    "print(gdp_cons_df.head())\n",
    "\n",
    "gdp_cons_df.plot()"
   ]
  },
  {
   "cell_type": "code",
   "execution_count": 15,
   "metadata": {},
   "outputs": [
    {
     "name": "stdout",
     "output_type": "stream",
     "text": [
      "                            OLS Regression Results                            \n",
      "==============================================================================\n",
      "Dep. Variable:                PCECC96   R-squared:                       0.999\n",
      "Model:                            OLS   Adj. R-squared:                  0.999\n",
      "Method:                 Least Squares   F-statistic:                 1.972e+05\n",
      "Date:                Sat, 10 Mar 2018   Prob (F-statistic):               0.00\n",
      "Time:                        07:58:05   Log-Likelihood:                -1949.7\n",
      "No. Observations:                 284   AIC:                             3901.\n",
      "Df Residuals:                     283   BIC:                             3905.\n",
      "Df Model:                           1                                         \n",
      "Covariance Type:            nonrobust                                         \n",
      "==============================================================================\n",
      "                 coef    std err          t      P>|t|      [0.025      0.975]\n",
      "------------------------------------------------------------------------------\n",
      "GDPC1          0.6607      0.001    444.064      0.000       0.658       0.664\n",
      "==============================================================================\n",
      "Omnibus:                       71.956   Durbin-Watson:                   0.019\n",
      "Prob(Omnibus):                  0.000   Jarque-Bera (JB):              121.436\n",
      "Skew:                           1.476   Prob(JB):                     4.27e-27\n",
      "Kurtosis:                       4.245   Cond. No.                         1.00\n",
      "==============================================================================\n",
      "\n",
      "Warnings:\n",
      "[1] Standard Errors assume that the covariance matrix of the errors is correctly specified.\n"
     ]
    }
   ],
   "source": [
    "import numpy as np\n",
    "import statsmodels.api as sm\n",
    "import statsmodels.formula.api as smf\n",
    "\n",
    "results = sm.OLS(gdp_cons_df.PCECC96, gdp_cons_df.GDPC1).fit()\n",
    "\n",
    "print(results.summary())"
   ]
  },
  {
   "cell_type": "code",
   "execution_count": 16,
   "metadata": {},
   "outputs": [
    {
     "name": "stdout",
     "output_type": "stream",
     "text": [
      "0.8809333333333332\n"
     ]
    }
   ],
   "source": [
    "# Task F answers\n",
    "\n",
    "t = 0.25\n",
    "c_y = 0.6607/(1-t)\n",
    "print(c_y)"
   ]
  },
  {
   "cell_type": "code",
   "execution_count": 17,
   "metadata": {},
   "outputs": [
    {
     "name": "stdout",
     "output_type": "stream",
     "text": [
      "~~~~~~~~~~~~~~~~~~~~~~~~~~~~~~~~~~~~~~~~~~~~~~~~~~~~~~~~~~~~~~~~~~~~~\n",
      "Running tests\n",
      "\n",
      "---------------------------------------------------------------------\n",
      "Test summary\n",
      "    Passed: 1\n",
      "    Failed: 0\n",
      "[ooooooooook] 100.0% passed\n",
      "\n"
     ]
    },
    {
     "data": {
      "text/plain": [
       "{'failed': 0, 'locked': 0, 'passed': 1}"
      ]
     },
     "execution_count": 17,
     "metadata": {},
     "output_type": "execute_result"
    }
   ],
   "source": [
    "import numpy as np\n",
    "ok.grade('q03')"
   ]
  },
  {
   "cell_type": "markdown",
   "metadata": {},
   "source": [
    "----\n",
    "\n",
    "&nbsp;"
   ]
  },
  {
   "cell_type": "markdown",
   "metadata": {},
   "source": [
    "**(Task G) Consumption Function II**\n",
    "\n",
    "Task F produced a very high estimate of the marginal propensity to consume, MPC, $ c_y $. It seemed to indicate that households do not smooth spending very much at all—that they take virtually all of a change in their income and spend it. This estimate was obtained because the overwhelming bulk of the identifying variance in the regression analysis of Task F consisted of permanent, long run changes in actual and expected income. Now let us look at shorter run, more temporary changes. We do this by performing a regression analysis in which the dependent and independent variables are not the simple levels of consumption spending C and national income Y, but rather one year changes in those variables scaled by the then-current level of real national income.\n",
    "\n",
    "1. Run the code cell below \"Calculating one year changes\", which calculates and then plots one year changes in consumption spending C and national income Y, both of them as fractions of the then-current level of national income Y. Examine the plot. Email me at delong@econ.berkeley.edu with the subject line \"Econ 101b S2018 PS8: Delta_C and Delta_Y DO Not Look Right\" if anything looks wrong to you.\n",
    "2. Run the code cell further below \"1 year changes regression: full sample\". Use the estimated b coefficient—the number immediately to the right of the \"Delta_Y\" under the heading \"coef\"—to calculate the estimate of the MPC $ c_y $ produced from examining one year changes. Assume once again that the tax rate t is 0.25. In the code cell \"Task G answers\", set the variable c_y_1_year equal to the estimate of the MPC.\n",
    "3. Duplicate the code cell \"Calculating one year changes\". Then paste it immediately below. Alter the first line of the pasted version to read \"# Calculating one year changes: earlier half of the sample\"\n",
    "4. Change the code in \"# Calculating one year changes: earlier half of the sample\" so that it runs the regression analysis for 1 year changes for only the first half of our 280 observation-long post-WWII data. In the code cell \"Task G answers\", set the variable c_y_1_year_early_sample equal to the estimate of the MPC for the first half of the sample.\n",
    "5. Duplicate the code cell \"Calculating one year changes\". Then paste it immediately below. Alter the first line of the pasted version to read \"# Calculating one year changes: later half of the sample\"\n",
    "6. Change the code in \"# Calculating one year changes: later half of the sample\" so that it runs the regression analysis for 1 year changes for only the second half of our 280 observation-long post-WWII data. In the code cell \"Task G answers\", set the variable c_y_1_year_late_sample equal to the estimate of the MPC for the second half of the sample."
   ]
  },
  {
   "cell_type": "code",
   "execution_count": 18,
   "metadata": {},
   "outputs": [
    {
     "name": "stdout",
     "output_type": "stream",
     "text": [
      "         DATE   PCECC96     GDPC1   Delta_C   Delta_Y\n",
      "0  1947-01-01  1199.413  1934.471  0.015686  0.028465\n",
      "1  1947-04-01  1219.329  1932.281  0.012799  0.046355\n",
      "2  1947-07-01  1223.266  1930.315  0.011722  0.053276\n",
      "3  1947-10-01  1223.649  1960.705  0.016416  0.038060\n",
      "4  1948-01-01  1229.757  1989.535  0.014130  0.009041\n"
     ]
    },
    {
     "data": {
      "text/plain": [
       "[<matplotlib.lines.Line2D at 0x114c23828>]"
      ]
     },
     "execution_count": 18,
     "metadata": {},
     "output_type": "execute_result"
    },
    {
     "data": {
      "image/png": "[encoded data removed]",
      "text/plain": [
       "<matplotlib.figure.Figure at 0x1147d7c50>"
      ]
     },
     "metadata": {},
     "output_type": "display_data"
    }
   ],
   "source": [
    "# Calculating one year changes\n",
    "\n",
    "Delta_C = []\n",
    "Delta_Y = []\n",
    "\n",
    "for t in range(280):\n",
    "    Delta_C = Delta_C + [(gdp_cons_df.PCECC96[t+4]-\n",
    "        gdp_cons_df.PCECC96[t])/gdp_cons_df.GDPC1[t]]\n",
    "    Delta_Y = Delta_Y + [(gdp_cons_df.GDPC1[t+4]-\n",
    "        gdp_cons_df.GDPC1[t])/gdp_cons_df.GDPC1[t]]\n",
    "\n",
    "Delta_C = Delta_C + [0] + [0] + [0] + [0]\n",
    "Delta_Y = Delta_Y + [0] + [0] + [0] + [0]\n",
    "\n",
    "gdp_cons_df['Delta_C'] = Delta_C\n",
    "gdp_cons_df['Delta_Y'] = Delta_Y\n",
    "\n",
    "print(gdp_cons_df.head())\n",
    "\n",
    "plt.plot(gdp_cons_df.Delta_Y[:280], gdp_cons_df.Delta_C[:280], \"o\")"
   ]
  },
  {
   "cell_type": "code",
   "execution_count": 19,
   "metadata": {},
   "outputs": [
    {
     "name": "stdout",
     "output_type": "stream",
     "text": [
      "                            OLS Regression Results                            \n",
      "==============================================================================\n",
      "Dep. Variable:                Delta_C   R-squared:                       0.846\n",
      "Model:                            OLS   Adj. R-squared:                  0.845\n",
      "Method:                 Least Squares   F-statistic:                     1531.\n",
      "Date:                Sat, 10 Mar 2018   Prob (F-statistic):          2.66e-115\n",
      "Time:                        07:58:29   Log-Likelihood:                 903.98\n",
      "No. Observations:                 280   AIC:                            -1806.\n",
      "Df Residuals:                     279   BIC:                            -1802.\n",
      "Df Model:                           1                                         \n",
      "Covariance Type:            nonrobust                                         \n",
      "==============================================================================\n",
      "                 coef    std err          t      P>|t|      [0.025      0.975]\n",
      "------------------------------------------------------------------------------\n",
      "Delta_Y        0.5452      0.014     39.130      0.000       0.518       0.573\n",
      "==============================================================================\n",
      "Omnibus:                      149.401   Durbin-Watson:                   0.567\n",
      "Prob(Omnibus):                  0.000   Jarque-Bera (JB):             1385.173\n",
      "Skew:                          -1.959   Prob(JB):                    1.63e-301\n",
      "Kurtosis:                      13.168   Cond. No.                         1.00\n",
      "==============================================================================\n",
      "\n",
      "Warnings:\n",
      "[1] Standard Errors assume that the covariance matrix of the errors is correctly specified.\n"
     ]
    }
   ],
   "source": [
    "# 1 year changes regression: full sample\n",
    "\n",
    "import numpy as np\n",
    "import statsmodels.api as sm\n",
    "import statsmodels.formula.api as smf\n",
    "\n",
    "results = sm.OLS(gdp_cons_df.Delta_C[:280], gdp_cons_df.Delta_Y[:280]).fit()\n",
    "\n",
    "print(results.summary())"
   ]
  },
  {
   "cell_type": "code",
   "execution_count": 20,
   "metadata": {},
   "outputs": [
    {
     "name": "stdout",
     "output_type": "stream",
     "text": [
      "                            OLS Regression Results                            \n",
      "==============================================================================\n",
      "Dep. Variable:                Delta_C   R-squared:                       0.808\n",
      "Model:                            OLS   Adj. R-squared:                  0.807\n",
      "Method:                 Least Squares   F-statistic:                     585.5\n",
      "Date:                Sat, 10 Mar 2018   Prob (F-statistic):           1.10e-51\n",
      "Time:                        07:58:36   Log-Likelihood:                 428.04\n",
      "No. Observations:                 140   AIC:                            -854.1\n",
      "Df Residuals:                     139   BIC:                            -851.1\n",
      "Df Model:                           1                                         \n",
      "Covariance Type:            nonrobust                                         \n",
      "==============================================================================\n",
      "                 coef    std err          t      P>|t|      [0.025      0.975]\n",
      "------------------------------------------------------------------------------\n",
      "Delta_Y        0.4933      0.020     24.198      0.000       0.453       0.534\n",
      "==============================================================================\n",
      "Omnibus:                       69.393   Durbin-Watson:                   0.600\n",
      "Prob(Omnibus):                  0.000   Jarque-Bera (JB):              320.868\n",
      "Skew:                          -1.752   Prob(JB):                     2.11e-70\n",
      "Kurtosis:                       9.537   Cond. No.                         1.00\n",
      "==============================================================================\n",
      "\n",
      "Warnings:\n",
      "[1] Standard Errors assume that the covariance matrix of the errors is correctly specified.\n"
     ]
    }
   ],
   "source": [
    "# 1 year changes regression: early sample\n",
    "\n",
    "import numpy as np\n",
    "import statsmodels.api as sm\n",
    "import statsmodels.formula.api as smf\n",
    "\n",
    "results = sm.OLS(gdp_cons_df.Delta_C[:140], gdp_cons_df.Delta_Y[:140]).fit()\n",
    "\n",
    "print(results.summary())"
   ]
  },
  {
   "cell_type": "code",
   "execution_count": 21,
   "metadata": {},
   "outputs": [
    {
     "name": "stdout",
     "output_type": "stream",
     "text": [
      "                            OLS Regression Results                            \n",
      "==============================================================================\n",
      "Dep. Variable:                Delta_C   R-squared:                       0.932\n",
      "Model:                            OLS   Adj. R-squared:                  0.931\n",
      "Method:                 Least Squares   F-statistic:                     1881.\n",
      "Date:                Sat, 10 Mar 2018   Prob (F-statistic):           2.80e-82\n",
      "Time:                        07:58:41   Log-Likelihood:                 515.15\n",
      "No. Observations:                 139   AIC:                            -1028.\n",
      "Df Residuals:                     138   BIC:                            -1025.\n",
      "Df Model:                           1                                         \n",
      "Covariance Type:            nonrobust                                         \n",
      "==============================================================================\n",
      "                 coef    std err          t      P>|t|      [0.025      0.975]\n",
      "------------------------------------------------------------------------------\n",
      "Delta_Y        0.6445      0.015     43.368      0.000       0.615       0.674\n",
      "==============================================================================\n",
      "Omnibus:                        6.614   Durbin-Watson:                   0.601\n",
      "Prob(Omnibus):                  0.037   Jarque-Bera (JB):                6.176\n",
      "Skew:                          -0.478   Prob(JB):                       0.0456\n",
      "Kurtosis:                       3.389   Cond. No.                         1.00\n",
      "==============================================================================\n",
      "\n",
      "Warnings:\n",
      "[1] Standard Errors assume that the covariance matrix of the errors is correctly specified.\n"
     ]
    }
   ],
   "source": [
    "# 1 year changes regression: late sample\n",
    "\n",
    "import numpy as np\n",
    "import statsmodels.api as sm\n",
    "import statsmodels.formula.api as smf\n",
    "\n",
    "results = sm.OLS(gdp_cons_df.Delta_C[141:280], gdp_cons_df.Delta_Y[141:280]).fit()\n",
    "\n",
    "print(results.summary())"
   ]
  },
  {
   "cell_type": "code",
   "execution_count": 22,
   "metadata": {},
   "outputs": [
    {
     "name": "stdout",
     "output_type": "stream",
     "text": [
      "0.7269333333333333\n",
      "0.6577333333333334\n",
      "0.8593333333333333\n"
     ]
    }
   ],
   "source": [
    "# Task G answers\n",
    "\n",
    "t = 0.25\n",
    "c_y_1_year = 0.5452/(1-t)\n",
    "c_y_1_year_early_sample = 0.4933/(1-t)\n",
    "c_y_1_year_late_sample = 0.6445/(1-t)\n",
    "\n",
    "print(c_y_1_year)\n",
    "print(c_y_1_year_early_sample)\n",
    "print(c_y_1_year_late_sample)"
   ]
  },
  {
   "cell_type": "code",
   "execution_count": 23,
   "metadata": {},
   "outputs": [
    {
     "name": "stdout",
     "output_type": "stream",
     "text": [
      "~~~~~~~~~~~~~~~~~~~~~~~~~~~~~~~~~~~~~~~~~~~~~~~~~~~~~~~~~~~~~~~~~~~~~\n",
      "Running tests\n",
      "\n",
      "---------------------------------------------------------------------\n",
      "Test summary\n",
      "    Passed: 3\n",
      "    Failed: 0\n",
      "[ooooooooook] 100.0% passed\n",
      "\n"
     ]
    },
    {
     "data": {
      "text/plain": [
       "{'failed': 0, 'locked': 0, 'passed': 3}"
      ]
     },
     "execution_count": 23,
     "metadata": {},
     "output_type": "execute_result"
    }
   ],
   "source": [
    "import numpy as np\n",
    "ok.grade('q04')"
   ]
  },
  {
   "cell_type": "markdown",
   "metadata": {},
   "source": [
    "----\n",
    "\n",
    "&nbsp;"
   ]
  },
  {
   "cell_type": "markdown",
   "metadata": {},
   "source": [
    "**(Task H) Consumption Function III**\n",
    "\n",
    "Task F produced a very high estimate of the marginal propensity to consume out of disposable income, MPC, $ c_y $, indicating that households do not smooth spending very much at all—that they take virtually all of a change in their income and spend it. This estimate captures the MPC in response to permanent, long run changes in actual and expected income. But the MPC that is relevant for business cycle analysis is a short run MPC: the response of consumption to surprise, transitory changes in national income.\n",
    "\n",
    "Task G produed somewhat smaller estimates of the MPC by looking at the reaction of consumption spending to one-year changes in national income.\n",
    "\n",
    "Now let us look at one quarter changes. We do this by performing a regression analysis in which the dependent and independent variables are oen quarter changes in those variables scaled by the then-current level of real national income.\n",
    "\n",
    "1. Run the code cell below \"Calculating one quarter changes\", which calculates and then plots one year changes in consumption spending C and national income Y, both of them as fractions of the then-current level of national income Y. Examine the plot. Email me at delong@econ.berkeley.edu with the subject line \"Econ 101b S2018 PS8: Delta_C and Delta_Y DO Not Look Right\" if anything looks wrong to you.\n",
    "2. Run the code cell further below \"1 quarter changes regression: full sample\". Use the estimated b coefficient—the number immediately to the right of the \"Delta_Y\" under the heading \"coef\"—to calculate the estimate of the MPC $ c_y $ produced from examining one year changes. Assume once again that the tax rate t is 0.25. In the code cell \"Task G answers\", set the variable c_y_1_quarter equal to the estimate of the MPC.\n",
    "3. Duplicate the code cell \"Calculating one quarter changes\". Then paste it immediately below. Alter the first line of the pasted version to read \"# Calculating one quarter changes: earlier half of the sample\"\n",
    "4. Change the code in \"# Calculating one quarter changes: earlier half of the sample\" so that it runs the regression analysis for 1 year changes for only the first half of our 280 observation-long post-WWII data. In the code cell \"Task G answers\", set the variable c_y_1_quarter_early_sample equal to the estimate of the MPC for the first half of the sample.\n",
    "5. Duplicate the code cell \"Calculating one quarter changes\". Then paste it immediately below. Alter the first line of the pasted version to read \"# Calculating one quarter changes: later half of the sample\"\n",
    "6. Change the code in \"# Calculating one quarter changes: later half of the sample\" so that it runs the regression analysis for 1 year changes for only the seconc half of our 280 observation-long post-WWII data. In the code cell \"Task G answers\", set the variable c_y_1_quarter_late_sample equal to the estimate of the MPC for the second half of the sample."
   ]
  },
  {
   "cell_type": "code",
   "execution_count": 24,
   "metadata": {},
   "outputs": [
    {
     "data": {
      "text/plain": [
       "[<matplotlib.lines.Line2D at 0x114e5b198>]"
      ]
     },
     "execution_count": 24,
     "metadata": {},
     "output_type": "execute_result"
    },
    {
     "data": {
      "image/png": "[encoded data removed]",
      "text/plain": [
       "<matplotlib.figure.Figure at 0x114bd6e80>"
      ]
     },
     "metadata": {},
     "output_type": "display_data"
    }
   ],
   "source": [
    "# Calculating one quarter changes\n",
    "\n",
    "import numpy as np\n",
    "import statsmodels.api as sm\n",
    "import statsmodels.formula.api as smf\n",
    "\n",
    "Delta_C1 = []\n",
    "Delta_Y1 = []\n",
    "\n",
    "for t in range(280):\n",
    "    Delta_C1 = Delta_C1 + [(gdp_cons_df.PCECC96[t+1]-\n",
    "        gdp_cons_df.PCECC96[t])/gdp_cons_df.GDPC1[t]]\n",
    "    Delta_Y1 = Delta_Y1 + [(gdp_cons_df.GDPC1[t+1]-\n",
    "        gdp_cons_df.GDPC1[t])/gdp_cons_df.GDPC1[t]]\n",
    "\n",
    "Delta_C1 = Delta_C1 + [0] + [0] + [0] + [0]\n",
    "Delta_Y1 = Delta_Y1 + [0] + [0] + [0] + [0]\n",
    "\n",
    "gdp_cons_df['Delta_C1'] = Delta_C1\n",
    "gdp_cons_df['Delta_Y1'] = Delta_Y1\n",
    "\n",
    "plt.plot(gdp_cons_df.Delta_Y1[:280], gdp_cons_df.Delta_C1[:280], \"o\")"
   ]
  },
  {
   "cell_type": "code",
   "execution_count": 25,
   "metadata": {},
   "outputs": [
    {
     "name": "stdout",
     "output_type": "stream",
     "text": [
      "                            OLS Regression Results                            \n",
      "==============================================================================\n",
      "Dep. Variable:               Delta_C1   R-squared:                       0.596\n",
      "Model:                            OLS   Adj. R-squared:                  0.595\n",
      "Method:                 Least Squares   F-statistic:                     412.1\n",
      "Date:                Sat, 10 Mar 2018   Prob (F-statistic):           6.89e-57\n",
      "Time:                        07:58:59   Log-Likelihood:                 1110.4\n",
      "No. Observations:                 280   AIC:                            -2219.\n",
      "Df Residuals:                     279   BIC:                            -2215.\n",
      "Df Model:                           1                                         \n",
      "Covariance Type:            nonrobust                                         \n",
      "==============================================================================\n",
      "                 coef    std err          t      P>|t|      [0.025      0.975]\n",
      "------------------------------------------------------------------------------\n",
      "Delta_Y1       0.4527      0.022     20.300      0.000       0.409       0.497\n",
      "==============================================================================\n",
      "Omnibus:                      140.997   Durbin-Watson:                   2.173\n",
      "Prob(Omnibus):                  0.000   Jarque-Bera (JB):             1853.783\n",
      "Skew:                          -1.681   Prob(JB):                         0.00\n",
      "Kurtosis:                      15.149   Cond. No.                         1.00\n",
      "==============================================================================\n",
      "\n",
      "Warnings:\n",
      "[1] Standard Errors assume that the covariance matrix of the errors is correctly specified.\n"
     ]
    }
   ],
   "source": [
    "# 1 quarter changes regression: full sample\n",
    "\n",
    "results = sm.OLS(gdp_cons_df.Delta_C1[:280], gdp_cons_df.Delta_Y1[:280]).fit()\n",
    "\n",
    "print(results.summary())"
   ]
  },
  {
   "cell_type": "code",
   "execution_count": 26,
   "metadata": {},
   "outputs": [
    {
     "name": "stdout",
     "output_type": "stream",
     "text": [
      "                            OLS Regression Results                            \n",
      "==============================================================================\n",
      "Dep. Variable:               Delta_C1   R-squared:                       0.541\n",
      "Model:                            OLS   Adj. R-squared:                  0.538\n",
      "Method:                 Least Squares   F-statistic:                     164.1\n",
      "Date:                Sat, 10 Mar 2018   Prob (F-statistic):           2.67e-25\n",
      "Time:                        07:59:03   Log-Likelihood:                 528.18\n",
      "No. Observations:                 140   AIC:                            -1054.\n",
      "Df Residuals:                     139   BIC:                            -1051.\n",
      "Df Model:                           1                                         \n",
      "Covariance Type:            nonrobust                                         \n",
      "==============================================================================\n",
      "                 coef    std err          t      P>|t|      [0.025      0.975]\n",
      "------------------------------------------------------------------------------\n",
      "Delta_Y1       0.4113      0.032     12.811      0.000       0.348       0.475\n",
      "==============================================================================\n",
      "Omnibus:                       73.432   Durbin-Watson:                   2.290\n",
      "Prob(Omnibus):                  0.000   Jarque-Bera (JB):              532.818\n",
      "Skew:                          -1.672   Prob(JB):                    2.00e-116\n",
      "Kurtosis:                      11.953   Cond. No.                         1.00\n",
      "==============================================================================\n",
      "\n",
      "Warnings:\n",
      "[1] Standard Errors assume that the covariance matrix of the errors is correctly specified.\n"
     ]
    }
   ],
   "source": [
    "# 1 quarter changes regression: earlier half of the sample\n",
    "\n",
    "results = sm.OLS(gdp_cons_df.Delta_C1[:140], gdp_cons_df.Delta_Y1[:140]).fit()\n",
    "\n",
    "print(results.summary())"
   ]
  },
  {
   "cell_type": "code",
   "execution_count": 27,
   "metadata": {},
   "outputs": [
    {
     "name": "stdout",
     "output_type": "stream",
     "text": [
      "                            OLS Regression Results                            \n",
      "==============================================================================\n",
      "Dep. Variable:               Delta_C1   R-squared:                       0.732\n",
      "Model:                            OLS   Adj. R-squared:                  0.730\n",
      "Method:                 Least Squares   F-statistic:                     376.9\n",
      "Date:                Sat, 10 Mar 2018   Prob (F-statistic):           2.74e-41\n",
      "Time:                        07:59:09   Log-Likelihood:                 603.62\n",
      "No. Observations:                 139   AIC:                            -1205.\n",
      "Df Residuals:                     138   BIC:                            -1202.\n",
      "Df Model:                           1                                         \n",
      "Covariance Type:            nonrobust                                         \n",
      "==============================================================================\n",
      "                 coef    std err          t      P>|t|      [0.025      0.975]\n",
      "------------------------------------------------------------------------------\n",
      "Delta_Y1       0.5556      0.029     19.415      0.000       0.499       0.612\n",
      "==============================================================================\n",
      "Omnibus:                        4.476   Durbin-Watson:                   1.978\n",
      "Prob(Omnibus):                  0.107   Jarque-Bera (JB):                5.285\n",
      "Skew:                           0.157   Prob(JB):                       0.0712\n",
      "Kurtosis:                       3.902   Cond. No.                         1.00\n",
      "==============================================================================\n",
      "\n",
      "Warnings:\n",
      "[1] Standard Errors assume that the covariance matrix of the errors is correctly specified.\n"
     ]
    }
   ],
   "source": [
    "# 1 quarter changes regression: later half of the sample\n",
    "\n",
    "results = sm.OLS(gdp_cons_df.Delta_C1[141:280], gdp_cons_df.Delta_Y1[141:280]).fit()\n",
    "\n",
    "print(results.summary())"
   ]
  },
  {
   "cell_type": "code",
   "execution_count": 28,
   "metadata": {},
   "outputs": [
    {
     "name": "stdout",
     "output_type": "stream",
     "text": [
      "0.6036\n",
      "0.5484\n",
      "0.7408\n"
     ]
    }
   ],
   "source": [
    "# Task H answers\n",
    "\n",
    "t = 0.25\n",
    "c_y_1_quarter = 0.4527/(1-t)\n",
    "c_y_1_quarter_early_sample = 0.4113/(1-t)\n",
    "c_y_1_quarter_late_sample = 0.5556/(1-t)\n",
    "\n",
    "print(c_y_1_quarter)\n",
    "print(c_y_1_quarter_early_sample)\n",
    "print(c_y_1_quarter_late_sample)"
   ]
  },
  {
   "cell_type": "code",
   "execution_count": 29,
   "metadata": {},
   "outputs": [
    {
     "name": "stdout",
     "output_type": "stream",
     "text": [
      "~~~~~~~~~~~~~~~~~~~~~~~~~~~~~~~~~~~~~~~~~~~~~~~~~~~~~~~~~~~~~~~~~~~~~\n",
      "Running tests\n",
      "\n",
      "---------------------------------------------------------------------\n",
      "Test summary\n",
      "    Passed: 3\n",
      "    Failed: 0\n",
      "[ooooooooook] 100.0% passed\n",
      "\n"
     ]
    },
    {
     "data": {
      "text/plain": [
       "{'failed': 0, 'locked': 0, 'passed': 3}"
      ]
     },
     "execution_count": 29,
     "metadata": {},
     "output_type": "execute_result"
    }
   ],
   "source": [
    "import numpy as np\n",
    "ok.grade('q05')"
   ]
  },
  {
   "cell_type": "code",
   "execution_count": 31,
   "metadata": {},
   "outputs": [
    {
     "data": {
      "application/javascript": [
       "IPython.notebook.save_checkpoint();"
      ],
      "text/plain": [
       "<IPython.core.display.Javascript object>"
      ]
     },
     "metadata": {},
     "output_type": "display_data"
    },
    {
     "data": {
      "application/javascript": [
       "IPython.notebook.save_notebook();"
      ],
      "text/plain": [
       "<IPython.core.display.Javascript object>"
      ]
     },
     "metadata": {},
     "output_type": "display_data"
    },
    {
     "name": "stdout",
     "output_type": "stream",
     "text": [
      "Saving notebook... Saved 'PS8.ipynb'.\n",
      "Submit... 100% complete\n",
      "Backup... 100% complete\n",
      "Submission successful for user: jbdelong@berkeley.edu\n",
      "URL: https://okpy.org/cal/econ101b/sp18/PS8/submissions/76Bx48\n",
      "\n"
     ]
    }
   ],
   "source": [
    "_ = ok.submit()"
   ]
  },
  {
   "cell_type": "code",
   "execution_count": null,
   "metadata": {
    "collapsed": true
   },
   "outputs": [],
   "source": []
  }
 ],
 "metadata": {
  "celltoolbar": "Edit Metadata",
  "kernelspec": {
   "display_name": "Python 3",
   "language": "python",
   "name": "python3"
  },
  "language_info": {
   "codemirror_mode": {
    "name": "ipython",
    "version": 3
   },
   "file_extension": ".py",
   "mimetype": "text/x-python",
   "name": "python",
   "nbconvert_exporter": "python",
   "pygments_lexer": "ipython3",
   "version": "3.6.1"
  }
 },
 "nbformat": 4,
 "nbformat_minor": 2
}

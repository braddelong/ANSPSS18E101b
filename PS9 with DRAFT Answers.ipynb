{
 "cells": [
  {
   "cell_type": "markdown",
   "metadata": {
    "slideshow": {
     "slide_type": "notes"
    }
   },
   "source": [
    "# 2018-03-10 Econ 101b Problem Set 9 with DRAFT Answers"
   ]
  },
  {
   "cell_type": "markdown",
   "metadata": {},
   "source": [
    "## Problem set will be due Fr Mar 23 at midnight...\n",
    "\n",
    "#### Sections between Tu AM & Th AM lecture will be problem set section..."
   ]
  },
  {
   "cell_type": "markdown",
   "metadata": {},
   "source": [
    "## Setting up the Python/Jupyter environment"
   ]
  },
  {
   "cell_type": "code",
   "execution_count": 1,
   "metadata": {},
   "outputs": [
    {
     "data": {
      "application/javascript": [
       "\n",
       "IPython.OutputArea.prototype._should_scroll = function(lines) {\n",
       "    return false;}"
      ],
      "text/plain": [
       "<IPython.core.display.Javascript object>"
      ]
     },
     "metadata": {},
     "output_type": "display_data"
    }
   ],
   "source": [
    "%%javascript\n",
    "\n",
    "IPython.OutputArea.prototype._should_scroll = function(lines) {\n",
    "    return false;}"
   ]
  },
  {
   "cell_type": "code",
   "execution_count": 2,
   "metadata": {
    "collapsed": true,
    "jupyter": {
     "outputs_hidden": true
    }
   },
   "outputs": [],
   "source": [
    "# ABOVE CELL IS \"NO SCROLLING SUBWINDOWS\" SETUP\n",
    "#\n",
    "# keep output cells from shifting to autoscroll: little scrolling\n",
    "# subwindows within the notebook are an annoyance..."
   ]
  },
  {
   "cell_type": "code",
   "execution_count": 3,
   "metadata": {},
   "outputs": [
    {
     "name": "stderr",
     "output_type": "stream",
     "text": [
      "/Users/delong/anaconda3/lib/python3.6/site-packages/statsmodels/compat/pandas.py:56: FutureWarning: The pandas.core.datetools module is deprecated and will be removed in a future version. Please use the pandas.tseries module instead.\n",
      "  from pandas.core import datetools\n"
     ]
    }
   ],
   "source": [
    "# THIS CELL LOADS THE LIBRARIES\n",
    "#\n",
    "# set up the environment by reading in every library we might need: \n",
    "# os... graphics... data manipulation... time... math... statistics...\n",
    "\n",
    "import sys\n",
    "import os\n",
    "from urllib.request import urlretrieve\n",
    "\n",
    "import matplotlib as mpl\n",
    "import matplotlib.pyplot as plt\n",
    "from IPython.display import Image\n",
    "\n",
    "import pandas as pd\n",
    "from pandas import DataFrame, Series\n",
    "from datetime import datetime\n",
    "\n",
    "import scipy as sp\n",
    "import numpy as np\n",
    "import math\n",
    "import random\n",
    "\n",
    "import seaborn as sns\n",
    "import statsmodels\n",
    "import statsmodels.api as sm\n",
    "import statsmodels.formula.api as smf"
   ]
  },
  {
   "cell_type": "code",
   "execution_count": 4,
   "metadata": {
    "collapsed": true,
    "jupyter": {
     "outputs_hidden": true
    }
   },
   "outputs": [],
   "source": [
    "# PRETTIER GRAPHICS SETUP\n",
    "#\n",
    "# graphics setup: seaborn-whitegrid and figure size;\n",
    "# graphs in the notebook itself...\n",
    "\n",
    "%matplotlib inline \n",
    "\n",
    "plt.style.use('seaborn-whitegrid')\n",
    "\n",
    "figure_size = plt.rcParams[\"figure.figsize\"]\n",
    "figure_size[0] = 12\n",
    "figure_size[1] = 10\n",
    "plt.rcParams[\"figure.figsize\"] = figure_size"
   ]
  },
  {
   "cell_type": "code",
   "execution_count": 5,
   "metadata": {},
   "outputs": [
    {
     "name": "stdout",
     "output_type": "stream",
     "text": [
      "Requirement already up-to-date: okpy in /Users/delong/anaconda3/lib/python3.6/site-packages\n",
      "Requirement already up-to-date: requests==2.12.4 in /Users/delong/anaconda3/lib/python3.6/site-packages (from okpy)\n",
      "Requirement already up-to-date: coverage==3.7.1 in /Users/delong/anaconda3/lib/python3.6/site-packages (from okpy)\n",
      "=====================================================================\n",
      "Assignment: PS9 Notebook\n",
      "OK, version v1.13.10\n",
      "=====================================================================\n",
      "\n",
      "\n",
      "Open the following URL:\n",
      "\n",
      "https://okpy.org/client/login/\n",
      "\n",
      "After logging in, copy the code from the web page and paste it into the box.\n",
      "Then press the \"Enter\" key on your keyboard.\n",
      "\n",
      "Paste your code here: OdRgZmT68tu4rVkbCFKvTVbKTOXwm3\n",
      "Successfully logged in as jbdelong@berkeley.edu\n"
     ]
    }
   ],
   "source": [
    "# THIS CELL IS THE KEY TO THE OKPY.ORG AUTOGRADER SYSTEM\n",
    "#\n",
    "# Don't change this cell; just run it. \n",
    "# The result will give you directions about how to log in to the submission system, called OK.\n",
    "# Once you're logged in, you can run this cell again, but it won't ask you who you are because\n",
    "# it remembers you. However, you will need to log in once per assignment.\n",
    "\n",
    "!pip install -U okpy\n",
    "\n",
    "from client.api.notebook import Notebook\n",
    "\n",
    "ok = Notebook('ps9.ok')\n",
    "_ = ok.auth(force=True, inline=True)"
   ]
  },
  {
   "cell_type": "markdown",
   "metadata": {},
   "source": [
    "### ⬆︎⬆︎⬆︎⬆︎⬆︎⬆︎⬆︎⬆︎⬆︎⬆︎⬆︎⬆︎⬆︎⬆︎⬆︎⬆︎\n",
    "### RUN THESE CELLS ABOVE FIRST"
   ]
  },
  {
   "cell_type": "markdown",
   "metadata": {},
   "source": [
    "# Problem Set 9 (Due Mar 21 11:59:59 PM)\n",
    "\n",
    "----\n",
    "\n",
    "&nbsp;"
   ]
  },
  {
   "cell_type": "markdown",
   "metadata": {},
   "source": [
    "## Introduction\n",
    "\n",
    "The autograder, both in the tests you run along the way as you work on the problem set and in calculating the final score, looks in the same directory as the problem set notebook for an \"ok.tests\" directory, and then runs the tests in the \"q\\*\\*.py\" files in that directory (where \"\\*\\*\" denotes a two-digit number, possibly with a leading zero). Those tests take the form of comparing a variable that should be in your namespace and seeing if it is close to some desired value that we get when we do the problem set.\n",
    "\n",
    "Thus while the problem set instructions ask you to run simulations and plot graphs, what you are tested on is whether the appropriate variables in your namespace have (close to the) right values. We do not care what code you use in order to get those variables to the right values. \n",
    "\n",
    "You can run simulations and then pick appropriate values out by slicing a series in order to get the right number. \n",
    "\n",
    "You can use your knowledge of the algebraic solution to the model to have Python calculate the answer, having first set the parameters to the right values, as in:\n",
    "\n",
    "    s = 0.24 # (say)\n",
    "    n = 0.01\n",
    "    g = 0.02\n",
    "    delta = 0.03\n",
    "    Delta_n = -0.01\n",
    "    KoverYinitial = s/(n+g+delta)\n",
    "    KoverYalternative = s/(n+Delta_n+g+delta)\n",
    "    \n",
    "You can even do all of the calculations on pen and paper, and simply code up:\n",
    "\n",
    "    KoverYinitial = 4\n",
    "    KoverYalternative = 4.8\n",
    "    \n",
    "Perhaps we should ask you to do all three—start with simulations, or with algebraic equations with set parameter values, or with full pen-and-paper calculations with only the final results entered into the notebook—and then ask you to check your results from one mode by doing the other two. But: _ars longa, vita brevis_. Focus on what works _for you_: the key is to get a sense of how economists' center-of-gravity analyses of long-run growth work, so that when you encounter such an analysis later, outside the university, you have the right intellectual panoply to evaluate it.\n",
    "\n",
    "----\n",
    "\n",
    "&nbsp;"
   ]
  },
  {
   "cell_type": "markdown",
   "metadata": {},
   "source": [
    "## Programming Dos and Don'ts...\n",
    "\n",
    "### A Running List...\n",
    "\n",
    "1. **Do** restart your kernel and run cells up to your current working point every fifteen minutes or so. Yes, it takes a little time. But if you don't, sooner or later the machine's namespace will get confused, and then you will get confused about the state of the machine's namespace, and by assuming things about it that are false you will lose hours and hours...   \n",
    "&nbsp;\n",
    "\n",
    "2. **Do** reload the page when restarting the kernel does not seem to do the job...   \n",
    "&nbsp;\n",
    "\n",
    "3. **Do** edit code cells by copying them below your current version and then working on the copy: when you break everything in the current cell (as you will), you can then go back to the old cell and start fresh...   \n",
    "&nbsp;\n",
    "\n",
    "4. **Do** exercise agile development practices: if there is a line of code that you have not tested, test it. The best way to test is to ask the machine to echo back to you the thing you have just created in its namespace to make sure that it is what you want it to be. Only after you are **certain** that your namespace contains what you think it does should you write the next line of code. And then you should immediately test it...   \n",
    "&nbsp;\n",
    "\n",
    "5. **Do** take screenshots of your error messages...   \n",
    "&nbsp;\n",
    "\n",
    "6. **Do** google your error messages: Ms. Google is your best friend here...   \n",
    "&nbsp;\n",
    "\n",
    "7. **Do not** confuse assignment (\"=\") and test for equality (\"==\"). In general, if there is an \"if\" anywhere nearby, you should be testing for equality. If there is not, you should be assignment a variable in your namespace to a value. **Do** curse the mathematicians 500 years ago who did not realize that in the twenty-first century it would be very convenient if we had different and not confusable symbols for equals-as-assignment and equals-as-test...   \n",
    "&nbsp;\n",
    "\n",
    "----\n",
    "\n",
    "&nbsp;\n",
    "\n",
    "**Thanks to**: Rachel Grossberg, Christopher Hench, Meghana Krishnakumer, Seth Lloyd, Ronald Walker..."
   ]
  },
  {
   "cell_type": "markdown",
   "metadata": {
    "deletable": false,
    "manual_grade": true,
    "manual_problem_id": "PS6TB"
   },
   "source": [
    "**(Task A) Programming Practices**\n",
    "\n",
    "If it strikes you that anything should be added to this list of programming dos and don'ts, please email it to me at <delong@econ.berkeley.edu>"
   ]
  },
  {
   "cell_type": "markdown",
   "metadata": {},
   "source": [
    "----"
   ]
  },
  {
   "cell_type": "markdown",
   "metadata": {},
   "source": [
    "### (Task B) The Baseline Flexprice Model\n",
    "\n",
    "**Let us set out the equations for the basic flexprice business cycle model**:\n",
    "\n",
    "And let us set out some baseline values to describe the American economy today, in trillions of dollars:\n",
    "\n",
    "National income: $ Y^* = Y = 20 $ :: Output $ Y $ equal production function potential $ Y^* $\n",
    "\n",
    "In the code cell below, set variables Ystar for potential output and Y for output—national income and product—their appropriate values: "
   ]
  },
  {
   "cell_type": "code",
   "execution_count": 6,
   "metadata": {},
   "outputs": [
    {
     "name": "stdout",
     "output_type": "stream",
     "text": [
      "20 = Y, national income and product\n"
     ]
    }
   ],
   "source": [
    "Ystar = 20\n",
    "Y = Ystar\n",
    "print(Y, \"= Y, national income and product\")"
   ]
  },
  {
   "cell_type": "markdown",
   "metadata": {},
   "source": [
    "**The Consumption Function**:\n",
    "\n",
    "The consumption function: $ C = 13 = c_o + {c_y}(1-t)Y $ :: consumption spending\n",
    "* $ c_o = 3 $ :: consumer confidence, or baseline consumption spending\n",
    "* $ {c_y} = 0.625 $ :: marginal propensity to consume\n",
    "* $ t = 0.2 $ :: tax-and-transfer rate   \n",
    "&nbsp;\n",
    "\n",
    "In the code cell below, set variables for c_o, c_y, and t for baseline consumption, the marginal propensity to consume, and the tax rate to their appropriate values. Then write an equation to calculate C, consumption spending:"
   ]
  },
  {
   "cell_type": "code",
   "execution_count": 7,
   "metadata": {},
   "outputs": [
    {
     "name": "stdout",
     "output_type": "stream",
     "text": [
      "13.4 = C, consumption spending\n"
     ]
    }
   ],
   "source": [
    "c_o = 3.4\n",
    "c_y = 0.625\n",
    "t = 0.2\n",
    "\n",
    "C = c_o + c_y * (1-t) * Y\n",
    "print(C, \"= C, consumption spending\")"
   ]
  },
  {
   "cell_type": "markdown",
   "metadata": {},
   "source": [
    "**Investment Spending**:\n",
    "\n",
    "Investment spending: $ I = 3.2 = I_o - {I_r}r $  \n",
    "* $ r = 0 $ :: risky real interest rate\n",
    "* $ I_o = 3.2 $ :: investors' \"animal spirits\"\n",
    "* $ {I_r} = 10 $ :: sensitivity of investment to the real interest rate   \n",
    "&nbsp;\n",
    "\n",
    "In the code cell below, set variables for I_o and I_r for the animal spirits of business and for the sensitivity of investment spending to the real interest rate. Then write an equation to calculate I, investment spending:"
   ]
  },
  {
   "cell_type": "code",
   "execution_count": 8,
   "metadata": {},
   "outputs": [
    {
     "name": "stdout",
     "output_type": "stream",
     "text": [
      "3.2 = I, investment spending\n"
     ]
    }
   ],
   "source": [
    "r = 0\n",
    "I_o = 3.2\n",
    "I_r = 10\n",
    "\n",
    "I = I_o - I_r * r\n",
    "\n",
    "print(I, \"= I, investment spending\")"
   ]
  },
  {
   "cell_type": "markdown",
   "metadata": {},
   "source": [
    "**Government Purchases**:\n",
    "\n",
    "Government purchases: $ G = 4 $    \n",
    "&nbsp;\n",
    "\n",
    "In the code cell below, set the variables for government purchases G to the appropriate value:"
   ]
  },
  {
   "cell_type": "code",
   "execution_count": 9,
   "metadata": {},
   "outputs": [
    {
     "name": "stdout",
     "output_type": "stream",
     "text": [
      "4 = G, government purchases\n"
     ]
    }
   ],
   "source": [
    "G = 4\n",
    "\n",
    "print(G, \"= G, government purchases\")"
   ]
  },
  {
   "cell_type": "markdown",
   "metadata": {},
   "source": [
    "**The International Sector**:\n",
    "\n",
    "The exchange rate: $ \\epsilon = {\\epsilon}_o + {\\epsilon}_r\\left(r^f - r\\right) $ :: measured as a deviation from baseline\n",
    "* $ {\\epsilon}_o = 0 $\n",
    "* $ {\\epsilon}_r = 5 $\n",
    "* $ r^f = 0 $\n",
    "\n",
    "International trade: $ NX = -0.6 = GX - IM $\n",
    "\n",
    ">$ GX = x_fY^f + {x_{\\epsilon}}{\\epsilon} $\n",
    ">* $ x_f = 0.1 $\n",
    ">* $ Y_f = 26 $\n",
    ">* $ x_eps = 2 $\n",
    "\n",
    ">$ IM = im_yY $\n",
    ">* $ im_y = 0.16 $\n",
    "&nbsp;\n",
    "    \n",
    "In the code cell below, set the following variables to their appropriate values:\n",
    "\n",
    "* x_f :: sensivity of exports to foreign national income\n",
    "* Y_f :: foreign national income\n",
    "* x_eps :: sensitivity of exports to the exchange rate\n",
    "* im_y :: sensitivity of imports to domestic national income\n",
    "* eps_o :: exchange rate speculators' opinions\n",
    "* eps_r :: sensitivity of the exchange rate to interest rate differentials\n",
    "* r_f :: the foreign real interest rate\n",
    "\n",
    "Then write equations to calculate the exchange rate, eps, gross exports, GX, imports, IM, and net exports, NX:"
   ]
  },
  {
   "cell_type": "code",
   "execution_count": 10,
   "metadata": {},
   "outputs": [
    {
     "name": "stdout",
     "output_type": "stream",
     "text": [
      "-0.6000000000000001 = NX, net exports\n"
     ]
    }
   ],
   "source": [
    "eps_o = 0\n",
    "eps_r = 5\n",
    "r_f = 0\n",
    "x_f = 0.1\n",
    "Y_f = 26\n",
    "x_eps = 2\n",
    "im_y = 0.16\n",
    "\n",
    "eps = eps_o + eps_r * (r_f - r)\n",
    "GX = x_f * Y_f + x_eps * eps\n",
    "IM = im_y * Y\n",
    "NX = GX - IM\n",
    "\n",
    "print(NX, \"= NX, net exports\")"
   ]
  },
  {
   "cell_type": "code",
   "execution_count": 11,
   "metadata": {},
   "outputs": [
    {
     "name": "stdout",
     "output_type": "stream",
     "text": [
      "~~~~~~~~~~~~~~~~~~~~~~~~~~~~~~~~~~~~~~~~~~~~~~~~~~~~~~~~~~~~~~~~~~~~~\n",
      "Running tests\n",
      "\n",
      "---------------------------------------------------------------------\n",
      "Test summary\n",
      "    Passed: 11\n",
      "    Failed: 0\n",
      "[ooooooooook] 100.0% passed\n",
      "\n"
     ]
    },
    {
     "data": {
      "text/plain": [
       "{'failed': 0, 'locked': 0, 'passed': 11}"
      ]
     },
     "execution_count": 11,
     "metadata": {},
     "output_type": "execute_result"
    }
   ],
   "source": [
    "import numpy as np\n",
    "ok.grade('q01')"
   ]
  },
  {
   "cell_type": "markdown",
   "metadata": {},
   "source": [
    "### (Task C) The Effects of an Increase in the Government Deficit at Full Employment 1\n",
    "\n",
    "Let's calculate the effects of a 500 billion dollar increase in the annual deficit produced by expanded government spending on the state of the economy. \n",
    "\n",
    "1. In the code cell below, write code to increase the government purchases variable G from 4 to 4.5.\n",
    "\n",
    "2. Write code to calculate private savings S_p, government savings S_g, foreign savings S_f, and the variable GAP0, what the gap between investment spending and total savings would be if that were to be the only change in the economy.\n",
    "\n",
    "3. Print out this initial round-zero GAP0 variable. Examine it\n",
    "\n",
    "The economy is no longer at its equilibrium. The government is draining savings out of the flow of funds, leaving an excess demand for finance to pay for business investment spending. The economy will adjust—the real interest rate will rise."
   ]
  },
  {
   "cell_type": "code",
   "execution_count": 12,
   "metadata": {},
   "outputs": [
    {
     "data": {
      "text/plain": [
       "0.5000000000000004"
      ]
     },
     "execution_count": 12,
     "metadata": {},
     "output_type": "execute_result"
    }
   ],
   "source": [
    "# Raise government purchases, and calculate the\n",
    "# savings-investment gap\n",
    "\n",
    "G = G + 0.5\n",
    "T = t * Y\n",
    "\n",
    "S_g = T - G\n",
    "S_f = - NX\n",
    "S_p = Y - C - T\n",
    "\n",
    "GAP0 = I - (S_p + S_g + S_f)\n",
    "GAP0"
   ]
  },
  {
   "cell_type": "code",
   "execution_count": 13,
   "metadata": {},
   "outputs": [
    {
     "name": "stdout",
     "output_type": "stream",
     "text": [
      "~~~~~~~~~~~~~~~~~~~~~~~~~~~~~~~~~~~~~~~~~~~~~~~~~~~~~~~~~~~~~~~~~~~~~\n",
      "Running tests\n",
      "\n",
      "---------------------------------------------------------------------\n",
      "Test summary\n",
      "    Passed: 1\n",
      "    Failed: 0\n",
      "[ooooooooook] 100.0% passed\n",
      "\n"
     ]
    },
    {
     "data": {
      "text/plain": [
       "{'failed': 0, 'locked': 0, 'passed': 1}"
      ]
     },
     "execution_count": 13,
     "metadata": {},
     "output_type": "execute_result"
    }
   ],
   "source": [
    "import numpy as np\n",
    "ok.grade('q02')"
   ]
  },
  {
   "cell_type": "markdown",
   "metadata": {},
   "source": [
    "### (Task D) The Effects of an Increase in the Government Deficit at Full Employment 2\n",
    "\n",
    "Suppose that in response to this disequilibrium in the flow-of-funds market created by Task C, r by would increase by 1/10 of this GAP0. \n",
    "\n",
    "1. Adjust r upward by 1/20 of this GAP0.\n",
    "2. Write code to calculate what now private savings S_p, government savings S_g, foreign savings S_f, and the variable GAP1 are.\n",
    "3. Print out this initial round-zero GAP1 variable. Examine it. Is the economy back at equilibrium? Set the variable at_equilibrium to True or False"
   ]
  },
  {
   "cell_type": "code",
   "execution_count": 14,
   "metadata": {},
   "outputs": [
    {
     "name": "stdout",
     "output_type": "stream",
     "text": [
      "0.0\n"
     ]
    }
   ],
   "source": [
    "r = 0\n",
    "r = r + 0.05 * GAP0\n",
    "\n",
    "I = I_o - I_r * r\n",
    "eps = eps_o + eps_r * (r_f - r)\n",
    "GX = x_f * Y_f + x_eps * eps\n",
    "IM = im_y * Y\n",
    "NX = GX - IM\n",
    "\n",
    "S_g = T - G\n",
    "S_f = - NX\n",
    "S_p = Y - C - T\n",
    "\n",
    "GAP1 = I - (S_p + S_g + S_f)\n",
    "print(GAP1)\n",
    "\n",
    "at_equilibrium = True"
   ]
  },
  {
   "cell_type": "code",
   "execution_count": 15,
   "metadata": {},
   "outputs": [
    {
     "name": "stdout",
     "output_type": "stream",
     "text": [
      "~~~~~~~~~~~~~~~~~~~~~~~~~~~~~~~~~~~~~~~~~~~~~~~~~~~~~~~~~~~~~~~~~~~~~\n",
      "Running tests\n",
      "\n",
      "---------------------------------------------------------------------\n",
      "Test summary\n",
      "    Passed: 2\n",
      "    Failed: 0\n",
      "[ooooooooook] 100.0% passed\n",
      "\n"
     ]
    },
    {
     "data": {
      "text/plain": [
       "{'failed': 0, 'locked': 0, 'passed': 2}"
      ]
     },
     "execution_count": 15,
     "metadata": {},
     "output_type": "execute_result"
    }
   ],
   "source": [
    "import numpy as np\n",
    "ok.grade('q03')"
   ]
  },
  {
   "cell_type": "markdown",
   "metadata": {},
   "source": [
    "### (Task E) The Effects of an Increase in the Government Deficit at Full Employment 3\n",
    "\n",
    "If the economy was not in equilibrium at the end of (Task D), in the code cell below calculate the new equilibrium. In any event, print out and examine consumption spending C, investment spending I, gross exports GX, imports IM, net exports NX, the real interest rate r, and the exchange rate $ \\epsilon $. \n",
    "\n",
    "In the markdown cell further below, explain why the effects of this unfunded increase in government purchases are what they are."
   ]
  },
  {
   "cell_type": "code",
   "execution_count": 16,
   "metadata": {},
   "outputs": [
    {
     "name": "stdout",
     "output_type": "stream",
     "text": [
      "13.4\n",
      "2.95\n",
      "2.3499999999999996\n",
      "3.2\n",
      "-0.8500000000000005\n",
      "0.025000000000000022\n",
      "-0.1250000000000001\n"
     ]
    }
   ],
   "source": [
    "print(C)\n",
    "print(I)\n",
    "print(GX)\n",
    "print(IM)\n",
    "print(NX)\n",
    "print(r)\n",
    "print(eps)"
   ]
  },
  {
   "cell_type": "markdown",
   "metadata": {
    "deletable": false,
    "manual_grade": true,
    "manual_problem_id": "delong_9"
   },
   "source": [
    "Explanation: <font color='blue'>ANSWER: ___ </font>"
   ]
  },
  {
   "cell_type": "code",
   "execution_count": 17,
   "metadata": {},
   "outputs": [
    {
     "name": "stdout",
     "output_type": "stream",
     "text": [
      "~~~~~~~~~~~~~~~~~~~~~~~~~~~~~~~~~~~~~~~~~~~~~~~~~~~~~~~~~~~~~~~~~~~~~\n",
      "Running tests\n",
      "\n",
      "---------------------------------------------------------------------\n",
      "Test summary\n",
      "    Passed: 7\n",
      "    Failed: 0\n",
      "[ooooooooook] 100.0% passed\n",
      "\n"
     ]
    },
    {
     "data": {
      "text/plain": [
       "{'failed': 0, 'locked': 0, 'passed': 7}"
      ]
     },
     "execution_count": 17,
     "metadata": {},
     "output_type": "execute_result"
    }
   ],
   "source": [
    "import numpy as np\n",
    "ok.grade('q04')"
   ]
  },
  {
   "cell_type": "code",
   "execution_count": null,
   "metadata": {
    "collapsed": true,
    "jupyter": {
     "outputs_hidden": true
    }
   },
   "outputs": [],
   "source": [
    "_ = ok.submit()"
   ]
  }
 ],
 "metadata": {
  "celltoolbar": "Edit Metadata",
  "kernelspec": {
   "display_name": "Python 3",
   "language": "python",
   "name": "python3"
  },
  "language_info": {
   "codemirror_mode": {
    "name": "ipython",
    "version": 3
   },
   "file_extension": ".py",
   "mimetype": "text/x-python",
   "name": "python",
   "nbconvert_exporter": "python",
   "pygments_lexer": "ipython3",
   "version": "3.7.7"
  }
 },
 "nbformat": 4,
 "nbformat_minor": 4
}

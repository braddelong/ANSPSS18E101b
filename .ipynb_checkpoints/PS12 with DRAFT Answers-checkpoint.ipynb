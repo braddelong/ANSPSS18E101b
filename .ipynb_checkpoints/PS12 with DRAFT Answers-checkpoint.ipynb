{
 "cells": [
  {
   "cell_type": "markdown",
   "metadata": {
    "slideshow": {
     "slide_type": "notes"
    }
   },
   "source": [
    "# 2018-04-17 Econ 101b Problem Set 12: Monetary Policy Reaction Function"
   ]
  },
  {
   "cell_type": "markdown",
   "metadata": {},
   "source": [
    "### Problem set will be due M Apr 30 at midnight...\n",
    "\n",
    "#### Sections between Tu AM & Th AM lecture will be problem set section..."
   ]
  },
  {
   "cell_type": "markdown",
   "metadata": {},
   "source": [
    "## Setting up the Python/Jupyter environment"
   ]
  },
  {
   "cell_type": "code",
   "execution_count": 2,
   "metadata": {},
   "outputs": [
    {
     "data": {
      "application/javascript": [
       "\n",
       "IPython.OutputArea.prototype._should_scroll = function(lines) {\n",
       "    return false;}"
      ],
      "text/plain": [
       "<IPython.core.display.Javascript object>"
      ]
     },
     "metadata": {},
     "output_type": "display_data"
    }
   ],
   "source": [
    "%%javascript\n",
    "\n",
    "IPython.OutputArea.prototype._should_scroll = function(lines) {\n",
    "    return false;}"
   ]
  },
  {
   "cell_type": "code",
   "execution_count": 3,
   "metadata": {},
   "outputs": [],
   "source": [
    "# ABOVE CELL IS \"NO SCROLLING SUBWINDOWS\" SETUP\n",
    "#\n",
    "# keep output cells from shifting to autoscroll: little scrolling\n",
    "# subwindows within the notebook are an annoyance..."
   ]
  },
  {
   "cell_type": "code",
   "execution_count": 4,
   "metadata": {},
   "outputs": [],
   "source": [
    "# LOADING LIBRARIES WE MIGHT NEED...\n",
    "#\n",
    "# system\n",
    "\n",
    "import sys\n",
    "import os\n",
    "from urllib.request import urlretrieve"
   ]
  },
  {
   "cell_type": "code",
   "execution_count": 5,
   "metadata": {},
   "outputs": [],
   "source": [
    "# LOADING LIBRARIES WE MIGHT NEED...\n",
    "#\n",
    "# plotting\n",
    "\n",
    "import matplotlib as mpl\n",
    "import matplotlib.pyplot as plt\n",
    "from IPython.display import Image\n",
    "import seaborn as sns"
   ]
  },
  {
   "cell_type": "code",
   "execution_count": 6,
   "metadata": {},
   "outputs": [],
   "source": [
    "# LOADING LIBRARIES WE MIGHT NEED...\n",
    "#\n",
    "# data handling\n",
    "\n",
    "import pandas as pd\n",
    "from pandas import DataFrame, Series\n",
    "from datetime import datetime"
   ]
  },
  {
   "cell_type": "code",
   "execution_count": 7,
   "metadata": {},
   "outputs": [],
   "source": [
    "# LOADING LIBRARIES WE MIGHT NEED...\n",
    "#\n",
    "# math\n",
    "\n",
    "import scipy as sp\n",
    "import numpy as np\n",
    "import math\n",
    "import random"
   ]
  },
  {
   "cell_type": "code",
   "execution_count": 8,
   "metadata": {},
   "outputs": [
    {
     "name": "stderr",
     "output_type": "stream",
     "text": [
      "/Users/delong/anaconda3/lib/python3.6/site-packages/statsmodels/compat/pandas.py:56: FutureWarning: The pandas.core.datetools module is deprecated and will be removed in a future version. Please use the pandas.tseries module instead.\n",
      "  from pandas.core import datetools\n"
     ]
    }
   ],
   "source": [
    "# LOADING LIBRARIES WE MIGHT NEED...\n",
    "#\n",
    "# statistics\n",
    "\n",
    "import statsmodels\n",
    "import statsmodels.api as sm\n",
    "import statsmodels.formula.api as smf"
   ]
  },
  {
   "cell_type": "code",
   "execution_count": 9,
   "metadata": {},
   "outputs": [],
   "source": [
    "# PRETTIER GRAPHICS SETUP\n",
    "#\n",
    "# graphics setup: seaborn-whitegrid and figure size;\n",
    "# graphs in the notebook itself...\n",
    "\n",
    "%matplotlib inline \n",
    "\n",
    "plt.style.use('seaborn-whitegrid')\n",
    "\n",
    "figure_size = plt.rcParams[\"figure.figsize\"]\n",
    "figure_size[0] = 12\n",
    "figure_size[1] = 10\n",
    "plt.rcParams[\"figure.figsize\"] = figure_size"
   ]
  },
  {
   "cell_type": "code",
   "execution_count": 10,
   "metadata": {},
   "outputs": [
    {
     "name": "stdout",
     "output_type": "stream",
     "text": [
      "Requirement already up-to-date: okpy in /Users/delong/anaconda3/lib/python3.6/site-packages\n",
      "Requirement already up-to-date: requests==2.12.4 in /Users/delong/anaconda3/lib/python3.6/site-packages (from okpy)\n",
      "Requirement already up-to-date: coverage==3.7.1 in /Users/delong/anaconda3/lib/python3.6/site-packages (from okpy)\n",
      "\u001b[33mYou are using pip version 9.0.2, however version 10.0.1 is available.\n",
      "You should consider upgrading via the 'pip install --upgrade pip' command.\u001b[0m\n",
      "=====================================================================\n",
      "Assignment: PS12 Notebook\n",
      "OK, version v1.13.11\n",
      "=====================================================================\n",
      "\n",
      "\n",
      "Open the following URL:\n",
      "\n",
      "https://okpy.org/client/login/\n",
      "\n",
      "After logging in, copy the code from the web page and paste it into the box.\n",
      "Then press the \"Enter\" key on your keyboard.\n",
      "\n",
      "Paste your code here: goEPSjqnLuEH1CMZrvPlg1liXt4krc\n",
      "Successfully logged in as jbdelong@berkeley.edu\n"
     ]
    }
   ],
   "source": [
    "# THIS CELL IS THE KEY TO THE OKPY.ORG AUTOGRADER SYSTEM\n",
    "#\n",
    "# Don't change this cell; just run it. \n",
    "# The result will give you directions about how to log in to the submission system, called OK.\n",
    "# Once you're logged in, you can run this cell again, but it won't ask you who you are because\n",
    "# it remembers you. However, you will need to log in once per assignment.\n",
    "\n",
    "!pip install -U okpy\n",
    "\n",
    "from client.api.notebook import Notebook\n",
    "\n",
    "ok = Notebook('ps12.ok')\n",
    "_ = ok.auth(force=True, inline=True)"
   ]
  },
  {
   "cell_type": "markdown",
   "metadata": {},
   "source": [
    "### ⬆︎⬆︎⬆︎⬆︎⬆︎⬆︎⬆︎⬆︎⬆︎⬆︎⬆︎⬆︎⬆︎⬆︎⬆︎⬆︎\n",
    "### RUN THESE CELLS ABOVE FIRST"
   ]
  },
  {
   "cell_type": "markdown",
   "metadata": {},
   "source": [
    "# Problem Set 12: Monetary Policy Reaction Function (Due M Apr 30 11:59:59 PM)\n",
    "\n",
    "----\n",
    "\n",
    "&nbsp;\n",
    "\n",
    "## Introduction\n",
    "\n",
    "The autograder, both in the tests you run along the way as you work on the problem set and in calculating the final score, looks in the same directory as the problem set notebook for an \"ok.tests\" directory, and then runs the tests in the \"q\\*\\*.py\" files in that directory (where \"\\*\\*\" denotes a two-digit number, possibly with a leading zero). Those tests take the form of comparing a variable that should be in your namespace and seeing if it is close to some desired value that we get when we do the problem set.\n",
    "\n",
    "Thus while the problem set instructions ask you to run simulations and plot graphs, what you are tested on is whether the appropriate variables in your namespace have (close to the) right values. We do not care what code you use in order to get those variables to the right values. \n",
    "\n",
    "You can run simulations and then pick appropriate values out by slicing a series in order to get the right number. \n",
    "\n",
    "You can use your knowledge of the algebraic solution to the model to have Python calculate the answer, having first set the parameters to the right values, as in:\n",
    "\n",
    "    s = 0.24 # (say)\n",
    "    n = 0.01\n",
    "    g = 0.02\n",
    "    delta = 0.03\n",
    "    Delta_n = -0.01\n",
    "    KoverYinitial = s/(n+g+delta)\n",
    "    KoverYalternative = s/(n+Delta_n+g+delta)\n",
    "    \n",
    "You can even do all of the calculations on pen and paper, and simply code up:\n",
    "\n",
    "    KoverYinitial = 4\n",
    "    KoverYalternative = 4.8\n",
    "    \n",
    "Perhaps we should ask you to do all three—start with simulations, or with algebraic equations with set parameter values, or with full pen-and-paper calculations with only the final results entered into the notebook—and then ask you to check your results from one mode by doing the other two. But: _ars longa, vita brevis_. Focus on what works _for you_: the key is to get a sense of how economists' center-of-gravity analyses of long-run growth work, so that when you encounter such an analysis later, outside the university, you have the right intellectual panoply to evaluate it.\n",
    "\n",
    "----\n",
    "\n",
    "&nbsp;"
   ]
  },
  {
   "cell_type": "markdown",
   "metadata": {},
   "source": [
    "## Programming Dos and Don'ts...\n",
    "\n",
    "### A Running List...\n",
    "\n",
    "1. **Do** restart your kernel and run cells up to your current working point every fifteen minutes or so. Yes, it takes a little time. But if you don't, sooner or later the machine's namespace will get confused, and then you will get confused about the state of the machine's namespace, and by assuming things about it that are false you will lose hours and hours...   \n",
    "&nbsp;\n",
    "\n",
    "2. **Do** reload the page when restarting the kernel does not seem to do the job...   \n",
    "&nbsp;\n",
    "\n",
    "3. **Do** edit code cells by copying them below your current version and then working on the copy: when you break everything in the current cell (as you will), you can then go back to the old cell and start fresh...   \n",
    "&nbsp;\n",
    "\n",
    "4. **Do** exercise agile development practices: if there is a line of code that you have not tested, test it. The best way to test is to ask the machine to echo back to you the thing you have just created in its namespace to make sure that it is what you want it to be. Only after you are **certain** that your namespace contains what you think it does should you write the next line of code. And then you should immediately test it...   \n",
    "&nbsp;\n",
    "\n",
    "5. **Do** take screenshots of your error messages...   \n",
    "&nbsp;\n",
    "\n",
    "6. **Do** google your error messages: Ms. Google is your best friend here...   \n",
    "&nbsp;\n",
    "\n",
    "7. **Do not** confuse assignment (\"=\") and test for equality (\"==\"). In general, if there is an \"if\" anywhere nearby, you should be testing for equality. If there is not, you should be assignment a variable in your namespace to a value. **Do** curse the mathematicians 500 years ago who did not realize that in the twenty-first century it would be very convenient if we had different and not confusable symbols for equals-as-assignment and equals-as-test...   \n",
    "&nbsp;\n",
    "\n",
    "----\n",
    "\n",
    "&nbsp;\n",
    "\n",
    "**Thanks to**: Felix Deng, Rachel Grossberg, Christopher Hench, Meghana Krishnakumer, Seth Lloyd, Ronald Walker..."
   ]
  },
  {
   "cell_type": "markdown",
   "metadata": {
    "deletable": false,
    "manual_grade": true,
    "manual_problem_id": "PS6TB"
   },
   "source": [
    "**(Task A) Programming Practices**\n",
    "\n",
    "If it strikes you that anything should be added to this list of programming dos and don'ts, please email it to me at <delong@econ.berkeley.edu>"
   ]
  },
  {
   "cell_type": "markdown",
   "metadata": {},
   "source": [
    "----"
   ]
  },
  {
   "cell_type": "markdown",
   "metadata": {},
   "source": [
    "### The Baseline Sticky-Price Model\n",
    "\n",
    "Start with the IS-Curve for the sticky-price model:\n",
    "\n",
    "&nbsp;&nbsp;&nbsp;&nbsp;&nbsp;&nbsp;&nbsp;&nbsp;&nbsp;\n",
    "$ Y = E = {\\mu}(c_o + I_o + G) + {\\mu}(x_{f}Y^f + x_{\\epsilon}{\\epsilon_o} + x_{\\epsilon}{\\epsilon_r}r^f) - {\\mu}(I_r + x_{\\epsilon}{\\epsilon_r})r $\n",
    "\n",
    "Remember: causation moves from right to left: the components of spending add up to aggregate demand or total expenditure E, and the inventory adjustment process then drives national income and product Y to aggregate demand.\n",
    "\n",
    "The symbols on the right-hand side of this equation are grouped into:\n",
    "\n",
    "_Expectations and Confidence:_\n",
    "\n",
    "* $ c_o $ :: consumer confidence\n",
    "* $ I_o $ :: business investment animal spirits\n",
    "* $ {\\epsilon_o} $ :: the confidence of foreign exchange speculators in the value of foreign currency\n",
    "\n",
    "&nbsp;\n",
    "\n",
    "_Behavioral Parameters:_\n",
    "\n",
    "* $ x_{f} $ :: the responsiveness of exports to foreign income\n",
    "* $ x_{\\epsilon} $ :: the responsiveness of exports to the exchange rate\n",
    "* $ {\\epsilon_r} $ :: the responsiveness of the exchange rate to the interest rate\n",
    "* $ I_r $ :: the responsiveness of investment to the interest rate\n",
    "* $ {\\mu} = \\frac{1}{1- c_{y}(1-t) + im_y} $ :: the multiplier, itself a function of:\n",
    "    * $ t $ :: the tax rate\n",
    "    * $ c_y $ :: the marginal propensity to consume\n",
    "    * $ im_y $ :: the marginal propensity to import\n",
    "\n",
    "&nbsp;\n",
    "\n",
    "_The Global Economic Environment:_\n",
    "\n",
    "* $ Y^f $ :: foreign national income\n",
    "* $ r^f $ :: the foreign long-term risky real interest rate\n",
    "\n",
    "&nbsp;\n",
    "\n",
    "_Policy Choices:_\n",
    "\n",
    "* $ G $ :: government purchases\n",
    "* $ r = i + \\rho - \\pi $ :: the long-term risky real interest rate, which itself will later on be a function of:\n",
    "    * $ i $ :: the short-term safe nominal interest rate, a policy choice\n",
    "    * $ \\rho $ :: the risk (and term) premium charged for lending long-term to companies that might go bankrupt rather than short-term to the government\n",
    "    * $ \\pi $ :: the expected inflation rate\n",
    "\n",
    "Assume parameter values:\n",
    "\n",
    "* $ c_o = 2 $\n",
    "* $ c_y = 5/8 $\n",
    "* $ I_o = 4.4 $\n",
    "* $ I_r = 10 $\n",
    "* $ t = 0.20 $\n",
    "* $ im_y = 1/6 $\n",
    "* $ x^f = 0.1 $\n",
    "* $ Y^f = 20 $\n",
    "* $ r^f = 0.04 $\n",
    "* $ x_{\\epsilon} = 4/3 $\n",
    "* $ \\epsilon_o = 1 $\n",
    "* $ \\epsilon_r = 5 $\n",
    "\n",
    "And assume that government purchases $ G = 4 $\n",
    "\n",
    "The code cell below sets parameter values and calculates the equilibrium value of the real interest rater r for this flexprice model IS Curve. It then calculates the values of hte other economic variables, in trillions:\n",
    "\n",
    "----\n",
    "\n",
    "&nbsp;"
   ]
  },
  {
   "cell_type": "code",
   "execution_count": 11,
   "metadata": {},
   "outputs": [
    {
     "name": "stdout",
     "output_type": "stream",
     "text": [
      "The real interest rate = 0.04\n",
      "\n",
      "The components of national income and product Y are:\n",
      "Consumption spending C =  12.0\n",
      "Investment spending I =  4.0\n",
      "Government purchases G =  4\n",
      "Net exports NX =  0.0\n",
      "\n",
      "Output Y =  20.0\n",
      "\n",
      "Gross exports GX =  3.333333333333333\n",
      "Imports IM =  3.333333333333333\n",
      "\n",
      "The real exchange rate ε =  1.0\n",
      "\n",
      "The multiplier μ =  1.5\n"
     ]
    }
   ],
   "source": [
    "# STICKY-PRICE MODEL INITIAL SCENARIO SETUP\n",
    "\n",
    "# Set initial parameter and variable values\n",
    "c_o = 2\n",
    "c_y = 5/8\n",
    "\n",
    "I_o = 4.4\n",
    "I_r = 10\n",
    "\n",
    "G = 4\n",
    "t = 0.20\n",
    "\n",
    "im_y = 1/6\n",
    "x_f = 0.1\n",
    "Y_f = 20\n",
    "r_f = 0.04\n",
    "\n",
    "x_epsilon = 4/3\n",
    "epsilon_o = 1\n",
    "epsilon_r = 5\n",
    "\n",
    "# Calculate the value of the multiplier\n",
    "mu = 1/(1-c_y*(1-t)+ im_y)\n",
    "\n",
    "# Set the real interest rate\n",
    "r = 0.04\n",
    "\n",
    "# Calculate the equilibrium value of Y from the IS Curve\n",
    "Y = mu * ((c_o + I_o + G) + \n",
    "    (x_f * Y_f + x_epsilon * epsilon_o + x_epsilon * epsilon_r * r_f) -\n",
    "    (I_r + x_epsilon * epsilon_r)* r) \n",
    "\n",
    "# calculcate the values of other economic variables \n",
    "# in this initial scenario\n",
    "C = c_o + c_y * (1-t) * Y\n",
    "I = I_o - I_r * r\n",
    "GX = x_f * Y_f + x_epsilon * epsilon_o + x_epsilon * epsilon_r * (r_f-r)\n",
    "IM = im_y * Y\n",
    "NX = GX - IM\n",
    "epsilon = epsilon_o + epsilon_r * (r_f-r)\n",
    "\n",
    "# print out the values of economic variables in \n",
    "# this initial scenario equilibrium\n",
    "print(\"The real interest rate =\", r)\n",
    "print(\"\")\n",
    "print(\"The components of national income and product Y are:\")\n",
    "print(\"Consumption spending C = \", C)\n",
    "print(\"Investment spending I = \", I)\n",
    "print(\"Government purchases G = \", G)\n",
    "print(\"Net exports NX = \", NX)\n",
    "print(\"\")\n",
    "print(\"Output Y = \", Y)\n",
    "print(\"\")\n",
    "print(\"Gross exports GX = \", GX)\n",
    "print(\"Imports IM = \", IM)\n",
    "print(\"\")\n",
    "print(\"The real exchange rate ε = \", epsilon)\n",
    "print(\"\")\n",
    "print(\"The multiplier μ = \", mu)\n",
    "\n",
    "# AFTER YOU RUN THIS CELL, DO NOT OVERWRITE THE VALUES OF THE\n",
    "# _ini VARIABLES!\n",
    "#\n",
    "# remember the values of the economic variables in this \n",
    "# initial scenario\n",
    "r_ini = r\n",
    "I_ini = I\n",
    "G_ini = G\n",
    "NX_ini = NX\n",
    "epsilon_ini = epsilon\n",
    "Y_ini = Y\n",
    "C_ini = C"
   ]
  },
  {
   "cell_type": "markdown",
   "metadata": {},
   "source": [
    "### (Task B) Sticky-Price: Moving Along the IS Curve: A Contraction via Higher Interest Rates to Fight Inflation (Initial)\n",
    "\n",
    "In the code cell below the setup cell, calculate the change in national product produced by the central bank's fighting infltiton via a 4 percentage point increase in the domestic interest rate $ {\\Delta}r = +0.04 $, holding constant the domestic real interest rate r, and set the value of the variable:\n",
    "\n",
    "    Delta_Y_PS12taskB\n",
    "    \n",
    "to that calculated change:"
   ]
  },
  {
   "cell_type": "code",
   "execution_count": 12,
   "metadata": {},
   "outputs": [],
   "source": [
    "# CODE CELL FOR TASK B INITIAL\n",
    "\n",
    "# Delta_r = +0.04\n",
    "\n",
    "# ...\n",
    "# ...\n",
    "# ...\n",
    "# ...\n",
    "\n",
    "# Delta_Y_PS12taskB = "
   ]
  },
  {
   "cell_type": "markdown",
   "metadata": {},
   "source": [
    "### Answer Markdown Cell for Task B Initial\n",
    "\n",
    "Start with the IS-Curve for the sticky-price model:\n",
    "\n",
    "&nbsp;&nbsp;&nbsp;&nbsp;&nbsp;&nbsp;&nbsp;&nbsp;&nbsp;\n",
    "$ Y = E = {\\mu}(c_o + I_o + G) + {\\mu}(x_{f}Y^f + x_{\\epsilon}{\\epsilon_o} + x_{\\epsilon}{\\epsilon_r}r^f) - {\\mu}(I_r + x_{\\epsilon}{\\epsilon_r})r $\n",
    "\n",
    "and:\n",
    "\n",
    "&nbsp;&nbsp;&nbsp;&nbsp;&nbsp;&nbsp;&nbsp;&nbsp;&nbsp;\n",
    "$ {\\Delta}r = +0.04 $\n",
    "\n",
    "to get:\n",
    "\n",
    "&nbsp;&nbsp;&nbsp;&nbsp;&nbsp;&nbsp;&nbsp;&nbsp;&nbsp;\n",
    "$ {\\Delta}Y = {\\Delta}E = - {\\mu}(I_r + x_{\\epsilon}{\\epsilon_r}){\\Delta}r $\n",
    "\n",
    "with:\n",
    "\n",
    "* $ c_y = 5/8 $\n",
    "* $ I_r = 10 $\n",
    "* $ t = 0.20 $\n",
    "* $ im_y = 1/6 $\n",
    "* $ x_{\\epsilon} = 4/3 $\n",
    "* $ \\epsilon_r = 5 $\n",
    "\n",
    "and thus:\n",
    "\n",
    "* $ \\mu = \\frac{1}{(1-c_y(1-t) + im_y)} = \\frac{1}{1-\\frac{5}{8}(1-0.2) + \\frac{1}{6}} = 1.5 $\n",
    "\n",
    "The answer is then:\n",
    "\n",
    "&nbsp;&nbsp;&nbsp;&nbsp;&nbsp;&nbsp;&nbsp;&nbsp;&nbsp;\n",
    "$ {\\Delta}Y = - (1.5)\\left(10 + \\left(\\frac{4}{3}\\right)(5)\\right)(0.04) = -1 $\n",
    "\n"
   ]
  },
  {
   "cell_type": "code",
   "execution_count": 13,
   "metadata": {},
   "outputs": [],
   "source": [
    "# ANSWER CODE CELL FOR TASK B INITIAL\n",
    "\n",
    "Delta_r = +0.04\n",
    "\n",
    "Delta_Y_PS12taskB = -1"
   ]
  },
  {
   "cell_type": "markdown",
   "metadata": {},
   "source": [
    "### (Task B) Sticky-Price: Moving Along the IS Curve: A Contraction via Higher Interest Rates to Fight Inflation (Continued)\n",
    "\n",
    "In the code cell below, write code or otherwise calculate and set the variables:\n",
    "\n",
    "    Delta_C_PS12taskB\n",
    "    Delta_I_PS12taskB\n",
    "    Delta_G_PS12taskB\n",
    "    Delta_NX_PS12taskB\n",
    "    Delta_epsilon_PS12taskB\n",
    "    Delta_r_PS12taskB =\n",
    "    \n",
    "to the changes in their values in the alternative scenario relative to the baseline"
   ]
  },
  {
   "cell_type": "code",
   "execution_count": 14,
   "metadata": {},
   "outputs": [],
   "source": [
    "# CODE CELL FOR TASK B CONTINUED\n",
    "\n",
    "# ...\n",
    "# ...\n",
    "# ...\n",
    "# ...\n",
    "# ...\n",
    "\n",
    "# Delta_C_PS12taskB =\n",
    "# Delta_I_PS12taskB = \n",
    "# Delta_G_PS12taskB = \n",
    "# Delta_NX_PS12taskB = \n",
    "# Delta_epsilon_PS12taskB =\n",
    "# Delta_r_PS12taskB ="
   ]
  },
  {
   "cell_type": "markdown",
   "metadata": {},
   "source": [
    "### Answer Markdown Cell for Task B (Continued)\n",
    "\n",
    "&nbsp;&nbsp;&nbsp;&nbsp;&nbsp;&nbsp;&nbsp;&nbsp;&nbsp;\n",
    "$ {\\Delta}C = {c_y}(1-t){\\Delta}Y = \\left(\\frac{5}{8}\\right)(1-0.2)(-1) = -0.5 $\n",
    "\n",
    "&nbsp;&nbsp;&nbsp;&nbsp;&nbsp;&nbsp;&nbsp;&nbsp;&nbsp;\n",
    "$ {\\Delta}I = -I_r\\Delta{r} = -(10)(0.04) = - 0.4 $\n",
    "\n",
    "&nbsp;&nbsp;&nbsp;&nbsp;&nbsp;&nbsp;&nbsp;&nbsp;&nbsp;\n",
    "$ {\\Delta}G = 0 $\n",
    "\n",
    "&nbsp;&nbsp;&nbsp;&nbsp;&nbsp;&nbsp;&nbsp;&nbsp;&nbsp;\n",
    "$ {\\Delta}GX = -x_{\\epsilon}{\\epsilon_r}{\\Delta}r = -(1.3333)(5)(0.04) = - 0.266667 $ \n",
    "\n",
    "&nbsp;&nbsp;&nbsp;&nbsp;&nbsp;&nbsp;&nbsp;&nbsp;&nbsp;\n",
    "$ {\\Delta}IM = im_y{\\Delta}Y = (0.16667)(-1) = -0.166667 $\n",
    "\n",
    "&nbsp;&nbsp;&nbsp;&nbsp;&nbsp;&nbsp;&nbsp;&nbsp;&nbsp;\n",
    "$ {\\Delta}NX = {\\Delta}GX - {\\Delta}IM = - 0.266667 + 0.166667 = -0.1 $\n",
    "\n",
    "&nbsp;&nbsp;&nbsp;&nbsp;&nbsp;&nbsp;&nbsp;&nbsp;&nbsp;\n",
    "$ \\Delta\\epsilon = -{\\epsilon}_r{\\Delta}r = (5)(0.04) = -0.2 $\n",
    "\n",
    "&nbsp;&nbsp;&nbsp;&nbsp;&nbsp;&nbsp;&nbsp;&nbsp;&nbsp;\n",
    "$ {\\Delta}r = + 0.04 $"
   ]
  },
  {
   "cell_type": "code",
   "execution_count": 15,
   "metadata": {},
   "outputs": [],
   "source": [
    "# ANSWER CODE CELL FOR TASK B CONTINUED\n",
    "\n",
    "Delta_C_PS12taskB = -0.5\n",
    "Delta_I_PS12taskB = -0.4\n",
    "Delta_G_PS12taskB = +0.0\n",
    "Delta_NX_PS12taskB = -0.1\n",
    "Delta_epsilon_PS12taskB = +0.2\n",
    "Delta_r_PS12taskB = +0.04"
   ]
  },
  {
   "cell_type": "code",
   "execution_count": 16,
   "metadata": {},
   "outputs": [
    {
     "name": "stdout",
     "output_type": "stream",
     "text": [
      "~~~~~~~~~~~~~~~~~~~~~~~~~~~~~~~~~~~~~~~~~~~~~~~~~~~~~~~~~~~~~~~~~~~~~\n",
      "Running tests\n",
      "\n",
      "---------------------------------------------------------------------\n",
      "Test summary\n",
      "    Passed: 7\n",
      "    Failed: 0\n",
      "[ooooooooook] 100.0% passed\n",
      "\n"
     ]
    },
    {
     "data": {
      "text/plain": [
       "{'failed': 0, 'locked': 0, 'passed': 7}"
      ]
     },
     "execution_count": 16,
     "metadata": {},
     "output_type": "execute_result"
    }
   ],
   "source": [
    "# TASK B ANSWER CHECK\n",
    "\n",
    "import numpy as np\n",
    "ok.grade('q01')"
   ]
  },
  {
   "cell_type": "markdown",
   "metadata": {},
   "source": [
    "### (Task B) Sticky-Price: Moving Along the IS Curve: A Contraction via Tighter Monetary Policy and Higher Interest Rates Abroad (Conclusion)\n",
    "\n",
    "If everything worked out as it should, you would have identified the portions of the sticky-price IS Curve equation:\n",
    "\n",
    "&nbsp;&nbsp;&nbsp;&nbsp;&nbsp;&nbsp;&nbsp;&nbsp;&nbsp;\n",
    "$ Y = E = {\\mu}(c_o + I_o + G) + {\\mu}(x_{f}Y^f + x_{\\epsilon}{\\epsilon_o} + x_{\\epsilon}{\\epsilon_r}r^f) - {\\mu}(I_r + x_{\\epsilon}{\\epsilon_r})r $\n",
    "\n",
    "that are relevant to an increase $ {\\Delta}r $ in the domestic real interest rate. Those components are:\n",
    "\n",
    "&nbsp;&nbsp;&nbsp;&nbsp;&nbsp;&nbsp;&nbsp;&nbsp;&nbsp;\n",
    "$ {\\Delta}Y = {\\Delta}E = - {\\mu}(I_r + x_{\\epsilon}{\\epsilon_r})r $\n",
    "\n",
    "And from them—and the parameter values—you could calculate by hand the changes in other economic variables.\n",
    "\n",
    "Or you could have simply solved the model for the initial-scenario equilibrium, solved it for the alternative with the same parameter values except for $ r : {\\Delta}r = +0.04 $, and compared the results...\n",
    "\n",
    "What you should have found would be that contractionary monetary policy at home is, indeed, contrationary at home. As the domestic interest rates go up, investment falls. In addition, foreign currency becomes less valuable. As foreign currency becomes less valuable, domestic currency and thus domestically produced goods denominated in domestic currency become less attractive to foreign buyers. Thus gross exports fall as well.\n",
    "\n",
    "In addition, you would have found the standard Keynesian multiplier result: When national income and product Y is demand determined, as in the sticky price model, there is a multiplied effect of any change in autonomous spending on Y. The multiplier comes from the positive feedback channel by which lower national income Y induces lower consumption spending C. The multiplier effect is partially damped because some of the negative impact on consumption spending \"leaks\" abroad in the form of lower imports.\n",
    "\n",
    "----\n",
    "\n",
    "&nbsp;"
   ]
  },
  {
   "cell_type": "markdown",
   "metadata": {},
   "source": [
    "### (Task C) The Phillips Curve and Adaptive Expectations (Initial)\n",
    "\n",
    "Now let us switch gears. The IS Curve framework determines the level of real national income and product Y as a function of the economic environment and of economic policy—fiscal policy as measured by the tax rate t and the level of government purchases G, and monetary policy as measured by the (imperfectly controlled) long-term real risky interest rate r.\n",
    "\n",
    "Now let us move on to Okun's Law: Whether output Y is above or below potential output Y<sup>*</sup> determines whether unemployment u is above or below the NAIRU or \"natural\" rate of unemployment u<sup>*</sup> with an Okun's Law coefficient of about 2: a one percentage point deviation of unemployment from its NAIRU accompanies a 2 percent deviation of output from potential in the opposite direction:\n",
    "\n",
    "&nbsp;&nbsp;&nbsp;&nbsp;&nbsp;&nbsp;&nbsp;&nbsp;&nbsp;\n",
    "$ \\frac{{Y_t}^* - {Y_t}}{{Y_t}^*} = 2(u_t - {u_t}^*) $\n",
    "\n",
    "Now let us move on to the Phillips Curve: Whether unemployment is above or below its NAIRU then determines (with enormous amounts of noise and disturbances) whether infation will come in below or above the economy's expectations of what inflation will be.\n",
    "\n",
    "Algebraically, Phillips curve tells us that inflation $ \\pi $ in year t is:\n",
    "\n",
    "&nbsp;&nbsp;&nbsp;&nbsp;&nbsp;&nbsp;&nbsp;&nbsp;&nbsp;\n",
    "$ {\\pi}_t = {{\\pi}_t}^e - {\\beta}(u_t - {u_t}^*) + SS_t $\n",
    "\n",
    "where $ {\\pi}_t $ is the inflation rate, $ {{\\pi}_t}^e $ is expected inflation, $ {\\beta} $ is the \"slope\" of the Phillips Curve, $ u_t $ is the unemployment rate, $ {u_t}^* $ is the NAIRU, or the \"natural\" rate of unemployment, and $ SS_t $ is a upply shock term.\n",
    "\n",
    "Expected inflation can take on many different forms, where we write $ E_{t-1}(X_t) $ to stand for the average _expectation_ in the economy of what an economic price or quantity X will be at time t:\n",
    "\n",
    "* Static: $ {{\\pi}_t}^e = {\\pi}^* $\n",
    "* Adaptive: $ {{\\pi}_t}^e = {\\pi}_{t-1} $\n",
    "* Rational: $ {{\\pi}_t}^e = E_{t-1}\\left({\\pi}_t\\right) $\n",
    "* Hybrid—a mixture of static and adaptive: $ {{\\pi}_t}^e = {\\lambda}{\\pi}_{t-1} + (1-\\lambda){\\pi}^* $\n",
    "* Hybrid—a mixture of adaptive and rational: $ {{\\pi}_t}^e = {\\lambda}E_{t-1}\\left({\\pi}_t\\right) + (1-\\lambda){\\pi}_{t-1} $\n",
    "\n",
    "Suppose inflation in year 0 is 12% per year—0.10. Suppose the parameters of the Phillips Curve are:\n",
    "\n",
    "&nbsp;&nbsp;&nbsp;&nbsp;&nbsp;&nbsp;&nbsp;&nbsp;&nbsp;\n",
    "$ u^* = 0.06 $   \n",
    "&nbsp;&nbsp;&nbsp;&nbsp;&nbsp;&nbsp;&nbsp;&nbsp;&nbsp;\n",
    "$ \\beta = \\frac{1}{3} $   \n",
    "\n",
    "And suppose that there are no supply shocks.\n",
    "\n",
    "Suppose further that inflation expectations are adaptive, with:\n",
    "\n",
    "&nbsp;&nbsp;&nbsp;&nbsp;&nbsp;&nbsp;&nbsp;&nbsp;&nbsp;\n",
    "$ {\\pi}^* = 0.02 $\n",
    "\n",
    "And suppose that the Federal Reserve, via contractionary monetary policy, raises the unemployment rate to 9%—0.09—in year 1 and keeps it there in years 2 through 10.\n",
    "\n",
    "In the code cell below, calculate the values of inflation in years 1 through 10 and set the variables:\n",
    "\n",
    "    pi_year1_PS12taskC\n",
    "    pi_year2_PS12taskC\n",
    "    pi_year3_PS12taskC\n",
    "    pi_year4_PS12taskC\n",
    "    pi_year5_PS12taskC\n",
    "    pi_year6_PS12taskC\n",
    "    pi_year7_PS12taskC\n",
    "    pi_year8_PS12taskC\n",
    "    pi_year9_PS12taskC\n",
    "    pi_year10_PS12taskC\n",
    "    \n",
    "to the appropriate calculated values:"
   ]
  },
  {
   "cell_type": "code",
   "execution_count": 17,
   "metadata": {},
   "outputs": [],
   "source": [
    "# CODE CELL FOR TASK C INITIAL\n",
    "\n",
    "# pi_zero = 0.12 \n",
    "\n",
    "# ...\n",
    "# ...\n",
    "# ...\n",
    "# ...\n",
    "\n",
    "# pi_year1_PS12taskC =\n",
    "# pi_year2_PS12taskC =\n",
    "# pi_year3_PS12taskC =\n",
    "# pi_year4_PS12taskC =\n",
    "# pi_year5_PS12taskC =\n",
    "# pi_year6_PS12taskC =\n",
    "# pi_year7_PS12taskC = \n",
    "# pi_year8_PS12taskC =\n",
    "# pi_year9_PS12taskC =\n",
    "# pi_year10_PS12taskC = "
   ]
  },
  {
   "cell_type": "markdown",
   "metadata": {},
   "source": [
    "### Answer Markdown Cell for Task C Initial\n",
    "\n",
    "&nbsp;&nbsp;&nbsp;&nbsp;&nbsp;&nbsp;&nbsp;&nbsp;&nbsp;\n",
    "$ {\\pi}_t = {{\\pi}_t}^e - {\\beta}(u_t - {u_t}^*) + SS_t $\n",
    "\n",
    "&nbsp;&nbsp;&nbsp;&nbsp;&nbsp;&nbsp;&nbsp;&nbsp;&nbsp;\n",
    "$ {{\\pi}_t}^e = {\\pi}_{t-1} $\n",
    "\n",
    "&nbsp;&nbsp;&nbsp;&nbsp;&nbsp;&nbsp;&nbsp;&nbsp;&nbsp;\n",
    "$ \\pi_0 = 0.12 $\n",
    "\n",
    "&nbsp;&nbsp;&nbsp;&nbsp;&nbsp;&nbsp;&nbsp;&nbsp;&nbsp;\n",
    "$ u^* = 0.06 $\n",
    "\n",
    "&nbsp;&nbsp;&nbsp;&nbsp;&nbsp;&nbsp;&nbsp;&nbsp;&nbsp;\n",
    "$ \\beta = \\frac{1}{3} $\n",
    "\n",
    "&nbsp;&nbsp;&nbsp;&nbsp;&nbsp;&nbsp;&nbsp;&nbsp;&nbsp;\n",
    "$ {\\pi}_t = {\\pi}_{t-1} - {\\beta}(u_t - {u_t}^*) $\n",
    "\n",
    "&nbsp;&nbsp;&nbsp;&nbsp;&nbsp;&nbsp;&nbsp;&nbsp;&nbsp;\n",
    "$ {\\pi}_t = {\\pi}_{t-1} - {\\beta}(u_t - {u_t}^*) = {\\pi}_{t-1} - \\left(\\frac{1}{3}\\right)(0.09 - 0.06) = {\\pi}_{t-1} - \\left(\\frac{1}{3}\\right)(0.03) = {\\pi}_{t-1} - 0.01 $"
   ]
  },
  {
   "cell_type": "code",
   "execution_count": 18,
   "metadata": {},
   "outputs": [],
   "source": [
    "# ANSWER CODE CELL FOR TASK C INITIAL\n",
    "\n",
    "pi_zero = 0.12 \n",
    "\n",
    "pi_year1_PS12taskC = 0.11\n",
    "pi_year2_PS12taskC = 0.10\n",
    "pi_year3_PS12taskC = 0.09\n",
    "pi_year4_PS12taskC = 0.08\n",
    "pi_year5_PS12taskC = 0.07\n",
    "pi_year6_PS12taskC = 0.06\n",
    "pi_year7_PS12taskC = 0.05\n",
    "pi_year8_PS12taskC = 0.04\n",
    "pi_year9_PS12taskC = 0.03\n",
    "pi_year10_PS12taskC = 0.02"
   ]
  },
  {
   "cell_type": "code",
   "execution_count": 19,
   "metadata": {},
   "outputs": [
    {
     "name": "stdout",
     "output_type": "stream",
     "text": [
      "~~~~~~~~~~~~~~~~~~~~~~~~~~~~~~~~~~~~~~~~~~~~~~~~~~~~~~~~~~~~~~~~~~~~~\n",
      "Running tests\n",
      "\n",
      "---------------------------------------------------------------------\n",
      "Test summary\n",
      "    Passed: 10\n",
      "    Failed: 0\n",
      "[ooooooooook] 100.0% passed\n",
      "\n"
     ]
    },
    {
     "data": {
      "text/plain": [
       "{'failed': 0, 'locked': 0, 'passed': 10}"
      ]
     },
     "execution_count": 19,
     "metadata": {},
     "output_type": "execute_result"
    }
   ],
   "source": [
    "# TASK C ANSWER CHECK\n",
    "\n",
    "import numpy as np\n",
    "ok.grade('q02')"
   ]
  },
  {
   "cell_type": "markdown",
   "metadata": {},
   "source": [
    "### (Task C)  The Phillips Curve and Adaptive Expectations (Conclusion)\n",
    "\n",
    "If everything went well, you should have found that inflation is always 3%. And over the decade the economy gains enormous dividends in terms of extra production and extra jobs. And then—as long as expectations remain static—the central bank could return the unemployment rate to 6% in year 11, and inflation would drop down to 2%, with no permanent harm done.\n",
    "\n",
    "Of course, that is not the way we think that it works. That is not how the experience of the 1970s leads us to think that it would work.\n",
    "\n",
    "----\n",
    "\n",
    "&nbsp;"
   ]
  },
  {
   "cell_type": "markdown",
   "metadata": {},
   "source": [
    "### (Task D) The Phillips Curve and Hybrid Expectations (Initial)\n",
    "\n",
    "Take the Phillips Curve in year t:\n",
    "\n",
    "&nbsp;&nbsp;&nbsp;&nbsp;&nbsp;&nbsp;&nbsp;&nbsp;&nbsp;\n",
    "$ {\\pi}_t = {{\\pi}_t}^e - {\\beta}(u_t - {u_t}^*) + SS_t $\n",
    "\n",
    "where $ {\\pi}_t $ is the inflation rate, $ {{\\pi}_t}^e $ is expected inflation, $ {\\beta} $ is the \"slope\" of the Phillips Curve, $ u_t $ is the unemployment rate, $ {u_t}^* $ is the NAIRU, or the \"natural\" rate of unemployment, and $ SS_t $ is a supply shock term.\n",
    "\n",
    "And assume expected inflation is somewhat rational and somewhat adaptive. That is, for some parameter $ \\lambda $:\n",
    "\n",
    "&nbsp;&nbsp;&nbsp;&nbsp;&nbsp;&nbsp;&nbsp;&nbsp;&nbsp;\n",
    "$ {{\\pi}_t}^e = \\lambda\\pi_t + (1 - \\lambda){\\pi}_{t-1} $\n",
    "\n",
    "Suppose inflation in year 0 is -2% per year: -0.02. Suppose the parameters of the Phillips Curve are:\n",
    "\n",
    "&nbsp;&nbsp;&nbsp;&nbsp;&nbsp;&nbsp;&nbsp;&nbsp;&nbsp;\n",
    "$ u^* = 0.06 $   \n",
    "&nbsp;&nbsp;&nbsp;&nbsp;&nbsp;&nbsp;&nbsp;&nbsp;&nbsp;\n",
    "$ \\beta = \\frac{1}{2} $   \n",
    "\n",
    "And suppose that there are no supply shocks.\n",
    "\n",
    "Suppose that in year zero—when expectations for $ {\\pi_1}^e $, expectations for what inflation will be in year one, are set—the Federal Reserve announces that it will, via expansionary monetary policy, drops the unemployment rate to 4%—0.04—in year 1 and keeps it there in years 2 through 10.\n",
    "\n",
    "Suppose further that $ \\lambda = 0.75 $.\n",
    "\n",
    "In the code cell below, calculate the values of inflation in years 1 through 10 and set the variables:\n",
    "\n",
    "    pi_year1_PS12taskD\n",
    "    pi_year2_PS12taskD\n",
    "    pi_year3_PS12taskD\n",
    "    pi_year4_PS12taskD\n",
    "    pi_year5_PS12taskD\n",
    "    pi_year6_PS12taskD\n",
    "    pi_year7_PS12taskD\n",
    "    pi_year8_PS12taskD\n",
    "    pi_year9_PS12taskD\n",
    "    pi_year10_PS12taskD\n",
    "    \n",
    "to the appropriate calculated values:"
   ]
  },
  {
   "cell_type": "code",
   "execution_count": 20,
   "metadata": {},
   "outputs": [],
   "source": [
    "# CODE CELL FOR TASK D INITIAL\n",
    "\n",
    "# pi_0 = -0.02\n",
    "#  \n",
    "\n",
    "# ...\n",
    "# ...\n",
    "# ...\n",
    "# ...\n",
    "\n",
    "# pi_year1_PS12taskD =\n",
    "# pi_year2_PS12taskD =\n",
    "# pi_year3_PS12taskD =\n",
    "# pi_year4_PS12taskD =\n",
    "# pi_year5_PS12taskD =\n",
    "# pi_year6_PS12taskD =\n",
    "# pi_year7_PS12taskD =\n",
    "# pi_year8_PS12taskD =\n",
    "# pi_year9_PS12taskD =\n",
    "# pi_year10_PS12taskD = "
   ]
  },
  {
   "cell_type": "markdown",
   "metadata": {},
   "source": [
    "### Markdown Answer Cell for Task D Initial\n",
    "\n",
    "&nbsp;&nbsp;&nbsp;&nbsp;&nbsp;&nbsp;&nbsp;&nbsp;&nbsp;\n",
    "$ {\\pi}_t = {{\\pi}_t}^e - {\\beta}(u_t - {u_t}^*) + SS_t $\n",
    "\n",
    "&nbsp;&nbsp;&nbsp;&nbsp;&nbsp;&nbsp;&nbsp;&nbsp;&nbsp;\n",
    "$ {{\\pi}_t}^e = {\\lambda}{\\pi}_{t-1} + (1-{\\lambda}){\\pi}_{t} $\n",
    "\n",
    "&nbsp;&nbsp;&nbsp;&nbsp;&nbsp;&nbsp;&nbsp;&nbsp;&nbsp;\n",
    "$ \\pi_0 = 0.12 $\n",
    "\n",
    "&nbsp;&nbsp;&nbsp;&nbsp;&nbsp;&nbsp;&nbsp;&nbsp;&nbsp;\n",
    "$ u^* = 0.06 $\n",
    "\n",
    "&nbsp;&nbsp;&nbsp;&nbsp;&nbsp;&nbsp;&nbsp;&nbsp;&nbsp;\n",
    "$ \\lambda = 0.75 $\n",
    "\n",
    "&nbsp;&nbsp;&nbsp;&nbsp;&nbsp;&nbsp;&nbsp;&nbsp;&nbsp;\n",
    "$ \\beta = \\frac{1}{2} $\n",
    "\n",
    "&nbsp;&nbsp;&nbsp;&nbsp;&nbsp;&nbsp;&nbsp;&nbsp;&nbsp;\n",
    "$ {\\pi}_t = (1-\\lambda){\\pi}_{t-1} + {\\lambda}{\\pi}_{t} - {\\beta}(u_t - {u_t}^*) $\n",
    "\n",
    "&nbsp;&nbsp;&nbsp;&nbsp;&nbsp;&nbsp;&nbsp;&nbsp;&nbsp;\n",
    "$ (1-\\lambda){\\pi}_t =(1-\\lambda){\\pi}_{t-1}- {\\beta}(u_t - {u_t}^*) $\n",
    "\n",
    "&nbsp;&nbsp;&nbsp;&nbsp;&nbsp;&nbsp;&nbsp;&nbsp;&nbsp;\n",
    "$ {\\pi}_t = {\\pi}_{t-1}- \\frac{{\\beta}(u_t - {u_t}^*)}{(1-\\lambda)} $\n",
    "\n",
    "&nbsp;&nbsp;&nbsp;&nbsp;&nbsp;&nbsp;&nbsp;&nbsp;&nbsp;\n",
    "$ {\\pi}_t = {\\pi}_{t-1} - {\\beta}(u_t - {u_t}^*) = {\\pi}_{t-1} - \\left(\\frac{1}{2}\\right)(0.04 - 0.06){(1-0.75)} = {\\pi}_{t-1} - \\left(\\frac{1}{2}\\right)(0.02)(4) = {\\pi}_{t-1} + 0.04 $"
   ]
  },
  {
   "cell_type": "code",
   "execution_count": 21,
   "metadata": {},
   "outputs": [
    {
     "data": {
      "text/plain": [
       "0.019999999999999993"
      ]
     },
     "execution_count": 21,
     "metadata": {},
     "output_type": "execute_result"
    }
   ],
   "source": [
    "# CODE ANSWER CELL FOR TASK D INITIAL\n",
    "\n",
    "pi_0 = -0.02 \n",
    "u_star = 0.06\n",
    "u_policy = 0.04\n",
    "beta = 1/2\n",
    "lambda_ =3/4\n",
    "\n",
    "pi = [pi_0]\n",
    "\n",
    "for t in range(1,11):\n",
    "    pi = pi + [pi[t-1]-beta*(u_policy-u_star)/(1-lambda_)]\n",
    "\n",
    "pi_year1_PS12taskD = pi[1]\n",
    "pi_year2_PS12taskD = pi[2]\n",
    "pi_year3_PS12taskD = pi[3]\n",
    "pi_year4_PS12taskD = pi[4]\n",
    "pi_year5_PS12taskD = pi[5]\n",
    "pi_year6_PS12taskD = pi[6]\n",
    "pi_year7_PS12taskD = pi[7]\n",
    "pi_year8_PS12taskD = pi[8]\n",
    "pi_year9_PS12taskD = pi[9]\n",
    "pi_year10_PS12taskD = pi[10] \n",
    "\n",
    "pi_year1_PS12taskD"
   ]
  },
  {
   "cell_type": "code",
   "execution_count": 22,
   "metadata": {},
   "outputs": [
    {
     "name": "stdout",
     "output_type": "stream",
     "text": [
      "~~~~~~~~~~~~~~~~~~~~~~~~~~~~~~~~~~~~~~~~~~~~~~~~~~~~~~~~~~~~~~~~~~~~~\n",
      "Running tests\n",
      "\n",
      "---------------------------------------------------------------------\n",
      "Test summary\n",
      "    Passed: 10\n",
      "    Failed: 0\n",
      "[ooooooooook] 100.0% passed\n",
      "\n"
     ]
    },
    {
     "data": {
      "text/plain": [
       "{'failed': 0, 'locked': 0, 'passed': 10}"
      ]
     },
     "execution_count": 22,
     "metadata": {},
     "output_type": "execute_result"
    }
   ],
   "source": [
    "# TASK D ANSWER CHECK\n",
    "\n",
    "import numpy as np\n",
    "ok.grade('q03')"
   ]
  },
  {
   "cell_type": "markdown",
   "metadata": {},
   "source": [
    "### (Task D): The Phillips Curve and Hybrid Expectations (Final)\n",
    "\n",
    "If everything worked out well, you would have found that each year inflation jumps not by:\n",
    "\n",
    "&nbsp;&nbsp;&nbsp;&nbsp;&nbsp;&nbsp;&nbsp;&nbsp;&nbsp;\n",
    "$ - \\beta (u - u^*) = -\\left(\\frac{1}{2}\\right)(0.04 - 0.06) = 0.01 $ \n",
    "\n",
    "but rather by:\n",
    "\n",
    "&nbsp;&nbsp;&nbsp;&nbsp;&nbsp;&nbsp;&nbsp;&nbsp;&nbsp;\n",
    "$ - \\frac{\\beta (u - u^*)}{1 - \\lambda} = \\frac{-\\left(\\frac{1}{2}\\right)(0.04 - 0.06) = 0.01}{1-0.75} = +0.04 $\n",
    "\n",
    "Why? Because three-quarters of inflation expectations are formed not in a backward but a forward looking manner: people take account of the fact that inflation is rising in forming their expectations, and then take account of the fact that people are taking account of the fact that inflation is rising, and then take account of the fact that people are taking account of the fact that people are taking account of the fact that inflation is rising, and so forth...\n",
    "\n",
    "It was the worry about this dynamic that led Paul Volcker back in the day, back at the end of the 1970s and beginning of the 1980s, to make controlling inflation job #1 at whatever cost in terms of a deep recession it generated. Dealing with inflation and unemployment when inflation was adaptive—when every upward kick in inflation from a supply shock get permanently incorporated into next year's inflation rate—was annoying. But should inflation expectations become substantially \"rational\" than the situation would become even less controllable.\n",
    "\n",
    "----\n",
    "\n",
    "&nbsp;"
   ]
  },
  {
   "cell_type": "markdown",
   "metadata": {},
   "source": [
    "### Monetary Policy Reactions Setup\n",
    "\n",
    "Now let's switch gears again. Recall our Phillips Curve:\n",
    "\n",
    "&nbsp;&nbsp;&nbsp;&nbsp;&nbsp;&nbsp;&nbsp;&nbsp;&nbsp;\n",
    "$ {\\pi}_t = {{\\pi}_t}^e - {\\beta}(u_t - {u_t}^*) + SS_t $\n",
    "\n",
    "where $ {\\pi}_t $ is the inflation rate, $ {{\\pi}_t}^e $ is expected inflation, $ {\\beta} $ is the \"slope\" of the Phillips Curve, $ u_t $ is the unemployment rate, $ {u_t}^* $ is the NAIRU, or the \"natural\" rate of unemployment, and $ SS_t $ is a upply shock term.\n",
    "\n",
    "Expected inflation can take on many different forms, where we write $ E_{t-1}(X_t) $ to stand for the average _expectation_ in the economy of what an economic price or quantity X will be at time t:\n",
    "\n",
    "* Static: $ {{\\pi}_t}^e = {\\pi}^* $\n",
    "* Adaptive: $ {{\\pi}_t}^e = {\\pi}_{t-1} $\n",
    "* Rational: $ {{\\pi}_t}^e = E_{t-1}\\left({\\pi}_t\\right) $\n",
    "* Hybrid—a mixture of static and adaptive: $ {{\\pi}_t}^e = {\\lambda}{\\pi}_{t-1} + (1-\\lambda){\\pi}^* $\n",
    "* Hybrid—a mixture of adaptive and rational: $ {{\\pi}_t}^e = {\\lambda}E_{t-1}\\left({\\pi}_t\\right) + (1-\\lambda){\\pi}_{t-1} $\n",
    "\n",
    "Now we add to our Phillips Curve a Monetary Policy Reaction Function. First, the central bank will (attempt to) set the real risky long-term interest rate r to \"lean against the wind\" given its target for inflation and its estimate of what the NAIRU is:\n",
    "\n",
    "&nbsp;&nbsp;&nbsp;&nbsp;&nbsp;&nbsp;&nbsp;&nbsp;&nbsp;\n",
    "$ r_t = r^{**} + r_\\pi(\\pi_t - \\pi^T) - r_u(u_t - u^{**}) $\n",
    "\n",
    "where:\n",
    "\n",
    "* $ r_t $ is the real risky long-term interest rate\n",
    "* $ r^{**} $ is the central bank's belief about what the \"neutral\" interest rate $ r^* $ is, at which unemployment will be equal to the natural rate and production equal to potential output\n",
    "* $ r_\\pi $ is how much the central bank reacts via raising interest rates to a deviation of inflation from the central bank's target\n",
    "* $ \\pi^T $ is the central bank's inflation target\n",
    "* $ r_u $ is how much the central bank reacts by raising interest rates to a downward deviation of unemployment from its belief about the natural rate\n",
    "* $ u^{**} $ is the central bank's belief about the natural rate\n",
    "\n",
    "Note that the central bank's belief about the natural rate $ u^{**} $ may be different from the true NAIRU or natural rate $ u^* $\n",
    "\n",
    "Note that a level of $ r $ above or below the true \"neutral\" interest rate $ r^* $ leads to a depression or boom via the IS Curve mechanism:\n",
    "\n",
    "&nbsp;&nbsp;&nbsp;&nbsp;&nbsp;&nbsp;&nbsp;&nbsp;&nbsp;\n",
    "$ Y - Y^{*} = -\\mu\\left(I_r + x_{\\epsilon}{\\epsilon}_r\\right)(r - r^*) $\n",
    "\n",
    "And from Okun's Law:\n",
    "\n",
    "&nbsp;&nbsp;&nbsp;&nbsp;&nbsp;&nbsp;&nbsp;&nbsp;&nbsp;\n",
    "$ \\frac{Y - Y^{*}}{Y*} = - 2(u - u^*) $\n",
    "\n",
    "&nbsp;&nbsp;&nbsp;&nbsp;&nbsp;&nbsp;&nbsp;&nbsp;&nbsp;\n",
    "$ u - u{*} = \\left(\\frac{\\mu\\left(I_r + x_{\\epsilon}{\\epsilon}_r\\right)}{2}\\right) (r - r^*) $\n",
    "\n",
    "Let's call this responsiveness of unemployment $ u $ to the long-term risky real interest rate $ r $ by the Greek letter $ \\phi $ (phi):\n",
    "\n",
    "&nbsp;&nbsp;&nbsp;&nbsp;&nbsp;&nbsp;&nbsp;&nbsp;&nbsp;\n",
    "$ \\phi = \\frac{\\mu\\left(I_r + x_{\\epsilon}{\\epsilon}_r\\right)}{2} $\n",
    "\n",
    "&nbsp;&nbsp;&nbsp;&nbsp;&nbsp;&nbsp;&nbsp;&nbsp;&nbsp;\n",
    "$ u - u^{*} = {\\phi}(r - r^*) $\n",
    "\n",
    "Combine the responsiveness of unemployment to the interest rate with the central bank's monetary policy rule to get the reaction function:\n",
    "\n",
    "&nbsp;&nbsp;&nbsp;&nbsp;&nbsp;&nbsp;&nbsp;&nbsp;&nbsp;\n",
    "$ u - u^{*} = {\\phi}(r^{**} + r_\\pi(\\pi - \\pi^T) - r_u(u - u^{**}) - r^*) $\n",
    "\n",
    "&nbsp;&nbsp;&nbsp;&nbsp;&nbsp;&nbsp;&nbsp;&nbsp;&nbsp;\n",
    "$ u - u^{*} = {\\phi}r_\\pi(\\pi - \\pi^T) - {\\phi}r_u(u - u^{**}) + {\\phi}(r^{**}-r^*) $\n",
    "\n",
    "Since it takes time for shifts in the interest rate to affect the economy, add on time subscripts to reflect the fact that the unemployment outcome this year is on the right hand side while the variables on the left hand side are their values last year when the central bank was making its decisions:\n",
    "\n",
    "&nbsp;&nbsp;&nbsp;&nbsp;&nbsp;&nbsp;&nbsp;&nbsp;&nbsp;\n",
    "$ u_t - u^{*} = {\\phi}r_\\pi(\\pi_{t-1} - \\pi^T) - {\\phi}r_u(u_{t-1} - u^{**}) + {\\phi}(r^{**}-r^*) $\n",
    "\n",
    "Add on our Phillips Curvean equation for how expectations of inflation $ {{\\pi}_t}^e $ are determined, and we have a system whose behavior can be investigated."
   ]
  },
  {
   "cell_type": "markdown",
   "metadata": {},
   "source": [
    "### (Task E): Monetary Policy Reactions Under Static Expectations Initialization\n",
    "\n",
    "Our system is:\n",
    "\n",
    "&nbsp;&nbsp;&nbsp;&nbsp;&nbsp;&nbsp;&nbsp;&nbsp;&nbsp;\n",
    "$ u_t - u^{*} = {\\phi}r_\\pi(\\pi_{t-1} - \\pi^T) - {\\phi}r_u(u_{t-1} - u^{**}) + {\\phi}(r^{**}-r^*) $ (Monetary Policy Reaction Function)\n",
    "\n",
    "&nbsp;&nbsp;&nbsp;&nbsp;&nbsp;&nbsp;&nbsp;&nbsp;&nbsp;\n",
    "$ {\\pi}_t = {{\\pi}_t}^e - {\\beta}(u_t - u^{*}) $ (Phillips Curve)\n",
    "\n",
    "&nbsp;&nbsp;&nbsp;&nbsp;&nbsp;&nbsp;&nbsp;&nbsp;&nbsp;\n",
    "$ {{\\pi}_t}^e = {\\pi}^* $ (Static Inflation Expectations)\n",
    "\n",
    "Let's start out with some parameter values and initial conditions:\n",
    "\n",
    "The \"Task E Initialization\" code cell immediately below sets out a simple model that tracks this system, starting from initial conditions in year zero, through year 10. The \"Task E Initialization\" code cell has initial conditions:\n",
    "\n",
    "* $ u_0 = 0.06 $ (u_0)\n",
    "* $ {pi^e}_0 = 0.02 $ (pie_0)\n",
    "* $ pi_0 = 0.02 (pi_0)\n",
    "\n",
    "Run the initialization cell. In the code cell \"Task E Initialization Check\" further below, stuff the three time-series variables of the unemployment rate $ u $ (u), the expected inflation rate $ \\pi^e $ (pie), and the inflation rate $ \\pi $ into a dataframe. Plot the dataframe to make sure that the unemployment rate variable is constant at a value of 0.06 and that both expected and realized inflation are constant at a value of 0.02."
   ]
  },
  {
   "cell_type": "code",
   "execution_count": 23,
   "metadata": {},
   "outputs": [],
   "source": [
    "# TASK E INITIALIZATION\n",
    "\n",
    "u_star = 0.06\n",
    "phi = 1\n",
    "pi_T = 0.02\n",
    "r_star = 0.05\n",
    "beta = 1/2\n",
    "pi_star = 0.02\n",
    "r_pi = 0.5\n",
    "r_u = 0.25\n",
    "\n",
    "u_star2 = 0.06\n",
    "r_star2 = 0.05\n",
    "\n",
    "\n",
    "# Initial conditions\n",
    "\n",
    "u_0 = 0.06\n",
    "pie_0 = 0.02\n",
    "pi_0 = 0.02\n",
    "\n",
    "\n",
    "# Run the model\n",
    "\n",
    "u = [u_0]\n",
    "pie = [pie_0]\n",
    "pi = [pi_0]\n",
    "\n",
    "for t in range(1,11):\n",
    "    u = u + [(u_star + phi*r_pi*(pi[t-1]- pi_T) - phi*r_u*((u[t-1] - u_star2))\n",
    "              + phi*(r_star2-r_star))]\n",
    "    pie = pie + [pi_star]\n",
    "    pi = pi + [pie[t] - beta*(u[t]-u_star)]\n",
    "             "
   ]
  },
  {
   "cell_type": "code",
   "execution_count": 24,
   "metadata": {},
   "outputs": [],
   "source": [
    "# TASK E INITIALIZATION CHECK"
   ]
  },
  {
   "cell_type": "code",
   "execution_count": 25,
   "metadata": {},
   "outputs": [
    {
     "data": {
      "text/plain": [
       "<matplotlib.axes._subplots.AxesSubplot at 0x11573add8>"
      ]
     },
     "execution_count": 25,
     "metadata": {},
     "output_type": "execute_result"
    },
    {
     "data": {
      "image/png": "[encoded data removed]",
      "text/plain": [
       "<matplotlib.figure.Figure at 0x11573a438>"
      ]
     },
     "metadata": {},
     "output_type": "display_data"
    }
   ],
   "source": [
    "# TASK E INITIALIZATION CHECK ANSWER\n",
    "\n",
    "static_df = pd.DataFrame({'u' : u,\n",
    "                          'pi_e' : pie,\n",
    "                          'pi' : pi},\n",
    "                         columns = ['u', 'pi_e', 'pi'])\n",
    "\n",
    "static_df.plot(ylim=(0, 0.1))"
   ]
  },
  {
   "cell_type": "markdown",
   "metadata": {},
   "source": [
    "### (Task E): Monetary Policy Reactions Under Static Expectations (Initial)\n",
    "\n",
    "In the code cell below, run the static expectations model for the initial conditions:\n",
    "\n",
    "* $ u_0 = 0.06 $ (u_0)\n",
    "* $ {pi^e}_0 = 0.02 $ (pie_0)\n",
    "* $ pi_0 = 0.06 (pi_0)\n",
    "\n",
    "I.e., an initial inflation rate in year zero of not 2% per year but rather 6% per year. Stuff the generated inflation rate for the years from zero through year 10 into the series variable static_df.pi"
   ]
  },
  {
   "cell_type": "code",
   "execution_count": 26,
   "metadata": {},
   "outputs": [
    {
     "name": "stdout",
     "output_type": "stream",
     "text": [
      "       u  pi_e    pi\n",
      "0   0.06  0.02  0.02\n",
      "1   0.06  0.02  0.02\n",
      "2   0.06  0.02  0.02\n",
      "3   0.06  0.02  0.02\n",
      "4   0.06  0.02  0.02\n",
      "5   0.06  0.02  0.02\n",
      "6   0.06  0.02  0.02\n",
      "7   0.06  0.02  0.02\n",
      "8   0.06  0.02  0.02\n",
      "9   0.06  0.02  0.02\n",
      "10  0.06  0.02  0.02\n"
     ]
    },
    {
     "data": {
      "image/png": "[encoded data removed]",
      "text/plain": [
       "<matplotlib.figure.Figure at 0x11573a390>"
      ]
     },
     "metadata": {},
     "output_type": "display_data"
    }
   ],
   "source": [
    "# TASK E CODE\n",
    "\n",
    "# Initial conditions\n",
    "\n",
    "# u_0 = \n",
    "# pie_0 = \n",
    "# pi_0 = \n",
    "\n",
    "# Run the model\n",
    "\n",
    "u = [u_0]\n",
    "pie = [pie_0]\n",
    "pi = [pi_0]\n",
    "\n",
    "for t in range(1,11):\n",
    "    u = u + [(u_star + phi*r_pi*(pi[t-1]- pi_T) - phi*r_u*((u[t-1] - u_star2))\n",
    "              + phi*(r_star2-r_star))]\n",
    "    pie = pie + [pi_star]\n",
    "    pi = pi + [pie[t] - beta*(u[t]-u_star)]\n",
    "             \n",
    "static_df = pd.DataFrame({'u' : u,\n",
    "                          'pi_e' : pie,\n",
    "                          'pi' : pi},\n",
    "                         columns = ['u', 'pi_e', 'pi'])\n",
    "\n",
    "static_df.plot(ylim=(0., 0.1))\n",
    "print(static_df)"
   ]
  },
  {
   "cell_type": "code",
   "execution_count": 27,
   "metadata": {},
   "outputs": [
    {
     "name": "stdout",
     "output_type": "stream",
     "text": [
      "           u  pi_e        pi\n",
      "0   0.060000  0.02  0.060000\n",
      "1   0.080000  0.02  0.010000\n",
      "2   0.050000  0.02  0.025000\n",
      "3   0.065000  0.02  0.017500\n",
      "4   0.057500  0.02  0.021250\n",
      "5   0.061250  0.02  0.019375\n",
      "6   0.059375  0.02  0.020313\n",
      "7   0.060312  0.02  0.019844\n",
      "8   0.059844  0.02  0.020078\n",
      "9   0.060078  0.02  0.019961\n",
      "10  0.059961  0.02  0.020020\n"
     ]
    },
    {
     "data": {
      "image/png": "[encoded data removed]",
      "text/plain": [
       "<matplotlib.figure.Figure at 0x1157fc198>"
      ]
     },
     "metadata": {},
     "output_type": "display_data"
    }
   ],
   "source": [
    "# TASK E CODE ANSWER\n",
    "\n",
    "u_star = 0.06\n",
    "phi = 1\n",
    "pi_T = 0.02\n",
    "r_star = 0.05\n",
    "beta = 1/2\n",
    "pi_star = 0.02\n",
    "r_pi = 0.5\n",
    "r_u = 0.25\n",
    "\n",
    "u_star2 = 0.06\n",
    "r_star2 = 0.05\n",
    "\n",
    "\n",
    "# Initial conditions\n",
    "\n",
    "u_0 = 0.06\n",
    "pie_0 = 0.02\n",
    "pi_0 = 0.06\n",
    "\n",
    "\n",
    "# Run the model\n",
    "\n",
    "u = [u_0]\n",
    "pie = [pie_0]\n",
    "pi = [pi_0]\n",
    "\n",
    "for t in range(1,11):\n",
    "    u = u + [(u_star + phi*r_pi*(pi[t-1]- pi_T) - phi*r_u*((u[t-1] - u_star2))\n",
    "              + phi*(r_star2-r_star))]\n",
    "    pie = pie + [pi_star]\n",
    "    pi = pi + [pie[t] - beta*(u[t]-u_star)]\n",
    "             \n",
    "static_df = pd.DataFrame({'u' : u,\n",
    "                          'pi_e' : pie,\n",
    "                          'pi' : pi},\n",
    "                         columns = ['u', 'pi_e', 'pi'])\n",
    "\n",
    "static_df.plot(ylim=(0., 0.1))\n",
    "print(static_df)"
   ]
  },
  {
   "cell_type": "markdown",
   "metadata": {},
   "source": [
    "### (Task E): Monetary Policy Reactions Under Static Expectations (Final)\n",
    "\n",
    "We had the static expectations model with the initial conditions:\n",
    "\n",
    "* $ u_0 = 0.06 $ :: (u_0)\n",
    "* $ {\\pi^e}_0 = 0.02 $ :: (pie_0)\n",
    "* $ \\pi_0 = 0.06 $ :: (pi_0)\n",
    "\n",
    "I.e., an initial inflation rate in year zero of not 2% but 6% per year and an initial unemployment rate of 6% per year.\n",
    "\n",
    "If everything went well, you saw the central bank react to actual inflation at 6% per yar far above its target of 2% by raising interest rates to create excess aggregate supply and push down inflation. Thus year 1 saw inflation below the natural rate and unemployment above its target. The central bank then reacted to that by pushing real interest rates below the neutral rate. Thus year 2 saw inflation above the natural rate and unemployment below the target. These oscillating two year cycles then continued, dampling themselves out quickly."
   ]
  },
  {
   "cell_type": "code",
   "execution_count": 28,
   "metadata": {},
   "outputs": [
    {
     "name": "stdout",
     "output_type": "stream",
     "text": [
      "~~~~~~~~~~~~~~~~~~~~~~~~~~~~~~~~~~~~~~~~~~~~~~~~~~~~~~~~~~~~~~~~~~~~~\n",
      "Running tests\n",
      "\n",
      "---------------------------------------------------------------------\n",
      "Test summary\n",
      "    Passed: 10\n",
      "    Failed: 0\n",
      "[ooooooooook] 100.0% passed\n",
      "\n"
     ]
    },
    {
     "data": {
      "text/plain": [
       "{'failed': 0, 'locked': 0, 'passed': 10}"
      ]
     },
     "execution_count": 28,
     "metadata": {},
     "output_type": "execute_result"
    }
   ],
   "source": [
    "# TASK E ANSWER CHECK\n",
    "\n",
    "import numpy as np\n",
    "\n",
    "ok.grade('q04')"
   ]
  },
  {
   "cell_type": "markdown",
   "metadata": {},
   "source": [
    "### (Task F): Monetary Policy Reactions Under Adaptive Expectations (Initial)\n",
    "\n",
    "Now let's change gears to adaptive inflation expectations. Our system now is:\n",
    "\n",
    "&nbsp;&nbsp;&nbsp;&nbsp;&nbsp;&nbsp;&nbsp;&nbsp;&nbsp;\n",
    "$ u_t - u^{*} = {\\phi}r_\\pi(\\pi_{t-1} - \\pi^T) - {\\phi}r_u(u_{t-1} - u^{**}) + {\\phi}(r^{**}-r^*) $ (Monetary Policy Reaction Function)\n",
    "\n",
    "&nbsp;&nbsp;&nbsp;&nbsp;&nbsp;&nbsp;&nbsp;&nbsp;&nbsp;\n",
    "$ {\\pi}_t = {{\\pi}_t}^e - {\\beta}(u_t - u^{*}) $ (Phillips Curve)\n",
    "\n",
    "&nbsp;&nbsp;&nbsp;&nbsp;&nbsp;&nbsp;&nbsp;&nbsp;&nbsp;\n",
    "$ {{\\pi}_t}^e = {\\pi}_{t-1} $ (Adaptive Inflation Expectations)\n",
    "\n",
    "The code cell below models this system.\n",
    "\n",
    "In the code cell below, note that the model equation inside the loop for inflation expectations is now:\n",
    "\n",
    "    pie = pie + [pi[t-1]]\n",
    "    \n",
    "That is, each time through the loop the computer adds an additional element to the \"pie\" list that is the time series of inflation expedtations—the \"+\" sign here stands for not addition but, rather, concatenation. The t'th element it adds to the expectations list is simply what the t-1'st value of actual inflation was. Under static expectations, this equation for inflation expectations was the static:\n",
    "\n",
    "    pie = pie + [pi_star]\n",
    "    \n",
    "Each time through the loop the computer added an additional element to the \"pie\" list that is the time series of inflation expedtations. But the value it added was simply the static $ \\pi^* $.\n",
    "\n",
    "In the code cell below, set the initial conditions for unemployment, inflation, and expected inflation in year 0 to 0.06. Run the model. Then stuff the generated inflation rate for the years from zero through year 10 into the series variable adaptive_df.pi"
   ]
  },
  {
   "cell_type": "code",
   "execution_count": 29,
   "metadata": {},
   "outputs": [
    {
     "ename": "SyntaxError",
     "evalue": "invalid syntax (<ipython-input-29-da43c924668c>, line 5)",
     "output_type": "error",
     "traceback": [
      "\u001b[0;36m  File \u001b[0;32m\"<ipython-input-29-da43c924668c>\"\u001b[0;36m, line \u001b[0;32m5\u001b[0m\n\u001b[0;31m    u_0 =\u001b[0m\n\u001b[0m          ^\u001b[0m\n\u001b[0;31mSyntaxError\u001b[0m\u001b[0;31m:\u001b[0m invalid syntax\n"
     ]
    }
   ],
   "source": [
    "# TASK F CODE\n",
    "\n",
    "# Initial conditions\n",
    "\n",
    "u_0 = \n",
    "pie_0 = \n",
    "pi_0 = \n",
    "\n",
    "\n",
    "# Parameters\n",
    "\n",
    "u_star = 0.06\n",
    "phi = 1\n",
    "pi_T = 0.02\n",
    "r_star = 0.05\n",
    "beta = 1/2\n",
    "pi_star = 0.02\n",
    "r_pi = 0.5\n",
    "r_u = 0.25\n",
    "\n",
    "u_star2 = 0.06\n",
    "r_star2 = 0.05\n",
    "\n",
    "\n",
    "# Run the model\n",
    "\n",
    "u = [u_0]\n",
    "pie = [pie_0]\n",
    "pi = [pi_0]\n",
    "      \n",
    "for t in range(1,11):\n",
    "    u = u + [(u_star + phi*r_pi*(pi[t-1]- pi_T) - phi*r_u*((u[t-1] - u_star2))\n",
    "              + phi*(r_star2-r_star))]\n",
    "    pie = pie + [pi[t-1]]\n",
    "    pi = pi + [pie[t] - beta*(u[t]-u_star)]"
   ]
  },
  {
   "cell_type": "code",
   "execution_count": 30,
   "metadata": {},
   "outputs": [
    {
     "name": "stdout",
     "output_type": "stream",
     "text": [
      "           u      pi_e        pi\n",
      "0   0.060000  0.060000  0.060000\n",
      "1   0.080000  0.060000  0.050000\n",
      "2   0.070000  0.050000  0.045000\n",
      "3   0.070000  0.045000  0.040000\n",
      "4   0.067500  0.040000  0.036250\n",
      "5   0.066250  0.036250  0.033125\n",
      "6   0.065000  0.033125  0.030625\n",
      "7   0.064062  0.030625  0.028594\n",
      "8   0.063281  0.028594  0.026953\n",
      "9   0.062656  0.026953  0.025625\n",
      "10  0.062148  0.025625  0.024551\n"
     ]
    },
    {
     "data": {
      "image/png": "[encoded data removed]",
      "text/plain": [
       "<matplotlib.figure.Figure at 0x11584e5c0>"
      ]
     },
     "metadata": {},
     "output_type": "display_data"
    }
   ],
   "source": [
    "# TASK F CODE ANSWER\n",
    "\n",
    "u_star = 0.06\n",
    "phi = 1\n",
    "pi_T = 0.02\n",
    "r_star = 0.05\n",
    "beta = 1/2\n",
    "pi_star = 0.02\n",
    "r_pi = 0.5\n",
    "r_u = 0.25\n",
    "\n",
    "u_star2 = 0.06\n",
    "r_star2 = 0.05\n",
    "\n",
    "u = [0.06]\n",
    "pie = [0.06]\n",
    "pi = [0.06]\n",
    "\n",
    "for t in range(1,11):\n",
    "    u = u + [(u_star + phi*r_pi*(pi[t-1]- pi_T) - phi*r_u*((u[t-1] - u_star2))\n",
    "              + phi*(r_star2-r_star))]\n",
    "    pie = pie + [pi[t-1]]\n",
    "    pi = pi + [pie[t] - beta*(u[t]-u_star)]\n",
    "             \n",
    "adaptive_df = pd.DataFrame({'u' : u,\n",
    "                          'pi_e' : pie,\n",
    "                          'pi' : pi},\n",
    "                         columns = ['u', 'pi_e', 'pi'])\n",
    "\n",
    "adaptive_df.plot(ylim=(0., 0.1))\n",
    "print(adaptive_df)"
   ]
  },
  {
   "cell_type": "code",
   "execution_count": 31,
   "metadata": {
    "scrolled": true
   },
   "outputs": [
    {
     "name": "stdout",
     "output_type": "stream",
     "text": [
      "~~~~~~~~~~~~~~~~~~~~~~~~~~~~~~~~~~~~~~~~~~~~~~~~~~~~~~~~~~~~~~~~~~~~~\n",
      "Running tests\n",
      "\n",
      "---------------------------------------------------------------------\n",
      "Test summary\n",
      "    Passed: 10\n",
      "    Failed: 0\n",
      "[ooooooooook] 100.0% passed\n",
      "\n"
     ]
    },
    {
     "data": {
      "text/plain": [
       "{'failed': 0, 'locked': 0, 'passed': 10}"
      ]
     },
     "execution_count": 31,
     "metadata": {},
     "output_type": "execute_result"
    }
   ],
   "source": [
    "# TASK F ANSWER CHECK\n",
    "\n",
    "import numpy as np\n",
    "ok.grade('q05')"
   ]
  },
  {
   "cell_type": "markdown",
   "metadata": {},
   "source": [
    "### (Task F): Monetary Policy Reactions Under Adaptive Expectations (Final)\n",
    "\n",
    "We had the adaptive expectations model with the initial conditions:\n",
    "\n",
    "* $ u_0 = 0.06 $ :: (u_0)\n",
    "* $ {\\pi^e}_0 = 0.06 $ :: (pie_0)\n",
    "* $ \\pi_0 = 0.06 $ :: (pi_0)\n",
    "\n",
    "I.e., an initial inflation rate in year zero of 6% per year and an initial unemployment rate of 2% per year.\n",
    "\n",
    "If everything went well, you saw the central bank react to actual inflation at 6% per yar far above its target of 2% by raising interest rates to create excess aggregate supply and push down inflation. Because inflation expectations were adaptive, expected inflation fell only gradually, lagging behind the fall in actual inflation. Thus there was a long time period during which interest rates are elevated, unemployment is above its natural rate, and inflation is above its target—albeit falling.\n",
    "\n",
    "The fear of getting into such a situation, of higher inflation than the desired target and high unemployment, was one of the principal reasons that central banks have been hesitant to try to drive economies rapidly to full employment over the past decade."
   ]
  },
  {
   "cell_type": "markdown",
   "metadata": {},
   "source": [
    "### (Task G): Monetary Policy Reactions Under Hybrid Expectations (Initial)\n",
    "\n",
    "Now let's change gears to hybrid mix of adaptive and perfect-foresight rational inflation expectations. Our system now is:\n",
    "\n",
    "&nbsp;&nbsp;&nbsp;&nbsp;&nbsp;&nbsp;&nbsp;&nbsp;&nbsp;\n",
    "$ u_t - u^{*} = {\\phi}r_\\pi(\\pi_{t-1} - \\pi^T) - {\\phi}r_u(u_{t-1} - u^{**}) + {\\phi}(r^{**}-r^*) $ (Monetary Policy Reaction Function)\n",
    "\n",
    "&nbsp;&nbsp;&nbsp;&nbsp;&nbsp;&nbsp;&nbsp;&nbsp;&nbsp;\n",
    "$ {\\pi}_t = {{\\pi}_t}^e - {\\beta}(u_t - u^{*}) $ (Phillips Curve)\n",
    "\n",
    "&nbsp;&nbsp;&nbsp;&nbsp;&nbsp;&nbsp;&nbsp;&nbsp;&nbsp;\n",
    "$ {{\\pi}_t}^e = \\lambda{\\pi}_t + (1-\\lambda){\\pi}_{t-1} $ (Hybrid Inflation Expectations)\n",
    "\n",
    "The code cell below models this system.\n",
    "\n",
    "In the code cell below, note that the model equation inside the loop for inflation expectations is now:\n",
    "\n",
    "    pie = pie + [pi[t-1]]/(1-lambda_)\n",
    "    \n",
    "That is, each time through the loop the computer adds an additional element to the \"pie\" list that is the time series of inflation expedtations—the \"+\" sign here stands for not addition but, rather, concatenation. Under adaptive expectations, this equation for inflation expectations was the adaptive:\n",
    "\n",
    "    pie = pie + [pi[t-1]]\n",
    "    \n",
    "Each time through the loop the computer added an additional element to the \"pie\" list that is the time series of inflation expedtations. But the value it added was simply the adaptive $ \\pi_{t-1} $.\n",
    "\n",
    "In the code cell below, set the initial conditions for unemployment, inflation, and expected inflation in year 0 to 0.06. Run the model. Then stuff the generated inflation rate for the years from zero through year 10 into the series variable hybrid_df.pi"
   ]
  },
  {
   "cell_type": "code",
   "execution_count": 32,
   "metadata": {},
   "outputs": [
    {
     "name": "stdout",
     "output_type": "stream",
     "text": [
      "           u      pi_e        pi\n",
      "0   0.060000  0.060000  0.060000\n",
      "1   0.080000  0.030000  0.020000\n",
      "2   0.055000  0.027500  0.030000\n",
      "3   0.066250  0.020625  0.017500\n",
      "4   0.057187  0.021719  0.023125\n",
      "5   0.062266  0.019727  0.018594\n",
      "6   0.058730  0.020498  0.021133\n",
      "7   0.060884  0.019807  0.019365\n",
      "8   0.059462  0.020173  0.020442\n",
      "9   0.060356  0.019909  0.019731\n",
      "10  0.059777  0.020066  0.020178\n"
     ]
    },
    {
     "data": {
      "image/png": "[encoded data removed]",
      "text/plain": [
       "<matplotlib.figure.Figure at 0x1157a5438>"
      ]
     },
     "metadata": {},
     "output_type": "display_data"
    }
   ],
   "source": [
    "# TASK G CODE ANSWER\n",
    "\n",
    "u_star = 0.06\n",
    "phi = 1\n",
    "pi_T = 0.02\n",
    "r_star = 0.05\n",
    "beta = 1/2\n",
    "pi_star = 0.02\n",
    "r_pi = 0.5\n",
    "r_u = 0.25\n",
    "lambda_ = 0.75\n",
    "\n",
    "u_star2 = 0.06\n",
    "r_star2 = 0.05\n",
    "\n",
    "u = [0.06]\n",
    "pie = [0.06]\n",
    "pi = [0.06]\n",
    "\n",
    "for t in range(1,11):\n",
    "    u = u + [(u_star + phi*r_pi*(pi[t-1]- pi_T) - phi*r_u*((u[t-1] - u_star2))\n",
    "              + phi*(r_star2-r_star))]\n",
    "    pi = pi + [pi[t-1] - beta*(u[t]-u_star)/(1-lambda_)]\n",
    "    pie = pie + [lambda_*pi[t] + (1-lambda_)*pi[t-1]]\n",
    "             \n",
    "hybrid_df = pd.DataFrame({'u' : u,\n",
    "                          'pi_e' : pie,\n",
    "                          'pi' : pi},\n",
    "                         columns = ['u', 'pi_e', 'pi'])\n",
    "\n",
    "hybrid_df.plot(ylim=(0., 0.1))\n",
    "print(hybrid_df)"
   ]
  },
  {
   "cell_type": "code",
   "execution_count": 33,
   "metadata": {},
   "outputs": [
    {
     "name": "stdout",
     "output_type": "stream",
     "text": [
      "~~~~~~~~~~~~~~~~~~~~~~~~~~~~~~~~~~~~~~~~~~~~~~~~~~~~~~~~~~~~~~~~~~~~~\n",
      "Running tests\n",
      "\n",
      "---------------------------------------------------------------------\n",
      "Test summary\n",
      "    Passed: 10\n",
      "    Failed: 0\n",
      "[ooooooooook] 100.0% passed\n",
      "\n"
     ]
    },
    {
     "data": {
      "text/plain": [
       "{'failed': 0, 'locked': 0, 'passed': 10}"
      ]
     },
     "execution_count": 33,
     "metadata": {},
     "output_type": "execute_result"
    }
   ],
   "source": [
    "# TASK G ANSWER CHECK\n",
    "\n",
    "import numpy as np\n",
    "ok.grade('q06')"
   ]
  },
  {
   "cell_type": "markdown",
   "metadata": {},
   "source": [
    "### (Task G): Monetary Policy Reactions Under Hybrid Expectations (Final)\n",
    "\n",
    "We had the hybrid expectations model with the initial conditions:\n",
    "\n",
    "* $ u_0 = 0.06 $ :: (u_0)\n",
    "* $ {\\pi^e}_0 = 0.06 $ :: (pie_0)\n",
    "* $ \\pi_0 = 0.06 $ :: (pi_0)\n",
    "\n",
    "I.e., an initial inflation rate in year zero of not 6% per year and an initial unemployment rate of 2% per year.\n",
    "\n",
    "If everything went well, you saw the central bank react to actual inflation at 6% per yar far above its target of 2% by raising interest rates to create excess aggregate supply and push down inflation. Because inflation expectations were a hybrid of backward looking adaptive and forward looking, expected inflation fell rapidly, close to matching the fall in actual inflation. Thus the economy very quickly returned to its desired equilibrium, with unemployment near the NAIRU and inflation close to target."
   ]
  },
  {
   "cell_type": "code",
   "execution_count": 34,
   "metadata": {},
   "outputs": [
    {
     "data": {
      "application/javascript": [
       "IPython.notebook.save_checkpoint();"
      ],
      "text/plain": [
       "<IPython.core.display.Javascript object>"
      ]
     },
     "metadata": {},
     "output_type": "display_data"
    },
    {
     "data": {
      "application/javascript": [
       "IPython.notebook.save_notebook();"
      ],
      "text/plain": [
       "<IPython.core.display.Javascript object>"
      ]
     },
     "metadata": {},
     "output_type": "display_data"
    },
    {
     "name": "stdout",
     "output_type": "stream",
     "text": [
      "Saving notebook... Saved 'PS12.ipynb'.\n",
      "Submit... 100% complete\n",
      "Submission successful for user: jbdelong@berkeley.edu\n",
      "URL: https://okpy.org/cal/econ101b/sp18/PS12/submissions/xGKDlP\n",
      "\n"
     ]
    }
   ],
   "source": [
    "_ = ok.submit()"
   ]
  }
 ],
 "metadata": {
  "celltoolbar": "Edit Metadata",
  "kernelspec": {
   "display_name": "Python 3",
   "language": "python",
   "name": "python3"
  },
  "language_info": {
   "codemirror_mode": {
    "name": "ipython",
    "version": 3
   },
   "file_extension": ".py",
   "mimetype": "text/x-python",
   "name": "python",
   "nbconvert_exporter": "python",
   "pygments_lexer": "ipython3",
   "version": "3.6.1"
  }
 },
 "nbformat": 4,
 "nbformat_minor": 2
}

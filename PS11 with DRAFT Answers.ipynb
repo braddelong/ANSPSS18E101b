{
 "cells": [
  {
   "cell_type": "markdown",
   "metadata": {
    "slideshow": {
     "slide_type": "notes"
    }
   },
   "source": [
    "# 2018-04-08 Econ 101b Problem Set 11: Sticky-Price Models and Monetary Policy with DRAFT Answers"
   ]
  },
  {
   "cell_type": "markdown",
   "metadata": {},
   "source": [
    "### Problem set will be due M Apr 23 at midnight...\n",
    "\n",
    "#### Sections between Tu AM & Th AM lecture will be problem set section..."
   ]
  },
  {
   "cell_type": "markdown",
   "metadata": {},
   "source": [
    "## Setting up the Python/Jupyter environment"
   ]
  },
  {
   "cell_type": "code",
   "execution_count": 1,
   "metadata": {},
   "outputs": [
    {
     "data": {
      "application/javascript": [
       "\n",
       "IPython.OutputArea.prototype._should_scroll = function(lines) {\n",
       "    return false;}"
      ],
      "text/plain": [
       "<IPython.core.display.Javascript object>"
      ]
     },
     "metadata": {},
     "output_type": "display_data"
    }
   ],
   "source": [
    "%%javascript\n",
    "\n",
    "IPython.OutputArea.prototype._should_scroll = function(lines) {\n",
    "    return false;}"
   ]
  },
  {
   "cell_type": "code",
   "execution_count": 2,
   "metadata": {
    "collapsed": true
   },
   "outputs": [],
   "source": [
    "# ABOVE CELL IS \"NO SCROLLING SUBWINDOWS\" SETUP\n",
    "#\n",
    "# keep output cells from shifting to autoscroll: little scrolling\n",
    "# subwindows within the notebook are an annoyance..."
   ]
  },
  {
   "cell_type": "code",
   "execution_count": 3,
   "metadata": {
    "collapsed": true
   },
   "outputs": [],
   "source": [
    "# LOADING LIBRARIES WE MIGHT NEED...\n",
    "#\n",
    "# system\n",
    "\n",
    "import sys\n",
    "import os\n",
    "from urllib.request import urlretrieve"
   ]
  },
  {
   "cell_type": "code",
   "execution_count": 4,
   "metadata": {
    "collapsed": true
   },
   "outputs": [],
   "source": [
    "# LOADING LIBRARIES WE MIGHT NEED...\n",
    "#\n",
    "# plotting\n",
    "\n",
    "import matplotlib as mpl\n",
    "import matplotlib.pyplot as plt\n",
    "from IPython.display import Image\n",
    "import seaborn as sns"
   ]
  },
  {
   "cell_type": "code",
   "execution_count": 5,
   "metadata": {
    "collapsed": true
   },
   "outputs": [],
   "source": [
    "# LOADING LIBRARIES WE MIGHT NEED...\n",
    "#\n",
    "# data handling\n",
    "\n",
    "import pandas as pd\n",
    "from pandas import DataFrame, Series\n",
    "from datetime import datetime"
   ]
  },
  {
   "cell_type": "code",
   "execution_count": 6,
   "metadata": {
    "collapsed": true
   },
   "outputs": [],
   "source": [
    "# LOADING LIBRARIES WE MIGHT NEED...\n",
    "#\n",
    "# math\n",
    "\n",
    "import scipy as sp\n",
    "import numpy as np\n",
    "import math\n",
    "import random"
   ]
  },
  {
   "cell_type": "code",
   "execution_count": 7,
   "metadata": {},
   "outputs": [
    {
     "name": "stderr",
     "output_type": "stream",
     "text": [
      "/Users/delong/anaconda3/lib/python3.6/site-packages/statsmodels/compat/pandas.py:56: FutureWarning: The pandas.core.datetools module is deprecated and will be removed in a future version. Please use the pandas.tseries module instead.\n",
      "  from pandas.core import datetools\n"
     ]
    }
   ],
   "source": [
    "# LOADING LIBRARIES WE MIGHT NEED...\n",
    "#\n",
    "# statistics\n",
    "\n",
    "import statsmodels\n",
    "import statsmodels.api as sm\n",
    "import statsmodels.formula.api as smf"
   ]
  },
  {
   "cell_type": "code",
   "execution_count": 8,
   "metadata": {
    "collapsed": true
   },
   "outputs": [],
   "source": [
    "# PRETTIER GRAPHICS SETUP\n",
    "#\n",
    "# graphics setup: seaborn-whitegrid and figure size;\n",
    "# graphs in the notebook itself...\n",
    "\n",
    "%matplotlib inline \n",
    "\n",
    "plt.style.use('seaborn-whitegrid')\n",
    "\n",
    "figure_size = plt.rcParams[\"figure.figsize\"]\n",
    "figure_size[0] = 12\n",
    "figure_size[1] = 10\n",
    "plt.rcParams[\"figure.figsize\"] = figure_size"
   ]
  },
  {
   "cell_type": "code",
   "execution_count": 9,
   "metadata": {},
   "outputs": [
    {
     "name": "stdout",
     "output_type": "stream",
     "text": [
      "Requirement already up-to-date: okpy in /Users/delong/anaconda3/lib/python3.6/site-packages\n",
      "Requirement already up-to-date: coverage==3.7.1 in /Users/delong/anaconda3/lib/python3.6/site-packages (from okpy)\n",
      "Requirement already up-to-date: requests==2.12.4 in /Users/delong/anaconda3/lib/python3.6/site-packages (from okpy)\n",
      "\u001b[33mYou are using pip version 9.0.2, however version 10.0.0 is available.\n",
      "You should consider upgrading via the 'pip install --upgrade pip' command.\u001b[0m\n",
      "=====================================================================\n",
      "Assignment: PS11 Notebook\n",
      "OK, version v1.13.11\n",
      "=====================================================================\n",
      "\n",
      "\n",
      "Open the following URL:\n",
      "\n",
      "https://okpy.org/client/login/\n",
      "\n",
      "After logging in, copy the code from the web page and paste it into the box.\n",
      "Then press the \"Enter\" key on your keyboard.\n",
      "\n",
      "Paste your code here: wMlpjRdyK7bDMMIifd9FKcFp06pzAk\n",
      "Successfully logged in as jbdelong@berkeley.edu\n"
     ]
    }
   ],
   "source": [
    "# THIS CELL IS THE KEY TO THE OKPY.ORG AUTOGRADER SYSTEM\n",
    "#\n",
    "# Don't change this cell; just run it. \n",
    "# The result will give you directions about how to log in to the submission system, called OK.\n",
    "# Once you're logged in, you can run this cell again, but it won't ask you who you are because\n",
    "# it remembers you. However, you will need to log in once per assignment.\n",
    "\n",
    "!pip install -U okpy\n",
    "\n",
    "from client.api.notebook import Notebook\n",
    "\n",
    "ok = Notebook('ps11.ok')\n",
    "_ = ok.auth(force=True, inline=True)"
   ]
  },
  {
   "cell_type": "markdown",
   "metadata": {},
   "source": [
    "### ⬆︎⬆︎⬆︎⬆︎⬆︎⬆︎⬆︎⬆︎⬆︎⬆︎⬆︎⬆︎⬆︎⬆︎⬆︎⬆︎\n",
    "### RUN THESE CELLS ABOVE FIRST"
   ]
  },
  {
   "cell_type": "markdown",
   "metadata": {},
   "source": [
    "# Problem Set 11: Sticky-Price Models and Monetary Policy (Due M Apr 23 11:59:59 PM)\n",
    "\n",
    "----\n",
    "\n",
    "&nbsp;\n",
    "\n",
    "## Introduction\n",
    "\n",
    "The autograder, both in the tests you run along the way as you work on the problem set and in calculating the final score, looks in the same directory as the problem set notebook for an \"ok.tests\" directory, and then runs the tests in the \"q\\*\\*.py\" files in that directory (where \"\\*\\*\" denotes a two-digit number, possibly with a leading zero). Those tests take the form of comparing a variable that should be in your namespace and seeing if it is close to some desired value that we get when we do the problem set.\n",
    "\n",
    "Thus while the problem set instructions ask you to run simulations and plot graphs, what you are tested on is whether the appropriate variables in your namespace have (close to the) right values. We do not care what code you use in order to get those variables to the right values. \n",
    "\n",
    "You can run simulations and then pick appropriate values out by slicing a series in order to get the right number. \n",
    "\n",
    "You can use your knowledge of the algebraic solution to the model to have Python calculate the answer, having first set the parameters to the right values, as in:\n",
    "\n",
    "    s = 0.24 # (say)\n",
    "    n = 0.01\n",
    "    g = 0.02\n",
    "    delta = 0.03\n",
    "    Delta_n = -0.01\n",
    "    KoverYinitial = s/(n+g+delta)\n",
    "    KoverYalternative = s/(n+Delta_n+g+delta)\n",
    "    \n",
    "You can even do all of the calculations on pen and paper, and simply code up:\n",
    "\n",
    "    KoverYinitial = 4\n",
    "    KoverYalternative = 4.8\n",
    "    \n",
    "Perhaps we should ask you to do all three—start with simulations, or with algebraic equations with set parameter values, or with full pen-and-paper calculations with only the final results entered into the notebook—and then ask you to check your results from one mode by doing the other two. But: _ars longa, vita brevis_. Focus on what works _for you_: the key is to get a sense of how economists' center-of-gravity analyses of long-run growth work, so that when you encounter such an analysis later, outside the university, you have the right intellectual panoply to evaluate it.\n",
    "\n",
    "----\n",
    "\n",
    "&nbsp;"
   ]
  },
  {
   "cell_type": "markdown",
   "metadata": {},
   "source": [
    "## Programming Dos and Don'ts...\n",
    "\n",
    "### A Running List...\n",
    "\n",
    "1. **Do** restart your kernel and run cells up to your current working point every fifteen minutes or so. Yes, it takes a little time. But if you don't, sooner or later the machine's namespace will get confused, and then you will get confused about the state of the machine's namespace, and by assuming things about it that are false you will lose hours and hours...   \n",
    "&nbsp;\n",
    "\n",
    "2. **Do** reload the page when restarting the kernel does not seem to do the job...   \n",
    "&nbsp;\n",
    "\n",
    "3. **Do** edit code cells by copying them below your current version and then working on the copy: when you break everything in the current cell (as you will), you can then go back to the old cell and start fresh...   \n",
    "&nbsp;\n",
    "\n",
    "4. **Do** exercise agile development practices: if there is a line of code that you have not tested, test it. The best way to test is to ask the machine to echo back to you the thing you have just created in its namespace to make sure that it is what you want it to be. Only after you are **certain** that your namespace contains what you think it does should you write the next line of code. And then you should immediately test it...   \n",
    "&nbsp;\n",
    "\n",
    "5. **Do** take screenshots of your error messages...   \n",
    "&nbsp;\n",
    "\n",
    "6. **Do** google your error messages: Ms. Google is your best friend here...   \n",
    "&nbsp;\n",
    "\n",
    "7. **Do not** confuse assignment (\"=\") and test for equality (\"==\"). In general, if there is an \"if\" anywhere nearby, you should be testing for equality. If there is not, you should be assignment a variable in your namespace to a value. **Do** curse the mathematicians 500 years ago who did not realize that in the twenty-first century it would be very convenient if we had different and not confusable symbols for equals-as-assignment and equals-as-test...   \n",
    "&nbsp;\n",
    "\n",
    "----\n",
    "\n",
    "&nbsp;\n",
    "\n",
    "**Thanks to**: Felix Deng, Rachel Grossberg, Christopher Hench, Meghana Krishnakumer, Seth Lloyd, Ronald Walker..."
   ]
  },
  {
   "cell_type": "markdown",
   "metadata": {
    "deletable": false,
    "manual_grade": true,
    "manual_problem_id": "PS6TB"
   },
   "source": [
    "**(Task A) Programming Practices**\n",
    "\n",
    "If it strikes you that anything should be added to this list of programming dos and don'ts, please email it to me at <delong@econ.berkeley.edu>"
   ]
  },
  {
   "cell_type": "markdown",
   "metadata": {},
   "source": [
    "----"
   ]
  },
  {
   "cell_type": "markdown",
   "metadata": {},
   "source": [
    "### The Baseline Sticky-Price Model\n",
    "\n",
    "Start with the IS-Curve for the sticky-price model:\n",
    "\n",
    "&nbsp;&nbsp;&nbsp;&nbsp;&nbsp;&nbsp;&nbsp;&nbsp;&nbsp;\n",
    "$ Y = E = {\\mu}(c_o + I_o + G) + {\\mu}(x_{f}Y^f + x_{\\epsilon}{\\epsilon_o} + x_{\\epsilon}{\\epsilon_r}r^f) - {\\mu}(I_r + x_{\\epsilon}{\\epsilon_r})r $\n",
    "\n",
    "Remember: causation moves from right to left: the components of spending add up to aggregate demand or total expenditure E, and the inventory adjustment process then drives national income and product Y to aggregate demand.\n",
    "\n",
    "The symbols on the right-hand side of this equation are grouped into:\n",
    "\n",
    "_Expectations and Confidence:_\n",
    "\n",
    "* $ c_o $ :: consumer confidence\n",
    "* $ I_o $ :: business investment animal spirits\n",
    "* $ {\\epsilon_o} $ :: the confidence of foreign exchange speculators in the value of foreign currency\n",
    "\n",
    "&nbsp;\n",
    "\n",
    "_Behavioral Parameters:_\n",
    "\n",
    "* $ x_{f} $ :: the responsiveness of exports to foreign income\n",
    "* $ x_{\\epsilon} $ :: the responsiveness of exports to the exchange rate\n",
    "* $ {\\epsilon_r} $ :: the responsiveness of the exchange rate to the interest rate\n",
    "* $ I_r $ :: the responsiveness of investment to the interest rate\n",
    "* $ {\\mu} = \\frac{1}{1- c_{y}(1-t) + im_y} $ :: the multiplier, itself a function of:\n",
    "    * $ t $ :: the tax rate\n",
    "    * $ c_y $ :: the marginal propensity to consume\n",
    "    * $ im_y $ :: the marginal propensity to import\n",
    "\n",
    "&nbsp;\n",
    "\n",
    "_The Global Economic Environment:_\n",
    "\n",
    "* $ Y^f $ :: foreign national income\n",
    "* $ r^f $ :: the foreign long-term risky real interest rate\n",
    "\n",
    "&nbsp;\n",
    "\n",
    "_Policy Choices:_\n",
    "\n",
    "* $ G $ :: government purchases\n",
    "* $ r = i + \\rho - \\pi $ :: the long-term risky real interest rate, which itself will later on be a function of:\n",
    "    * $ i $ :: the short-term safe nominal interest rate, a policy choice\n",
    "    * $ \\rho $ :: the risk (and term) premium charged for lending long-term to companies that might go bankrupt rather than short-term to the government\n",
    "    * $ \\pi $ :: the expected inflation rate\n",
    "\n",
    "Assume parameter values:\n",
    "\n",
    "* $ c_o = 2 $\n",
    "* $ c_y = 5/8 $\n",
    "* $ I_o = 4.4 $\n",
    "* $ I_r = 10 $\n",
    "* $ t = 0.20 $\n",
    "* $ im_y = 1/6 $\n",
    "* $ x^f = 0.1 $\n",
    "* $ Y^f = 20 $\n",
    "* $ r^f = 0.04 $\n",
    "* $ x_{\\epsilon} = 4/3 $\n",
    "* $ \\epsilon_o = 1 $\n",
    "* $ \\epsilon_r = 5 $\n",
    "\n",
    "And assume that government purchases $ G = 4 $\n",
    "\n",
    "The code cell below sets parameter values and calculates the equilibrium value of the real interest rater r for this flexprice model IS Curve. It then calculates the values of hte other economic variables, in trillions:\n",
    "\n",
    "----\n",
    "\n",
    "&nbsp;"
   ]
  },
  {
   "cell_type": "code",
   "execution_count": 10,
   "metadata": {},
   "outputs": [
    {
     "name": "stdout",
     "output_type": "stream",
     "text": [
      "The real interest rate = 0.04\n",
      "\n",
      "The components of national income and product Y are:\n",
      "Consumption spending C =  12.0\n",
      "Investment spending I =  4.0\n",
      "Government purchases G =  4\n",
      "Net exports NX =  0.0\n",
      "\n",
      "Output Y =  20.0\n",
      "\n",
      "Gross exports GX =  3.333333333333333\n",
      "Imports IM =  3.333333333333333\n",
      "\n",
      "The real exchange rate ε =  1.0\n",
      "\n",
      "The multiplier μ =  1.5\n"
     ]
    }
   ],
   "source": [
    "# STICKY-PRICE MODEL INITIAL SCENARIO SETUP\n",
    "\n",
    "# Set initial parameter and variable values\n",
    "c_o = 2\n",
    "c_y = 5/8\n",
    "\n",
    "I_o = 4.4\n",
    "I_r = 10\n",
    "\n",
    "G = 4\n",
    "t = 0.20\n",
    "\n",
    "im_y = 1/6\n",
    "x_f = 0.1\n",
    "Y_f = 20\n",
    "r_f = 0.04\n",
    "\n",
    "x_epsilon = 4/3\n",
    "epsilon_o = 1\n",
    "epsilon_r = 5\n",
    "\n",
    "# Calculate the value of the multiplier\n",
    "mu = 1/(1-c_y*(1-t)+ im_y)\n",
    "\n",
    "# Set the real interest rate\n",
    "r = 0.04\n",
    "\n",
    "# Calculate the equilibrium value of Y from the IS Curve\n",
    "Y = mu * ((c_o + I_o + G) + \n",
    "    (x_f * Y_f + x_epsilon * epsilon_o + x_epsilon * epsilon_r * r_f) -\n",
    "    (I_r + x_epsilon * epsilon_r)* r) \n",
    "\n",
    "# calculcate the values of other economic variables \n",
    "# in this initial scenario\n",
    "C = c_o + c_y * (1-t) * Y\n",
    "I = I_o - I_r * r\n",
    "GX = x_f * Y_f + x_epsilon * epsilon_o + x_epsilon * epsilon_r * (r_f-r)\n",
    "IM = im_y * Y\n",
    "NX = GX - IM\n",
    "epsilon = epsilon_o + epsilon_r * (r_f-r)\n",
    "\n",
    "# print out the values of economic variables in \n",
    "# this initial scenario equilibrium\n",
    "print(\"The real interest rate =\", r)\n",
    "print(\"\")\n",
    "print(\"The components of national income and product Y are:\")\n",
    "print(\"Consumption spending C = \", C)\n",
    "print(\"Investment spending I = \", I)\n",
    "print(\"Government purchases G = \", G)\n",
    "print(\"Net exports NX = \", NX)\n",
    "print(\"\")\n",
    "print(\"Output Y = \", Y)\n",
    "print(\"\")\n",
    "print(\"Gross exports GX = \", GX)\n",
    "print(\"Imports IM = \", IM)\n",
    "print(\"\")\n",
    "print(\"The real exchange rate ε = \", epsilon)\n",
    "print(\"\")\n",
    "print(\"The multiplier μ = \", mu)\n",
    "\n",
    "# AFTER YOU RUN THIS CELL, DO NOT OVERWRITE THE VALUES OF THE\n",
    "# _ini VARIABLES!\n",
    "#\n",
    "# remember the values of the economic variables in this \n",
    "# initial scenario\n",
    "r_ini = r\n",
    "I_ini = I\n",
    "G_ini = G\n",
    "NX_ini = NX\n",
    "epsilon_ini = epsilon\n",
    "Y_ini = Y\n",
    "C_ini = C"
   ]
  },
  {
   "cell_type": "markdown",
   "metadata": {},
   "source": [
    "### (Task B) Sticky-Price: A Boost via Higher Interest Rates Abroad (Initial)\n",
    "\n",
    "In the code cell below the setup cell, calculate the change in national product produced by a 2 percentage point increase in government purchases $ {\\Delta}r^f = +0.02 $, holding constant the domestic real interest rate r, and set the value of the variable:\n",
    "\n",
    "    Delta_Y_PS11taskB\n",
    "    \n",
    "to that calculated change:"
   ]
  },
  {
   "cell_type": "code",
   "execution_count": 11,
   "metadata": {
    "collapsed": true
   },
   "outputs": [],
   "source": [
    "# CODE CELL FOR TASK B INITIAL\n",
    "\n",
    "# Delta_r_f = +0.02\n",
    "\n",
    "# ...\n",
    "# ...\n",
    "# ...\n",
    "# ...\n",
    "\n",
    "# Delta_Y_PS11taskB = "
   ]
  },
  {
   "cell_type": "code",
   "execution_count": 12,
   "metadata": {},
   "outputs": [
    {
     "data": {
      "text/plain": [
       "0.2"
      ]
     },
     "execution_count": 12,
     "metadata": {},
     "output_type": "execute_result"
    }
   ],
   "source": [
    "# ANSWER CODE CELL FOR TASK B INITIAL\n",
    "\n",
    "Delta_r_f = +0.02\n",
    "Delta_r = 0\n",
    "\n",
    "c_y = 5/8\n",
    "t = 0.20\n",
    "im_y = 1/6\n",
    "mu = 1/(1-c_y*(1-t)+ im_y)\n",
    "\n",
    "I_r = 10\n",
    "\n",
    "x_epsilon = 4/3\n",
    "epsilon_r = 5\n",
    "\n",
    "Delta_Y = mu * ((x_epsilon * epsilon_r * Delta_r_f) -\n",
    "    (I_r + x_epsilon * epsilon_r)* Delta_r)\n",
    "\n",
    "Delta_Y_PS11taskB = Delta_Y \n",
    "\n",
    "Delta_Y_PS11taskB"
   ]
  },
  {
   "cell_type": "markdown",
   "metadata": {},
   "source": [
    "### (Task B) Sticky-Price: A Boost via Tighter Monetary Policy and Higher Interest Rates Abroad (Continued)\n",
    "\n",
    "In the code cell below, write code or otherwise calculate and set the variables:\n",
    "\n",
    "    Delta_C_PS11taskB\n",
    "    Delta_I_PS11taskB\n",
    "    Delta_G_PS11taskB\n",
    "    Delta_NX_PS11taskB\n",
    "    Delta_epsilon_PS11taskB\n",
    "    Delta_r_PS11taskB =\n",
    "    \n",
    "to the changes in their values in the alternative scenario relative ot the baseline"
   ]
  },
  {
   "cell_type": "code",
   "execution_count": 13,
   "metadata": {
    "collapsed": true
   },
   "outputs": [],
   "source": [
    "# CODE CELL FOR TASK B CONTINUED\n",
    "\n",
    "# ...\n",
    "# ...\n",
    "# ...\n",
    "# ...\n",
    "# ...\n",
    "\n",
    "# Delta_C_PS11taskB =\n",
    "# Delta_I_PS11taskB = \n",
    "# Delta_G_PS11taskB = \n",
    "# Delta_NX_PS11taskB = \n",
    "# Delta_epsilon_PS11taskB =\n",
    "# Delta_r_PS11taskB ="
   ]
  },
  {
   "cell_type": "code",
   "execution_count": 14,
   "metadata": {},
   "outputs": [
    {
     "name": "stdout",
     "output_type": "stream",
     "text": [
      "Delta_Y_PS11taskB =  0.2\n",
      "Delta_C_PS11taskB =  0.1\n",
      "Delta_I_PS11taskB =  0\n",
      "Delta_G_PS11taskB =  0\n",
      "Delta_NX_PS11taskB =  0.1\n",
      "Delta_epsilon_PS11taskB =  0.1\n",
      "Delta_r_PS11taskB =  0\n"
     ]
    }
   ],
   "source": [
    "# ANSWER CODE CELL FOR TASK B CONTINUED\n",
    "\n",
    "Delta_r_f = +0.02\n",
    "Delta_r = 0\n",
    "\n",
    "Delta_Y = 0.2\n",
    "\n",
    "Delta_r_PS11taskB = Delta_r\n",
    "Delta_C_PS11taskB = c_y * (1-t) * Delta_Y\n",
    "Delta_I_PS11taskB = - I_r * Delta_r\n",
    "Delta_G_PS11taskB = 0\n",
    "Delta_GX = x_epsilon * epsilon_r * Delta_r_f\n",
    "Delta_IM = im_y * Delta_Y\n",
    "Delta_NX_PS11taskB = Delta_GX - Delta_IM\n",
    "Delta_epsilon_PS11taskB = epsilon_r * (Delta_r_f- Delta_r)\n",
    "\n",
    "print(\"Delta_Y_PS11taskB = \", Delta_Y_PS11taskB)\n",
    "print(\"Delta_C_PS11taskB = \", Delta_C_PS11taskB)\n",
    "print(\"Delta_I_PS11taskB = \", Delta_I_PS11taskB)\n",
    "print(\"Delta_G_PS11taskB = \", Delta_G_PS11taskB)\n",
    "print(\"Delta_NX_PS11taskB = \", Delta_NX_PS11taskB)\n",
    "print(\"Delta_epsilon_PS11taskB = \", Delta_epsilon_PS11taskB)\n",
    "print(\"Delta_r_PS11taskB = \", Delta_r_PS11taskB)"
   ]
  },
  {
   "cell_type": "code",
   "execution_count": 15,
   "metadata": {},
   "outputs": [
    {
     "name": "stdout",
     "output_type": "stream",
     "text": [
      "~~~~~~~~~~~~~~~~~~~~~~~~~~~~~~~~~~~~~~~~~~~~~~~~~~~~~~~~~~~~~~~~~~~~~\n",
      "Running tests\n",
      "\n",
      "---------------------------------------------------------------------\n",
      "Test summary\n",
      "    Passed: 7\n",
      "    Failed: 0\n",
      "[ooooooooook] 100.0% passed\n",
      "\n"
     ]
    },
    {
     "data": {
      "text/plain": [
       "{'failed': 0, 'locked': 0, 'passed': 7}"
      ]
     },
     "execution_count": 15,
     "metadata": {},
     "output_type": "execute_result"
    }
   ],
   "source": [
    "# TASK B ANSWER CHECK\n",
    "\n",
    "import numpy as np\n",
    "ok.grade('q01')"
   ]
  },
  {
   "cell_type": "markdown",
   "metadata": {},
   "source": [
    "### (Task B) Sticky-Price: A Boost via Tighter Monetary Policy and Higher Interest Rates Abroad (Conclusion)\n",
    "\n",
    "If everything worked out as it should, you would have identified the portions of the sticky-price IS Curve equation:\n",
    "\n",
    "&nbsp;&nbsp;&nbsp;&nbsp;&nbsp;&nbsp;&nbsp;&nbsp;&nbsp;\n",
    "$ Y = E = {\\mu}(c_o + I_o + G) + {\\mu}(x_{f}Y^f + x_{\\epsilon}{\\epsilon_o} + x_{\\epsilon}{\\epsilon_r}r^f) - {\\mu}(I_r + x_{\\epsilon}{\\epsilon_r})r $\n",
    "\n",
    "that are relevant to an increase $ {\\Delta}r^f $ in foreign interest rates holding the domestic real interest rate constant. Those components are:\n",
    "\n",
    "&nbsp;&nbsp;&nbsp;&nbsp;&nbsp;&nbsp;&nbsp;&nbsp;&nbsp;\n",
    "$ {\\Delta}Y = {\\Delta}E = {\\mu}x_{\\epsilon}{\\epsilon_r}r^f $\n",
    "\n",
    "And from them—and the parameter values—you could calculate by hand the changes in other economic variables.\n",
    "\n",
    "Or you could have simply solved the model for the initial-scenario equilibrium, solved it for the alternative with the same parameter values except for $ r^f : {\\Delta}r^f = +0.02 $, and compared the results...\n",
    "\n",
    "What you should have found would be that contractionary monetary policy abroad is expansionary at home. As foreign interest rates go up, foreign currency becomes more valuable. As foreign currency becomes more valuable, domestic currency and thus domestically produced goods denominated in domestic currency become more attractive to foreign buyers. Thus net exports increase.\n",
    "\n",
    "In addition, you would have found the standard Keynesian multiplier result: When national income and product Y is demand determined, as in the sticky price model, there is a multiplied effect of any change in autonomous spending on Y. The multiplier comes from the positive feedback channel by which higher national income Y induces higher consumption spending C. The multiplier effect is partially damped because some of the flow of spending \"leaks\" abroad in the form of higher imports. In this case, the multiplier is triggered by the fact that tighter monetary policy—higher interest rates abroad—raises the value of the exchange rate parameter, the price of foreign currency, and so triggers an expansion of exports.\n",
    "\n",
    "----\n",
    "\n",
    "&nbsp;"
   ]
  },
  {
   "cell_type": "markdown",
   "metadata": {},
   "source": [
    "### (Task C) Moving Along the Sticky-Price IS-Curve via Tighter Monetary Policy (Initial)\n",
    "\n",
    "Start with the IS-Curve for the sticky-price model:\n",
    "\n",
    "&nbsp;&nbsp;&nbsp;&nbsp;&nbsp;&nbsp;&nbsp;&nbsp;&nbsp;\n",
    "$ Y = E = {\\mu}(c_o + I_o + G) + {\\mu}(x_{f}Y^f + x_{\\epsilon}{\\epsilon_o} + x_{\\epsilon}{\\epsilon_r}r^f) - {\\mu}(I_r + x_{\\epsilon}{\\epsilon_r})r $\n",
    "\n",
    "Remember: causation now moves from right to left: the components of spending add up to aggregate demand or total expenditure E, and the inventory adjustment process then drives national income and product Y to aggregate demand.\n",
    "\n",
    "Unless otherwise specified, assume all parameter values as in the initial setup for Task B.\n",
    "\n",
    "In the code cell below, calculate the change in national product produced by a shift in the real interest rate r: by a change $ {\\Delta}r = + 0.02 $ raising the real interest rate from 1% to 3% to fight inflation. Set the value of the variable:\n",
    "\n",
    "    Delta_Y_PS11taskC\n",
    "    \n",
    "to that calculated change:"
   ]
  },
  {
   "cell_type": "code",
   "execution_count": 16,
   "metadata": {
    "collapsed": true
   },
   "outputs": [],
   "source": [
    "# CODE CELL FOR TASK C INITIAL\n",
    "\n",
    "# Delta_r = 0.02\n",
    "\n",
    "# ...\n",
    "# ...\n",
    "# ...\n",
    "# ...\n",
    "\n",
    "# Delta_Y_PS11taskC = "
   ]
  },
  {
   "cell_type": "code",
   "execution_count": 17,
   "metadata": {},
   "outputs": [
    {
     "data": {
      "text/plain": [
       "-0.49999999999999994"
      ]
     },
     "execution_count": 17,
     "metadata": {},
     "output_type": "execute_result"
    }
   ],
   "source": [
    "# ANSWER CODE CELL FOR TASK C INITIAL\n",
    "\n",
    "Delta_r = 0.02\n",
    "Delta_r_f = 0\n",
    "\n",
    "c_y = 5/8\n",
    "t = 0.20\n",
    "im_y = 1/6\n",
    "mu = 1/(1-c_y*(1-t)+ im_y)\n",
    "\n",
    "I_r = 10\n",
    "\n",
    "x_epsilon = 4/3\n",
    "epsilon_r = 5\n",
    "\n",
    "Delta_Y = - mu * (I_r + x_epsilon * epsilon_r) * Delta_r\n",
    "\n",
    "Delta_Y_PS11taskC = Delta_Y\n",
    "\n",
    "Delta_Y_PS11taskC"
   ]
  },
  {
   "cell_type": "markdown",
   "metadata": {},
   "source": [
    "### (Task C) Moving Along the Sticky-Price IS-Curve via Tighter Monetary Policy (Continued)\n",
    "\n",
    "In the code cell below, write code or otherwise calculate and set the variables:\n",
    "\n",
    "    Delta_C_PS11taskC\n",
    "    Delta_I_PS11taskC\n",
    "    Delta_G_PS11taskC\n",
    "    Delta_NX_PS11taskC\n",
    "    Delta_epsilon_PS11taskC\n",
    "    Delta_r_PS11taskC\n",
    "    \n",
    "to the changes in their values in the alternative scenario relative ot the baseline"
   ]
  },
  {
   "cell_type": "code",
   "execution_count": 18,
   "metadata": {
    "collapsed": true
   },
   "outputs": [],
   "source": [
    "# CODE CELL FOR TASK C CONTINUED\n",
    "\n",
    "# ...\n",
    "# ...\n",
    "# ...\n",
    "# ...\n",
    "# ...\n",
    "\n",
    "# Delta_r_PS11taskC\n",
    "# Delta_C_PS11taskC\n",
    "# Delta_I_PS11taskC\n",
    "# Delta_G_PS11taskC\n",
    "# Delta_NX_PS11taskC\n",
    "# Delta_epsilon_PS11taskC"
   ]
  },
  {
   "cell_type": "code",
   "execution_count": 19,
   "metadata": {},
   "outputs": [
    {
     "name": "stdout",
     "output_type": "stream",
     "text": [
      "Delta_Y_PS11taskC =  -0.49999999999999994\n",
      "Delta_C_PS11taskC =  -0.25\n",
      "Delta_I_PS11taskC =  -0.2\n",
      "Delta_G_PS11taskC =  0\n",
      "Delta_NX_PS11taskC =  -0.05\n",
      "Delta_epsilon_PS11taskC =  -0.1\n",
      "Delta_r_PS11taskC =  0.02\n"
     ]
    }
   ],
   "source": [
    "# ANSWER CODE CELL FOR TASK C CONTINUED\n",
    "\n",
    "Delta_r_f = +0.0\n",
    "Delta_r = 0.02\n",
    "\n",
    "Delta_Y = - 0.5\n",
    "\n",
    "Delta_r_PS11taskC = Delta_r\n",
    "Delta_C_PS11taskC = c_y * (1-t) * Delta_Y\n",
    "Delta_I_PS11taskC = - I_r * Delta_r\n",
    "Delta_G_PS11taskC = 0\n",
    "Delta_GX = - x_epsilon * epsilon_r * Delta_r\n",
    "Delta_IM = im_y * Delta_Y\n",
    "Delta_NX_PS11taskC = Delta_GX - Delta_IM\n",
    "Delta_epsilon_PS11taskC = - epsilon_r * Delta_r\n",
    "\n",
    "print(\"Delta_Y_PS11taskC = \", Delta_Y_PS11taskC)\n",
    "print(\"Delta_C_PS11taskC = \", Delta_C_PS11taskC)\n",
    "print(\"Delta_I_PS11taskC = \", Delta_I_PS11taskC)\n",
    "print(\"Delta_G_PS11taskC = \", Delta_G_PS11taskC)\n",
    "print(\"Delta_NX_PS11taskC = \", Delta_NX_PS11taskC)\n",
    "print(\"Delta_epsilon_PS11taskC = \", Delta_epsilon_PS11taskC)\n",
    "print(\"Delta_r_PS11taskC = \", Delta_r_PS11taskC)"
   ]
  },
  {
   "cell_type": "code",
   "execution_count": 20,
   "metadata": {},
   "outputs": [
    {
     "name": "stdout",
     "output_type": "stream",
     "text": [
      "~~~~~~~~~~~~~~~~~~~~~~~~~~~~~~~~~~~~~~~~~~~~~~~~~~~~~~~~~~~~~~~~~~~~~\n",
      "Running tests\n",
      "\n",
      "---------------------------------------------------------------------\n",
      "Test summary\n",
      "    Passed: 7\n",
      "    Failed: 0\n",
      "[ooooooooook] 100.0% passed\n",
      "\n"
     ]
    },
    {
     "data": {
      "text/plain": [
       "{'failed': 0, 'locked': 0, 'passed': 7}"
      ]
     },
     "execution_count": 20,
     "metadata": {},
     "output_type": "execute_result"
    }
   ],
   "source": [
    "# TASK C ANSWER CHECK\n",
    "\n",
    "import numpy as np\n",
    "ok.grade('q02')"
   ]
  },
  {
   "cell_type": "markdown",
   "metadata": {},
   "source": [
    "### (Task C) Moving Along the Sticky-Price IS-Curve via Tighter Monetary Policy (Conclusion)\n",
    "\n",
    "If everything worked out as it should, you would have identified the portions of the sticky-price IS Curve equation:\n",
    "\n",
    "&nbsp;&nbsp;&nbsp;&nbsp;&nbsp;&nbsp;&nbsp;&nbsp;&nbsp;\n",
    "$ Y = E = {\\mu}(c_o + I_o + G) + {\\mu}(x_{f}Y^f + x_{\\epsilon}{\\epsilon_o} + x_{\\epsilon}{\\epsilon_r}r^f) - {\\mu}(I_r + x_{\\epsilon}{\\epsilon_r})r $\n",
    "\n",
    "that are relevant to an increase in the real interest rate $ {\\Delta}r $. Those components are:\n",
    "\n",
    "&nbsp;&nbsp;&nbsp;&nbsp;&nbsp;&nbsp;&nbsp;&nbsp;&nbsp;\n",
    "$ {\\Delta}Y = {\\Delta}E = {\\mu}(I_r + x_{\\epsilon}{\\epsilon_r}){\\Delta}r $\n",
    "\n",
    "And from them—and the parameter values—you could calculate by hand the changes in other economic variables.\n",
    "\n",
    "Or you could have simply solved the model for the initial-scenario equilibrium, solved it for the alternative with the same parameter values except for $ r : {\\Delta}r = +0.02 $, and compared the results...\n",
    "\n",
    "What you should have found would be the standard IS-Curve multiplier result: When national income and product Y is demand determined, as in the sticky price model, there is a multiplied effect of any change in autonomous spending from the positive feedback channel by which higher national income Y induces higher consumption spending C. The multiplier effect is partially damped because some of the flow of spending \"leaks\" abroad in the form of higher imports. And this multiplier is then applied to the change in autonomous spending produced by an increase in the real interest rate.\n",
    "\n",
    "That change in autonomous spending has two components:\n",
    "\n",
    "* A reduction in investment spending by an amount $ {\\mu}I_r{\\Delta}r $ from the direct effect of the increase $ {\\Delta}r $ in the real interest rate\n",
    "\n",
    "* A reduction in exports by an amount $ {\\mu}x_{\\epsilon}{\\epsilon_r}r $ from the fact that the interest rate increase raises the value of the dollar through foreign exchange arbitrage, and so reduces foreigners' willingness to purchase domestic exports.\n",
    "\n",
    "----\n",
    "\n",
    "&nbsp;"
   ]
  },
  {
   "cell_type": "markdown",
   "metadata": {},
   "source": [
    "### (Task D) The Phillips Curve and Static Expectations (Initial)\n",
    "\n",
    "Let us move on to the Phillips Curve: In year t:\n",
    "\n",
    "&nbsp;&nbsp;&nbsp;&nbsp;&nbsp;&nbsp;&nbsp;&nbsp;&nbsp;\n",
    "$ {\\pi}_t = {{\\pi}_t}^e - {\\beta}(u_t - {u_t}^*) + SS_t $\n",
    "\n",
    "where $ {\\pi}_t $ is the inflation rate, $ {{\\pi}_t}^e $ is expected inflation, $ {\\beta} $ is the \"slope\" of the Phillips Curve, $ u_t $ is the unemployment rate, $ {u_t}^* $ is the NAIRU, or the \"natural\" rate of unemployment, and $ SS_t $ is a upply shock term.\n",
    "\n",
    "The unemployment rate $ u_t $ (relative to the NAIRU $ {u_t}^* $) is related to production $ Y_t $ (relative to potential output $ {Y_t}^* $) by Okun's Law:\n",
    "\n",
    "&nbsp;&nbsp;&nbsp;&nbsp;&nbsp;&nbsp;&nbsp;&nbsp;&nbsp;\n",
    "$ \\frac{{Y_t}^* - {Y_t}}{{Y_t}^*} = 2(u_t - {u_t}^*) $\n",
    "\n",
    "And expected inflation can take on many different forms—either pure types:\n",
    "\n",
    "* Static: $ {{\\pi}_t}^e = {\\pi}^* $\n",
    "* Adaptive: $ {{\\pi}_t}^e = {\\pi}_{t-1} $\n",
    "* Rational: $ {{\\pi}_t}^e = E_{t-1}\\left({\\pi}_t\\right) $\n",
    "\n",
    "or mixtures thereof.\n",
    "\n",
    "Suppose inflation in year 0 is 2% per year—0.02. Suppose the parameters of the Phillips Curve are:\n",
    "\n",
    "&nbsp;&nbsp;&nbsp;&nbsp;&nbsp;&nbsp;&nbsp;&nbsp;&nbsp;\n",
    "$ u^* = 0.06 $   \n",
    "&nbsp;&nbsp;&nbsp;&nbsp;&nbsp;&nbsp;&nbsp;&nbsp;&nbsp;\n",
    "$ \\beta = \\frac{1}{2} $   \n",
    "\n",
    "And suppose that there are no supply shocks.\n",
    "\n",
    "Suppose further that inflation expectations are static, with:\n",
    "\n",
    "&nbsp;&nbsp;&nbsp;&nbsp;&nbsp;&nbsp;&nbsp;&nbsp;&nbsp;\n",
    "$ {\\pi}^* = 0.02 $\n",
    "\n",
    "And suppose that the Federal Reserve, via expansionary monetary policy, drops the unemployment rate to 4%—0.04—in year 1 and keeps it there in years 2 through 10.\n",
    "\n",
    "In the code cell below, calculate the values of inflation in years 1 through 10 and set the variables:\n",
    "\n",
    "    pi_year1_PS11taskD\n",
    "    pi_year2_PS11taskD\n",
    "    pi_year3_PS11taskD\n",
    "    pi_year4_PS11taskD\n",
    "    pi_year5_PS11taskD\n",
    "    pi_year6_PS11taskD\n",
    "    pi_year7_PS11taskD\n",
    "    pi_year8_PS11taskD\n",
    "    pi_year9_PS11taskD\n",
    "    pi_year10_PS11taskD\n",
    "    \n",
    "to the appropriate calculated values:"
   ]
  },
  {
   "cell_type": "code",
   "execution_count": 21,
   "metadata": {
    "collapsed": true
   },
   "outputs": [],
   "source": [
    "# CODE CELL FOR TASK D INITIAL\n",
    "\n",
    "# pi_star = 0.02 \n",
    "\n",
    "# ...\n",
    "# ...\n",
    "# ...\n",
    "# ...\n",
    "\n",
    "# pi_year1_PS11taskD = \n",
    "# pi_year2_PS11taskD = \n",
    "# pi_year3_PS11taskD = \n",
    "# pi_year4_PS11taskD = \n",
    "# pi_year5_PS11taskD = \n",
    "# pi_year6_PS11taskD = \n",
    "# pi_year7_PS11taskD = \n",
    "# pi_year8_PS11taskD = \n",
    "# pi_year9_PS11taskD = \n",
    "# pi_year10_PS11taskD = "
   ]
  },
  {
   "cell_type": "code",
   "execution_count": 22,
   "metadata": {},
   "outputs": [
    {
     "name": "stdout",
     "output_type": "stream",
     "text": [
      "pi_year1_PS11taskD =  0.03\n",
      "pi_year2_PS11taskD =  0.03\n",
      "pi_year3_PS11taskD =  0.03\n",
      "pi_year4_PS11taskD =  0.03\n",
      "pi_year5_PS11taskD =  0.03\n",
      "pi_year6_PS11taskD =  0.03\n",
      "pi_year7_PS11taskD =  0.03\n",
      "pi_year8_PS11taskD =  0.03\n",
      "pi_year9_PS11taskD =  0.03\n",
      "pi_year10_PS11taskD =  0.03\n"
     ]
    }
   ],
   "source": [
    "# ANSWER CODE CELL FOR TASK D INITIAL\n",
    "\n",
    "pi_star = 0.02\n",
    "u_star = 0.06\n",
    "beta = 1/2\n",
    "unemp = 0.04\n",
    "\n",
    "pi_year1_PS11taskD = pi_star - beta * (unemp - u_star)\n",
    "pi_year2_PS11taskD = pi_star - beta * (unemp - u_star)\n",
    "pi_year3_PS11taskD = pi_star - beta * (unemp - u_star)\n",
    "pi_year4_PS11taskD = pi_star - beta * (unemp - u_star)\n",
    "pi_year5_PS11taskD = pi_star - beta * (unemp - u_star)\n",
    "pi_year6_PS11taskD = pi_star - beta * (unemp - u_star)\n",
    "pi_year7_PS11taskD = pi_star - beta * (unemp - u_star)\n",
    "pi_year8_PS11taskD = pi_star - beta * (unemp - u_star)\n",
    "pi_year9_PS11taskD = pi_star - beta * (unemp - u_star)\n",
    "pi_year10_PS11taskD = pi_star - beta * (unemp - u_star)\n",
    "\n",
    "\n",
    "print('pi_year1_PS11taskD = ', pi_year1_PS11taskD)\n",
    "print('pi_year2_PS11taskD = ', pi_year2_PS11taskD)\n",
    "print('pi_year3_PS11taskD = ', pi_year3_PS11taskD)\n",
    "print('pi_year4_PS11taskD = ', pi_year4_PS11taskD)\n",
    "print('pi_year5_PS11taskD = ', pi_year5_PS11taskD)\n",
    "print('pi_year6_PS11taskD = ', pi_year6_PS11taskD)\n",
    "print('pi_year7_PS11taskD = ', pi_year7_PS11taskD)\n",
    "print('pi_year8_PS11taskD = ', pi_year8_PS11taskD)\n",
    "print('pi_year9_PS11taskD = ', pi_year9_PS11taskD)\n",
    "print('pi_year10_PS11taskD = ', pi_year10_PS11taskD)"
   ]
  },
  {
   "cell_type": "code",
   "execution_count": 23,
   "metadata": {},
   "outputs": [
    {
     "name": "stdout",
     "output_type": "stream",
     "text": [
      "~~~~~~~~~~~~~~~~~~~~~~~~~~~~~~~~~~~~~~~~~~~~~~~~~~~~~~~~~~~~~~~~~~~~~\n",
      "Running tests\n",
      "\n",
      "---------------------------------------------------------------------\n",
      "Test summary\n",
      "    Passed: 10\n",
      "    Failed: 0\n",
      "[ooooooooook] 100.0% passed\n",
      "\n"
     ]
    },
    {
     "data": {
      "text/plain": [
       "{'failed': 0, 'locked': 0, 'passed': 10}"
      ]
     },
     "execution_count": 23,
     "metadata": {},
     "output_type": "execute_result"
    }
   ],
   "source": [
    "# TASK D ANSWER CHECK\n",
    "\n",
    "import numpy as np\n",
    "ok.grade('q03')"
   ]
  },
  {
   "cell_type": "markdown",
   "metadata": {},
   "source": [
    "### (Task D)  The Phillips Curve and Static Expectations (Conclusion)\n",
    "\n",
    "If everything went well, you should have found that inflation is always 3%. And over the decade the economy gains enormous dividends in terms of extra production and extra jobs. And then—as long as expectations remain static—the central bank could return the unemployment rate to 6% in year 11, and inflation would drop down to 2%, with no permanent harm done.\n",
    "\n",
    "Of course, that is not the way we think that it works. That is not how the experience of the 1970s leads us to think that it would work.\n",
    "\n",
    "----\n",
    "\n",
    "&nbsp;"
   ]
  },
  {
   "cell_type": "markdown",
   "metadata": {},
   "source": [
    "### (Task E) The Phillips Curve and Adaptive Expectations (Initial)\n",
    "\n",
    "Take the Phillips Curve in year t:\n",
    "\n",
    "&nbsp;&nbsp;&nbsp;&nbsp;&nbsp;&nbsp;&nbsp;&nbsp;&nbsp;\n",
    "$ {\\pi}_t = {{\\pi}_t}^e - {\\beta}(u_t - {u_t}^*) + SS_t $\n",
    "\n",
    "where $ {\\pi}_t $ is the inflation rate, $ {{\\pi}_t}^e $ is expected inflation, $ {\\beta} $ is the \"slope\" of the Phillips Curve, $ u_t $ is the unemployment rate, $ {u_t}^* $ is the NAIRU, or the \"natural\" rate of unemployment, and $ SS_t $ is a upply shock term.\n",
    "\n",
    "And assume expected inflation is adaptive:\n",
    "\n",
    "&nbsp;&nbsp;&nbsp;&nbsp;&nbsp;&nbsp;&nbsp;&nbsp;&nbsp;\n",
    "$ {{\\pi}_t}^e = {\\pi}_{t-1} $\n",
    "\n",
    "Suppose inflation in year 0 is 2% per year—0.02. Suppose the parameters of the Phillips Curve are:\n",
    "\n",
    "&nbsp;&nbsp;&nbsp;&nbsp;&nbsp;&nbsp;&nbsp;&nbsp;&nbsp;\n",
    "$ u^* = 0.06 $   \n",
    "&nbsp;&nbsp;&nbsp;&nbsp;&nbsp;&nbsp;&nbsp;&nbsp;&nbsp;\n",
    "$ \\beta = \\frac{1}{2} $   \n",
    "\n",
    "And suppose that there are no supply shocks.\n",
    "\n",
    "Suppose that the Federal Reserve, via expansionary monetary policy, drops the unemployment rate to 4%—0.04—in year 1 and keeps it there in years 2 through 10.\n",
    "\n",
    "In the code cell below, calculate the values of inflation in years 1 through 10 and set the variables:\n",
    "\n",
    "    pi_year1_PS11taskE\n",
    "    pi_year2_PS11taskE\n",
    "    pi_year3_PS11taskE\n",
    "    pi_year4_PS11taskE\n",
    "    pi_year5_PS11taskE\n",
    "    pi_year6_PS11taskE\n",
    "    pi_year7_PS11taskE\n",
    "    pi_year8_PS11taskE\n",
    "    pi_year9_PS11taskE\n",
    "    pi_year10_PS11taskE\n",
    "    \n",
    "to the appropriate calculated values:"
   ]
  },
  {
   "cell_type": "code",
   "execution_count": 24,
   "metadata": {
    "collapsed": true
   },
   "outputs": [],
   "source": [
    "# CODE CELL FOR TASK E INITIAL\n",
    "\n",
    "# pi_star = 0.02 \n",
    "\n",
    "# ...\n",
    "# ...\n",
    "# ...\n",
    "# ...\n",
    "\n",
    "# pi_year1_PS11taskE = \n",
    "# pi_year2_PS11taskE = \n",
    "# pi_year3_PS11taskE = \n",
    "# pi_year4_PS11taskE = \n",
    "# pi_year5_PS11taskE = \n",
    "# pi_year6_PS11taskE = \n",
    "# pi_year7_PS11taskE = \n",
    "# pi_year8_PS11taskE = \n",
    "# pi_year9_PS11taskE = \n",
    "# pi_year10_PS11taskE = "
   ]
  },
  {
   "cell_type": "code",
   "execution_count": 25,
   "metadata": {},
   "outputs": [
    {
     "name": "stdout",
     "output_type": "stream",
     "text": [
      "pi_year1_PS11taskE =  0.03\n",
      "pi_year2_PS11taskE =  0.039999999999999994\n",
      "pi_year3_PS11taskE =  0.04999999999999999\n",
      "pi_year4_PS11taskE =  0.059999999999999984\n",
      "pi_year5_PS11taskE =  0.06999999999999998\n",
      "pi_year6_PS11taskE =  0.07999999999999997\n",
      "pi_year7_PS11taskE =  0.08999999999999997\n",
      "pi_year8_PS11taskE =  0.09999999999999996\n",
      "pi_year9_PS11taskE =  0.10999999999999996\n",
      "pi_year10_PS11taskE =  0.11999999999999995\n"
     ]
    }
   ],
   "source": [
    "# ANSWER CODE CELL FOR TASK E INITIAL\n",
    "\n",
    "pi_star = 0.02\n",
    "u_star = 0.06\n",
    "beta = 1/2\n",
    "unemp = 0.04\n",
    "\n",
    "pi_year1_PS11taskE = pi_star - beta * (unemp - u_star)\n",
    "pi_star = pi_year1_PS11taskE\n",
    "\n",
    "pi_year2_PS11taskE = pi_star - beta * (unemp - u_star)\n",
    "pi_star = pi_year2_PS11taskE\n",
    "\n",
    "pi_year3_PS11taskE = pi_star - beta * (unemp - u_star)\n",
    "pi_star = pi_year3_PS11taskE\n",
    "\n",
    "pi_year4_PS11taskE = pi_star - beta * (unemp - u_star)\n",
    "pi_star = pi_year4_PS11taskE\n",
    "\n",
    "pi_year5_PS11taskE = pi_star - beta * (unemp - u_star)\n",
    "pi_star = pi_year5_PS11taskE\n",
    "\n",
    "pi_year6_PS11taskE = pi_star - beta * (unemp - u_star)\n",
    "pi_star = pi_year6_PS11taskE\n",
    "\n",
    "pi_year7_PS11taskE = pi_star - beta * (unemp - u_star)\n",
    "pi_star = pi_year7_PS11taskE\n",
    "\n",
    "pi_year8_PS11taskE = pi_star - beta * (unemp - u_star)\n",
    "pi_star = pi_year8_PS11taskE\n",
    "\n",
    "pi_year9_PS11taskE = pi_star - beta * (unemp - u_star)\n",
    "pi_star = pi_year9_PS11taskE\n",
    "\n",
    "pi_year10_PS11taskE = pi_star - beta * (unemp - u_star)\n",
    "\n",
    "\n",
    "print('pi_year1_PS11taskE = ', pi_year1_PS11taskE)\n",
    "print('pi_year2_PS11taskE = ', pi_year2_PS11taskE)\n",
    "print('pi_year3_PS11taskE = ', pi_year3_PS11taskE)\n",
    "print('pi_year4_PS11taskE = ', pi_year4_PS11taskE)\n",
    "print('pi_year5_PS11taskE = ', pi_year5_PS11taskE)\n",
    "print('pi_year6_PS11taskE = ', pi_year6_PS11taskE)\n",
    "print('pi_year7_PS11taskE = ', pi_year7_PS11taskE)\n",
    "print('pi_year8_PS11taskE = ', pi_year8_PS11taskE)\n",
    "print('pi_year9_PS11taskE = ', pi_year9_PS11taskE)\n",
    "print('pi_year10_PS11taskE = ', pi_year10_PS11taskE)"
   ]
  },
  {
   "cell_type": "code",
   "execution_count": 26,
   "metadata": {
    "scrolled": true
   },
   "outputs": [
    {
     "name": "stdout",
     "output_type": "stream",
     "text": [
      "~~~~~~~~~~~~~~~~~~~~~~~~~~~~~~~~~~~~~~~~~~~~~~~~~~~~~~~~~~~~~~~~~~~~~\n",
      "Running tests\n",
      "\n",
      "---------------------------------------------------------------------\n",
      "Test summary\n",
      "    Passed: 10\n",
      "    Failed: 0\n",
      "[ooooooooook] 100.0% passed\n",
      "\n"
     ]
    },
    {
     "data": {
      "text/plain": [
       "{'failed': 0, 'locked': 0, 'passed': 10}"
      ]
     },
     "execution_count": 26,
     "metadata": {},
     "output_type": "execute_result"
    }
   ],
   "source": [
    "# TASK E ANSWER CHECK\n",
    "\n",
    "import numpy as np\n",
    "ok.grade('q04')"
   ]
  },
  {
   "cell_type": "markdown",
   "metadata": {},
   "source": [
    "### (Task E) The Phillips Curve and Adaptive Expectations (Final)\n",
    "\n",
    "If everything went well, you should have found that inflation accelerates—but accelerates slowly. it takes a full decade with the unemployment substantially below the NAIRU for annual inflation to rise from 2% per year to 12% per year. And in the meantime the economy gains enormous dividends in terms of extra production and extra jobs. And then—as long as expectations remain static—the central bank could return the unemployment rate to 6% in year 11, and inflation would be stable at 12%.\n",
    "\n",
    "Of course, that is not the way we think that it works. That is not how the experience of the 1970s leads us to think that it would work.\n",
    "\n",
    "----\n",
    "\n",
    "&nbsp;"
   ]
  },
  {
   "cell_type": "markdown",
   "metadata": {},
   "source": [
    "### (Task F) The Phillips Curve and Hybrid Expectations (Initial)\n",
    "\n",
    "Take the Phillips Curve in year t:\n",
    "\n",
    "&nbsp;&nbsp;&nbsp;&nbsp;&nbsp;&nbsp;&nbsp;&nbsp;&nbsp;\n",
    "$ {\\pi}_t = {{\\pi}_t}^e - {\\beta}(u_t - {u_t}^*) + SS_t $\n",
    "\n",
    "where $ {\\pi}_t $ is the inflation rate, $ {{\\pi}_t}^e $ is expected inflation, $ {\\beta} $ is the \"slope\" of the Phillips Curve, $ u_t $ is the unemployment rate, $ {u_t}^* $ is the NAIRU, or the \"natural\" rate of unemployment, and $ SS_t $ is a upply shock term.\n",
    "\n",
    "And assume expected inflation is somewhat rational and somewhat adaptive. That is, for some parameter $ \\lambda $:\n",
    "\n",
    "&nbsp;&nbsp;&nbsp;&nbsp;&nbsp;&nbsp;&nbsp;&nbsp;&nbsp;\n",
    "$ {{\\pi}_t}^e = \\lambda\\pi_t + (1 - \\lambda){\\pi}_{t-1} $\n",
    "\n",
    "Suppose inflation in year 0 is 2% per year—0.02. Suppose the parameters of the Phillips Curve are:\n",
    "\n",
    "&nbsp;&nbsp;&nbsp;&nbsp;&nbsp;&nbsp;&nbsp;&nbsp;&nbsp;\n",
    "$ u^* = 0.06 $   \n",
    "&nbsp;&nbsp;&nbsp;&nbsp;&nbsp;&nbsp;&nbsp;&nbsp;&nbsp;\n",
    "$ \\beta = \\frac{1}{2} $   \n",
    "\n",
    "And suppose that there are no supply shocks.\n",
    "\n",
    "Suppose that in year zero—when expectations for $ {\\pi_1}^* $, expectations for what inflation will be in year one, are set—the Federal Reserve announces that it will, via expansionary monetary policy, drops the unemployment rate to 4%—0.04—in year 1 and keeps it there in years 2 through 10.\n",
    "\n",
    "Suppose further that $ \\lambda = 0.5 $.\n",
    "\n",
    "In the code cell below, calculate the values of inflation in years 1 through 10 and set the variables:\n",
    "\n",
    "    pi_year1_PS11taskF\n",
    "    pi_year2_PS11taskF\n",
    "    pi_year3_PS11taskF\n",
    "    pi_year4_PS11taskF\n",
    "    pi_year5_PS11taskF\n",
    "    pi_year6_PS11taskF\n",
    "    pi_year7_PS11taskF\n",
    "    pi_year8_PS11taskF\n",
    "    pi_year9_PS11taskF\n",
    "    pi_year10_PS11taskF\n",
    "    \n",
    "to the appropriate calculated values:"
   ]
  },
  {
   "cell_type": "code",
   "execution_count": 27,
   "metadata": {
    "collapsed": true
   },
   "outputs": [],
   "source": [
    "# CODE CELL FOR TASK F INITIAL\n",
    "\n",
    "# pi_star = 0.02 \n",
    "\n",
    "# ...\n",
    "# ...\n",
    "# ...\n",
    "# ...\n",
    "\n",
    "# pi_year1_PS11taskF = \n",
    "# pi_year2_PS11taskF = \n",
    "# pi_year3_PS11taskF = \n",
    "# pi_year4_PS11taskF = \n",
    "# pi_year5_PS11taskF = \n",
    "# pi_year6_PS11taskF = \n",
    "# pi_year7_PS11taskF = \n",
    "# pi_year8_PS11taskF = \n",
    "# pi_year9_PS11taskF = \n",
    "# pi_year10_PS11taskF = "
   ]
  },
  {
   "cell_type": "markdown",
   "metadata": {},
   "source": [
    "### Markdown Answer Cell for Task F\n",
    "\n",
    "We have our Phillips Curve in the case with no supply shocks:\n",
    "\n",
    "&nbsp;&nbsp;&nbsp;&nbsp;&nbsp;&nbsp;&nbsp;&nbsp;&nbsp;\n",
    "$ {\\pi}_t = {{\\pi}_t}^e - {\\beta}(u_t - {u_t}^*) $\n",
    "\n",
    "And we have our expected inflation:\n",
    "\n",
    "&nbsp;&nbsp;&nbsp;&nbsp;&nbsp;&nbsp;&nbsp;&nbsp;&nbsp;\n",
    "$ {{\\pi}_t}^e = \\lambda{{\\pi}_t} + (1 - \\lambda){\\pi}_{t-1} $\n",
    "\n",
    "Combining:\n",
    "\n",
    "&nbsp;&nbsp;&nbsp;&nbsp;&nbsp;&nbsp;&nbsp;&nbsp;&nbsp;\n",
    "$ {\\pi}_t = \\lambda{{\\pi}_t} + (1 - \\lambda){\\pi}_{t-1} - {\\beta}(u_t - {u_t}^*) $\n",
    "\n",
    "&nbsp;&nbsp;&nbsp;&nbsp;&nbsp;&nbsp;&nbsp;&nbsp;&nbsp;\n",
    "$ (1 - \\lambda){\\pi}_t = (1 - \\lambda){\\pi}_{t-1} - {\\beta}(u_t - {u_t}^*) $\n",
    "\n",
    "&nbsp;&nbsp;&nbsp;&nbsp;&nbsp;&nbsp;&nbsp;&nbsp;&nbsp;\n",
    "$ {\\pi}_t = {\\pi}_{t-1} - \\frac{{\\beta}(u_t - {u_t}^*)}{(1 - \\lambda)} $\n",
    "\n",
    "An extra $ \\frac{1}{1- \\lambda} $ term appears multiplying the effect of the unemployment rate gap"
   ]
  },
  {
   "cell_type": "code",
   "execution_count": 28,
   "metadata": {},
   "outputs": [
    {
     "name": "stdout",
     "output_type": "stream",
     "text": [
      "pi_year1_PS11taskF =  0.039999999999999994\n",
      "pi_year2_PS11taskF =  0.05999999999999999\n",
      "pi_year3_PS11taskF =  0.07999999999999999\n",
      "pi_year4_PS11taskF =  0.09999999999999998\n",
      "pi_year5_PS11taskF =  0.11999999999999997\n",
      "pi_year6_PS11taskF =  0.13999999999999996\n",
      "pi_year7_PS11taskF =  0.15999999999999995\n",
      "pi_year8_PS11taskF =  0.17999999999999994\n",
      "pi_year9_PS11taskF =  0.19999999999999993\n",
      "pi_year10_PS11taskF =  0.21999999999999992\n"
     ]
    }
   ],
   "source": [
    "# ANSWER CODE CELL FOR TASK F INITIAL\n",
    "\n",
    "pi_star = 0.02\n",
    "u_star = 0.06\n",
    "beta = 1/2\n",
    "unemp = 0.04\n",
    "lambda_ = 0.5\n",
    "\n",
    "pi_year1_PS11taskF = pi_star - beta * (unemp - u_star)/(1-lambda_)\n",
    "pi_star = pi_year1_PS11taskF\n",
    "\n",
    "pi_year2_PS11taskF = pi_star - beta * (unemp - u_star)/(1-lambda_)\n",
    "pi_star = pi_year2_PS11taskF\n",
    "\n",
    "pi_year3_PS11taskF = pi_star - beta * (unemp - u_star)/(1-lambda_)\n",
    "pi_star = pi_year3_PS11taskF\n",
    "\n",
    "pi_year4_PS11taskF = pi_star - beta * (unemp - u_star)/(1-lambda_)\n",
    "pi_star = pi_year4_PS11taskF\n",
    "\n",
    "pi_year5_PS11taskF = pi_star - beta * (unemp - u_star)/(1-lambda_)\n",
    "pi_star = pi_year5_PS11taskF\n",
    "\n",
    "pi_year6_PS11taskF = pi_star - beta * (unemp - u_star)/(1-lambda_)\n",
    "pi_star = pi_year6_PS11taskF\n",
    "\n",
    "pi_year7_PS11taskF = pi_star - beta * (unemp - u_star)/(1-lambda_)\n",
    "pi_star = pi_year7_PS11taskF\n",
    "\n",
    "pi_year8_PS11taskF = pi_star - beta * (unemp - u_star)/(1-lambda_)\n",
    "pi_star = pi_year8_PS11taskF\n",
    "\n",
    "pi_year9_PS11taskF = pi_star - beta * (unemp - u_star)/(1-lambda_)\n",
    "pi_star = pi_year9_PS11taskF\n",
    "\n",
    "pi_year10_PS11taskF = pi_star - beta * (unemp - u_star)/(1-lambda_)\n",
    "\n",
    "\n",
    "print('pi_year1_PS11taskF = ', pi_year1_PS11taskF)\n",
    "print('pi_year2_PS11taskF = ', pi_year2_PS11taskF)\n",
    "print('pi_year3_PS11taskF = ', pi_year3_PS11taskF)\n",
    "print('pi_year4_PS11taskF = ', pi_year4_PS11taskF)\n",
    "print('pi_year5_PS11taskF = ', pi_year5_PS11taskF)\n",
    "print('pi_year6_PS11taskF = ', pi_year6_PS11taskF)\n",
    "print('pi_year7_PS11taskF = ', pi_year7_PS11taskF)\n",
    "print('pi_year8_PS11taskF = ', pi_year8_PS11taskF)\n",
    "print('pi_year9_PS11taskF = ', pi_year9_PS11taskF)\n",
    "print('pi_year10_PS11taskF = ', pi_year10_PS11taskF)"
   ]
  },
  {
   "cell_type": "code",
   "execution_count": 29,
   "metadata": {},
   "outputs": [
    {
     "name": "stdout",
     "output_type": "stream",
     "text": [
      "~~~~~~~~~~~~~~~~~~~~~~~~~~~~~~~~~~~~~~~~~~~~~~~~~~~~~~~~~~~~~~~~~~~~~\n",
      "Running tests\n",
      "\n",
      "---------------------------------------------------------------------\n",
      "Test summary\n",
      "    Passed: 10\n",
      "    Failed: 0\n",
      "[ooooooooook] 100.0% passed\n",
      "\n"
     ]
    },
    {
     "data": {
      "text/plain": [
       "{'failed': 0, 'locked': 0, 'passed': 10}"
      ]
     },
     "execution_count": 29,
     "metadata": {},
     "output_type": "execute_result"
    }
   ],
   "source": [
    "# TASK F ANSWER CHECK\n",
    "\n",
    "import numpy as np\n",
    "ok.grade('q05')"
   ]
  },
  {
   "cell_type": "markdown",
   "metadata": {},
   "source": [
    "### (Task F): The Phillips Curve and Hybrid Expectations (Final)\n",
    "\n",
    "If everything worked out well, you would have found that each year inflation jumps not by $ - \\beta (u - r^*) $ but rather by:\n",
    "\n",
    "&nbsp;&nbsp;&nbsp;&nbsp;&nbsp;&nbsp;&nbsp;&nbsp;&nbsp;\n",
    "$ - \\frac{\\beta (u - r^*)}{1 - \\lambda} $\n",
    "\n",
    "Why? Because some of inflation expectations are formed not in a backward but a forward looking manner: people take account of the fact that inflation is rising in forming their expectations, and then take account of the fact that people are taking account of the fact that inflation is rising, and then take account of the fact that people are taking account of the fact that people are taking account of the fact that inflation is rising, and so forth...\n",
    "\n",
    "It was the worry about this dynamic that led Paul Volcker back in the day, back at the end of the 1970s and beginning of the 1980s, to make controlling inflation job #1 at whatever cost in terms of a deep recession it generated. Dealing with inflation and unemployment when inflation was adaptive—when every upward kick in inflation from a supply shock get permanently incorporated into next year's inflation rate—was annoying. But should inflation expectations become substantially \"rational\" than the situation would become even less controllable.\n",
    "\n",
    "----\n",
    "\n",
    "&nbsp;"
   ]
  },
  {
   "cell_type": "markdown",
   "metadata": {},
   "source": [
    "### (Task G): Near-Rational Inflation Expectations (Initial)\n",
    "\n",
    "What would inflation be in year 10 $ {\\pi}_{10} $ if $\\lambda $ were 0.9? Set\n",
    "\n",
    "    pi_year10lambapoint9_PS11taskF\n",
    "    \n",
    "to the appropriate value in the code cell below"
   ]
  },
  {
   "cell_type": "code",
   "execution_count": 30,
   "metadata": {
    "collapsed": true
   },
   "outputs": [],
   "source": [
    "# TASK G CODE \n",
    "\n",
    "# pi_year10lambapoint9_PS11taskG = "
   ]
  },
  {
   "cell_type": "code",
   "execution_count": 31,
   "metadata": {
    "collapsed": true
   },
   "outputs": [],
   "source": [
    "# ANSWER TASK G CODE FINAL\n",
    "\n",
    "pi_year10lambapoint9_PS11taskG = 2.02"
   ]
  },
  {
   "cell_type": "code",
   "execution_count": 32,
   "metadata": {},
   "outputs": [
    {
     "name": "stdout",
     "output_type": "stream",
     "text": [
      "~~~~~~~~~~~~~~~~~~~~~~~~~~~~~~~~~~~~~~~~~~~~~~~~~~~~~~~~~~~~~~~~~~~~~\n",
      "Running tests\n",
      "\n",
      "---------------------------------------------------------------------\n",
      "Test summary\n",
      "    Passed: 1\n",
      "    Failed: 0\n",
      "[ooooooooook] 100.0% passed\n",
      "\n"
     ]
    },
    {
     "data": {
      "text/plain": [
       "{'failed': 0, 'locked': 0, 'passed': 1}"
      ]
     },
     "execution_count": 32,
     "metadata": {},
     "output_type": "execute_result"
    }
   ],
   "source": [
    "# TASK G ANSWER CHECK\n",
    "\n",
    "import numpy as np\n",
    "ok.grade('q06')"
   ]
  },
  {
   "cell_type": "markdown",
   "metadata": {},
   "source": [
    "### TASK G: Near-Rational Inflation Expectations (Final)\n",
    "\n",
    "If everything worked out well, you would have found that each year inflation jumps not by $ - \\beta (u - r^*) $ but rather by:\n",
    "\n",
    "&nbsp;&nbsp;&nbsp;&nbsp;&nbsp;&nbsp;&nbsp;&nbsp;&nbsp;\n",
    "$ - \\frac{\\beta (u - r^*)}{1 - \\lambda} $\n",
    "\n",
    "Why? Because most of inflation expectations are formed not in a backward but a forward looking manner: people take account of the fact that inflation is rising in forming their expectations, and then take account of the fact that people are taking account of the fact that inflation is rising, and then take account of the fact that people are taking account of the fact that people are taking account of the fact that inflation is rising, and so forth..."
   ]
  },
  {
   "cell_type": "code",
   "execution_count": 33,
   "metadata": {},
   "outputs": [
    {
     "data": {
      "application/javascript": [
       "IPython.notebook.save_checkpoint();"
      ],
      "text/plain": [
       "<IPython.core.display.Javascript object>"
      ]
     },
     "metadata": {},
     "output_type": "display_data"
    },
    {
     "data": {
      "application/javascript": [
       "IPython.notebook.save_notebook();"
      ],
      "text/plain": [
       "<IPython.core.display.Javascript object>"
      ]
     },
     "metadata": {},
     "output_type": "display_data"
    },
    {
     "name": "stdout",
     "output_type": "stream",
     "text": [
      "Saving notebook... Saved 'PS11.ipynb'.\n",
      "Submit... 100% complete\n",
      "Submission successful for user: jbdelong@berkeley.edu\n",
      "URL: https://okpy.org/cal/econ101b/sp18/PS11/submissions/Z4JqKR\n",
      "\n"
     ]
    }
   ],
   "source": [
    "_ = ok.submit()"
   ]
  }
 ],
 "metadata": {
  "celltoolbar": "Edit Metadata",
  "kernelspec": {
   "display_name": "Python 3",
   "language": "python",
   "name": "python3"
  },
  "language_info": {
   "codemirror_mode": {
    "name": "ipython",
    "version": 3
   },
   "file_extension": ".py",
   "mimetype": "text/x-python",
   "name": "python",
   "nbconvert_exporter": "python",
   "pygments_lexer": "ipython3",
   "version": "3.6.1"
  }
 },
 "nbformat": 4,
 "nbformat_minor": 2
}
